{
 "cells": [
  {
   "cell_type": "code",
   "execution_count": null,
   "metadata": {},
   "outputs": [],
   "source": [
    "\n",
    "What is the probability of getting a number between 0.5 and 0.6 when drawing uniformly distributed random numbers \n",
    "from the interval [0,1)? To answer this question empirically, let a program draw N such random numbers using \n",
    "Python's standard random module, count how many of them, M, that fall in the interval [0.5,0.6], and compute the \n",
    "probability as M/N. Run the program with the four values N=10i for i=1,2,3,6. \n",
    "                                                                                                                                     \n",
    "                                                                                                                                     "
   ]
  },
  {
   "cell_type": "code",
   "execution_count": 67,
   "metadata": {},
   "outputs": [],
   "source": [
    "def uniform_distribution(l):\n",
    "    from collections import defaultdict\n",
    "    import numpy as np\n",
    "    prob={}\n",
    "    \n",
    "    d=defaultdict(list)\n",
    "    for i in l:\n",
    "        \n",
    "        d[i].append(np.round(np.random.uniform(0, 1, (10*i)), 2))\n",
    "  \n",
    "    for k, v in d.items():   \n",
    "        n=0\n",
    "        for i in v[0]:#is it possible to avoid O(N^2)\n",
    "            if i>0.5 and i<0.6:\n",
    "                n+=1\n",
    "        print(n)\n",
    "        prob[k]=n/len(v)\n",
    "\n",
    "    return prob\n",
    "                \n",
    "       \n",
    "        \n",
    "\n",
    "# total=len(d[i])"
   ]
  },
  {
   "cell_type": "code",
   "execution_count": 68,
   "metadata": {},
   "outputs": [
    {
     "name": "stdout",
     "output_type": "stream",
     "text": [
      "1\n",
      "2\n",
      "3\n",
      "2\n"
     ]
    },
    {
     "data": {
      "text/plain": [
       "{1: 1.0, 2: 2.0, 3: 3.0, 6: 2.0}"
      ]
     },
     "execution_count": 68,
     "metadata": {},
     "output_type": "execute_result"
    }
   ],
   "source": [
    "uniform_distribution([1,2,3,6])"
   ]
  }
 ],
 "metadata": {
  "kernelspec": {
   "display_name": "Python 3",
   "language": "python",
   "name": "python3"
  },
  "language_info": {
   "codemirror_mode": {
    "name": "ipython",
    "version": 3
   },
   "file_extension": ".py",
   "mimetype": "text/x-python",
   "name": "python",
   "nbconvert_exporter": "python",
   "pygments_lexer": "ipython3",
   "version": "3.7.4"
  }
 },
 "nbformat": 4,
 "nbformat_minor": 2
}
