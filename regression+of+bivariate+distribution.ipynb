{
 "cells": [
  {
   "cell_type": "code",
   "execution_count": null,
   "metadata": {
    "collapsed": true
   },
   "outputs": [],
   "source": [
    "If the two regression lines of a bivariate distribution are 4x – 5y + 33 = 0 and 20x – 9y – 107 = 0,\n",
    "1. calculate the arithmetic means of x and y respectively.\n",
    "2. estimate the value of x when y = 7\n",
    "3. find the variance of y when σx (standard deviation of x) = 3.\n",
    "\n",
    "\n",
    "To calculate the mean of x and y, we just have to treat the equations like how we solve the system of \n",
    "equations and solve for x and y value. But turns out by 'method of moments' concept the value will\n",
    "be equal of mean values of x and y.\n",
    "\n",
    "Method of moments (https://www.hackerrank.com/challenges/correlation-and-regression-lines-3/forum)\n",
    "For each of them apply the method of moments (alfa=Mean_y - beta * Mean_x):\n",
    "The justification of this estimation procedure, which is know as the method of moments, is that, \n",
    "in many of the circumstances under which the sample is liable to be generated, we can expect \n",
    "the sample moments to converge to the true moments of the bivariate distribution, thereby \n",
    "causing the estimates of the parameters to converge likewise to their true values\" \n",
    "\n",
    "\n",
    "SOLUTION : –\n",
    "We have,\n",
    "\n",
    "4x – 5y + 33 = 0 => y = 4x/5 + 33/5 ————— (i)\n",
    "\n",
    "And\n",
    "\n",
    "20x – 9y – 107 = 0 => x = 9y/20 + 107/20 ————- (ii) #Regression of x on y\n",
    "\n",
    "1. Solving (i) and (ii) we get, mean of x = 13 and mean of y = 17\n",
    "\n",
    "2. Second line is line of x on y\n",
    "\n",
    "x = (9/20) × 7 + (107/20) = 170/20 = 8.5\n",
    "\n",
    "3. x = r*(σy/σx) (here r is correlation coefficient\n",
    "                  \n",
    "Actually we can find r=Sxy/SQRT(Sxx)*SQRT(Syy)\n",
    "Turns out Sxy/Sxx is the beta0 from the regression of x on y\n",
    "and similar concept applies to find Syx/Syy from the regression of y on x \n",
    "\n",
    "r can thus be calculated as 0.6\n",
    "x in the above equation can be calculated from the beta0 of Regression of x on y which is 9/20\n",
    "by substituting these values the variance of y can be calculated as follows\n",
    "                  \n",
    "σy = (4/5)(3/0.6) = 4^2=16\n",
    "\n"
   ]
  }
 ],
 "metadata": {
  "kernelspec": {
   "display_name": "Python 3",
   "language": "python",
   "name": "python3"
  },
  "language_info": {
   "codemirror_mode": {
    "name": "ipython",
    "version": 3
   },
   "file_extension": ".py",
   "mimetype": "text/x-python",
   "name": "python",
   "nbconvert_exporter": "python",
   "pygments_lexer": "ipython3",
   "version": "3.6.1"
  }
 },
 "nbformat": 4,
 "nbformat_minor": 2
}
