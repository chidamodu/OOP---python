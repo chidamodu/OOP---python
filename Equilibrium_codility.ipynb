{
 "cells": [
  {
   "cell_type": "code",
   "execution_count": 37,
   "metadata": {},
   "outputs": [],
   "source": [
    "Yay! my code works!\n",
    "\n",
    "def equilibrium(A):\n",
    "    result=[]\n",
    "    \n",
    "    for i in range(1, len(A)):\n",
    "        if i+1<len(A):#the important thing to do here is to compare whether i+1 is less than len(A) otherwise will face\n",
    "            #out of index error\n",
    "            if sum(A[:i])==sum(A[i+1:]):\n",
    "                result.append(i)\n",
    "                \n",
    "        elif i+1==len(A):\n",
    "            if sum(A[:i])==0:\n",
    "                result.append(i)\n",
    "\n",
    "                \n",
    "    return result if result else -1\n",
    "                \n",
    "            \n",
    "        \n",
    "        "
   ]
  },
  {
   "cell_type": "code",
   "execution_count": 38,
   "metadata": {},
   "outputs": [
    {
     "data": {
      "text/plain": [
       "[1, 3, 7]"
      ]
     },
     "execution_count": 38,
     "metadata": {},
     "output_type": "execute_result"
    }
   ],
   "source": [
    "equilibrium([-1,3,-4,5,1,-6,2,1])"
   ]
  },
  {
   "cell_type": "code",
   "execution_count": null,
   "metadata": {},
   "outputs": [],
   "source": [
    "[-1,3,-4,5,1,-6,2,1]\n",
    "\n",
    "[0,-1,9,0]"
   ]
  }
 ],
 "metadata": {
  "kernelspec": {
   "display_name": "Python 3",
   "language": "python",
   "name": "python3"
  },
  "language_info": {
   "codemirror_mode": {
    "name": "ipython",
    "version": 3
   },
   "file_extension": ".py",
   "mimetype": "text/x-python",
   "name": "python",
   "nbconvert_exporter": "python",
   "pygments_lexer": "ipython3",
   "version": "3.7.4"
  }
 },
 "nbformat": 4,
 "nbformat_minor": 2
}
