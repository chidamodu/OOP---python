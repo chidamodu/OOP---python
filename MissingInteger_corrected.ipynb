{
 "cells": [
  {
   "cell_type": "code",
   "execution_count": 69,
   "metadata": {},
   "outputs": [],
   "source": [
    "Yay! My code rocks!\n",
    "def solution(A):\n",
    "    res=[]\n",
    "    if len(A)==0:\n",
    "        return 0\n",
    "    else:\n",
    "        A=sorted(A)\n",
    "        if A[-1]<0:\n",
    "            return 1\n",
    "        else:\n",
    "            for i in range(len(A)-1):\n",
    "                if (abs(A[i+1]-A[i])<=1) or (abs(A[i+1]-A[i])==0):\n",
    "                    continue\n",
    "                else:\n",
    "                    res.append(A[i])\n",
    "                    \n",
    "                    \n",
    "    \n",
    "    \n",
    "    \n",
    "    if not res:\n",
    "        return A[-1]+1\n",
    "    \n",
    "    elif res[0]>1:\n",
    "        return res[0]+1\n",
    "                         \n",
    "    else:\n",
    "        return 1\n",
    "    \n",
    "\n",
    "        \n",
    "    \n",
    "        \n",
    "                    \n",
    "#     return min(res[0]) if res else A[-1]+1\n",
    "                        \n",
    "                        \n",
    "# for i in range(1, res[0]):\n",
    "#             if i in A:\n",
    "#                 continue\n",
    "#             else:\n",
    "#                 res.append(i)    \n",
    "            \n",
    "           "
   ]
  },
  {
   "cell_type": "code",
   "execution_count": 70,
   "metadata": {},
   "outputs": [
    {
     "data": {
      "text/plain": [
       "1"
      ]
     },
     "execution_count": 70,
     "metadata": {},
     "output_type": "execute_result"
    }
   ],
   "source": [
    "solution([-1,-1,-1,2,3])"
   ]
  },
  {
   "cell_type": "code",
   "execution_count": 38,
   "metadata": {},
   "outputs": [
    {
     "data": {
      "text/plain": [
       "True"
      ]
     },
     "execution_count": 38,
     "metadata": {},
     "output_type": "execute_result"
    }
   ],
   "source": [
    "fog=[-4]\n",
    "\n",
    "fog[0]<0"
   ]
  },
  {
   "cell_type": "code",
   "execution_count": null,
   "metadata": {},
   "outputs": [],
   "source": [
    "[-100000, 4, 56, 78, 200000000]   : extreme_min_max_value \n",
    "    \n"
   ]
  }
 ],
 "metadata": {
  "kernelspec": {
   "display_name": "Python 3",
   "language": "python",
   "name": "python3"
  },
  "language_info": {
   "codemirror_mode": {
    "name": "ipython",
    "version": 3
   },
   "file_extension": ".py",
   "mimetype": "text/x-python",
   "name": "python",
   "nbconvert_exporter": "python",
   "pygments_lexer": "ipython3",
   "version": "3.7.4"
  }
 },
 "nbformat": 4,
 "nbformat_minor": 2
}
