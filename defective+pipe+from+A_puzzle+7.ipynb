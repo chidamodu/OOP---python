{
 "cells": [
  {
   "cell_type": "code",
   "execution_count": null,
   "metadata": {
    "collapsed": true
   },
   "outputs": [],
   "source": [
    "#5.07 - 5.11\n",
    "\n",
    "Task \n",
    "A firm produces steel pipes in three plants.\n",
    "\n",
    "Plant A produces 500 units per day and has a fraction defective output of 0.005.\n",
    "Plant B produces 1000 units per day and has a fraction defective output of 0.008.\n",
    "Plant C produces 2000 units per day and has a fraction defective output of 0.010.\n",
    "At random, a pipe is selected from the day’s total production and it is found to be defective.\n",
    "What is the probability that it came from plant A?\n",
    "\n",
    "prob a pipe from A: 0.005*500=2.5\n",
    "prob a pipe from B: 1000*0.008 = 8\n",
    "prob a pipe from C: 2000*0.010=20\n",
    "    \n",
    "Ans: \n",
    "2.5/(2.5+8+20) = 5/61"
   ]
  }
 ],
 "metadata": {
  "kernelspec": {
   "display_name": "Python 3",
   "language": "python",
   "name": "python3"
  },
  "language_info": {
   "codemirror_mode": {
    "name": "ipython",
    "version": 3
   },
   "file_extension": ".py",
   "mimetype": "text/x-python",
   "name": "python",
   "nbconvert_exporter": "python",
   "pygments_lexer": "ipython3",
   "version": "3.6.1"
  }
 },
 "nbformat": 4,
 "nbformat_minor": 2
}
