{
 "cells": [
  {
   "cell_type": "code",
   "execution_count": 96,
   "metadata": {},
   "outputs": [],
   "source": [
    "Count the number of lines, words, and characters in a text file\n",
    "#     '''\n",
    "#     INPUT: STRING\n",
    "#     OUTPUT: INT, INT, INT (a tuple with line, word,\n",
    "#                            and character count of named INPUT file)\n",
    "#     The INPUT filename is the name of a text file.\n",
    "#     The OUTPUT is a tuple containting (in order)\n",
    "#     the following stats for the text file:\n",
    "#       1. number of lines\n",
    "#       2. number of words (broken by whitespace)\n",
    "#       3. number of characters\n",
    "#     '''\n",
    "\n",
    "def word_count(filename):\n",
    "    num_char=0\n",
    "    import collections\n",
    "    with open (filename, 'r') as f:\n",
    "        for i in f:\n",
    "            num_line_count=i.strip().count('.')#number of lines in the file\n",
    "            num_word=i.split(' ')#collections.Counter(num_word) will return a count of every word in the file\n",
    "            num_char+=len(i)#number of characters in the file#len(i) gives the length of each line by counting the number of characters in the line\n",
    "    return (num_line_count, len(num_word), num_char)\n",
    "            "
   ]
  },
  {
   "cell_type": "code",
   "execution_count": 97,
   "metadata": {},
   "outputs": [
    {
     "data": {
      "text/plain": [
       "(2, 63, 369)"
      ]
     },
     "execution_count": 97,
     "metadata": {},
     "output_type": "execute_result"
    }
   ],
   "source": [
    "word_count('filename')"
   ]
  },
  {
   "cell_type": "code",
   "execution_count": 110,
   "metadata": {
    "collapsed": true
   },
   "outputs": [],
   "source": [
    "#Given two list of lists, multiply them using numpy \n",
    "'''\n",
    "    INPUT: LIST (of length n) OF LIST (of length n) OF INTEGERS,\n",
    "            LIST (of length n) OF LIST (of length n) OF INTEGERS\n",
    "    OUTPUT: LIST OF LIST OF INTEGERS\n",
    "            (storing the product of a matrix multiplication operation)\n",
    "    Return the matrix which is the product of matrix A and matrix B\n",
    "    where A and B will be (a) integer valued (b) square matrices\n",
    "    (c) of size n-by-n (d) encoded as lists of lists.\n",
    "    \n",
    "    For example:\n",
    "    A = [[2, 3, 4], [6, 4, 2], [-1, 2, 0]] corresponds to the matrix\n",
    "        | 2  3  4 |\n",
    "        | 6  4  2 |\n",
    "        |-1  2  0 |\n",
    "    \n",
    "    Please do not use numpy. Write your solution in straight python.\n",
    "    '''\n",
    "\n",
    "def matrix_multiplication(A, B):\n",
    "    import numpy as np\n",
    "    A_num=np.array(A)\n",
    "    B_num=np.array(B)\n",
    "    return np.matmul(A_num,B_num)\n",
    "    \n"
   ]
  },
  {
   "cell_type": "code",
   "execution_count": 111,
   "metadata": {},
   "outputs": [
    {
     "data": {
      "text/plain": [
       "array([[17, 12, 13],\n",
       "       [16, 16, 24],\n",
       "       [ 1, -2, -1]])"
      ]
     },
     "execution_count": 111,
     "metadata": {},
     "output_type": "execute_result"
    }
   ],
   "source": [
    "A = [[2, 3, 4], [6, 4, 2], [-1, 2, 0]]\n",
    "B=[[1,2,3], [1,0,1], [3,2,1]]\n",
    "\n",
    "matrix_multiplication(A, B)"
   ]
  },
  {
   "cell_type": "code",
   "execution_count": 200,
   "metadata": {
    "collapsed": true
   },
   "outputs": [],
   "source": [
    "#Given two list of lists, multiply them using numpy.the above matrix multiplication problem without using numpy\n",
    "def matrix_multiplication(A, B):\n",
    "    B_new=list(zip(*B))\n",
    "    #print(B_new)\n",
    "    return [[sum(a*b for a, b in zip(row_a, col_b)) for col_b in B_new] for row_a in A]\n",
    "\n"
   ]
  },
  {
   "cell_type": "code",
   "execution_count": 201,
   "metadata": {},
   "outputs": [
    {
     "data": {
      "text/plain": [
       "[[17, 12, 13], [16, 16, 24], [1, -2, -1]]"
      ]
     },
     "execution_count": 201,
     "metadata": {},
     "output_type": "execute_result"
    }
   ],
   "source": [
    "A = [[2, 3, 4], [6, 4, 2], [-1, 2, 0]]\n",
    "B=[[1,2,3], [1,0,1], [3,2,1]]\n",
    "\n",
    "matrix_multiplication(A, B)"
   ]
  },
  {
   "cell_type": "code",
   "execution_count": 150,
   "metadata": {},
   "outputs": [
    {
     "data": {
      "text/plain": [
       "[2, 0, 2]"
      ]
     },
     "execution_count": 150,
     "metadata": {},
     "output_type": "execute_result"
    }
   ],
   "source": [
    "A = [[2, 3, 4], [6, 4, 2], [-1, 2, 0]]\n",
    "B=[[1,2,3], [1,0,1], [3,2,1]]\n",
    "\n",
    "matrix_multiplication(A, B)"
   ]
  },
  {
   "cell_type": "code",
   "execution_count": 151,
   "metadata": {},
   "outputs": [
    {
     "data": {
      "text/plain": [
       "[(2, 6, -1), (3, 4, 2), (4, 2, 0)]"
      ]
     },
     "execution_count": 151,
     "metadata": {},
     "output_type": "execute_result"
    }
   ],
   "source": [
    "A = [[2, 3, 4], [6, 4, 2], [-1, 2, 0]]\n",
    "list(zip(*A))"
   ]
  },
  {
   "cell_type": "code",
   "execution_count": 152,
   "metadata": {},
   "outputs": [
    {
     "data": {
      "text/plain": [
       "[[1, 1, 3], [2, 0, 2], [3, 1, 1]]"
      ]
     },
     "execution_count": 152,
     "metadata": {},
     "output_type": "execute_result"
    }
   ],
   "source": [
    "#To transpose a matrix without using numpy and not using zip\n",
    "B=[[1,2,3], [1,0,1], [3,2,1]]\n",
    "[[row[i] for row in B] for i in range(len(B[0]))]"
   ]
  },
  {
   "cell_type": "code",
   "execution_count": 172,
   "metadata": {},
   "outputs": [],
   "source": [
    "#to understand the the nested loop in the immediate above cell\n",
    "# B=[[1,2,3], [1,0,1], [3,2,1]]\n",
    "# res=[]\n",
    "# for i in range(len(B[0])):\n",
    "#     for row in B:\n",
    "#         res.append([])\n",
    "#         res[i].append(row[i])\n",
    "# print(res)\n",
    "        "
   ]
  },
  {
   "cell_type": "code",
   "execution_count": 170,
   "metadata": {
    "collapsed": true
   },
   "outputs": [],
   "source": [
    "#To find dot product without using numpy\n",
    "def dot(v1, v2, v3):\n",
    "    return sum(x*y*z for x,y,z in zip(v1,v2,v3))"
   ]
  },
  {
   "cell_type": "code",
   "execution_count": 171,
   "metadata": {},
   "outputs": [
    {
     "data": {
      "text/plain": [
       "12"
      ]
     },
     "execution_count": 171,
     "metadata": {},
     "output_type": "execute_result"
    }
   ],
   "source": [
    "dot([1, 1, 3], [2, 0, 2], [3, 1, 1])"
   ]
  },
  {
   "cell_type": "code",
   "execution_count": 189,
   "metadata": {},
   "outputs": [
    {
     "name": "stdout",
     "output_type": "stream",
     "text": [
      "[17, 12, 13, 16, 16, 24, 1, -2, -1]\n"
     ]
    }
   ],
   "source": [
    "A = [[2, 3, 4], [6, 4, 2], [-1, 2, 0]]\n",
    "B=[[1, 1, 3], [2, 0, 2], [3, 1, 1]]\n",
    "ans=[]\n",
    "for i in A:\n",
    "    for j in B:\n",
    "        ans.append(sum(f*g for f,g in zip(i, j)))\n",
    "# i=0\n",
    "# new_list=[]\n",
    "# while i<len(ans):\n",
    "#     new_list.append(ans[i:i+3])\n",
    "#     i+=3\n",
    "# print(new_list)\n",
    "print(ans)"
   ]
  },
  {
   "cell_type": "code",
   "execution_count": 190,
   "metadata": {},
   "outputs": [
    {
     "name": "stdout",
     "output_type": "stream",
     "text": [
      "[[17, 12, 13], [16, 16, 24], [1, -2, -1]]\n"
     ]
    }
   ],
   "source": [
    "#tried a roundabout way-look above for a concise solution\n",
    "A = [[2, 3, 4], [6, 4, 2], [-1, 2, 0]]\n",
    "B=[[1, 1, 3], [2, 0, 2], [3, 1, 1]]\n",
    "ans=[]\n",
    "for i in A:\n",
    "    for j in B:\n",
    "        ans.append(sum(f*g for f,g in zip(i, j)))\n",
    "#the following part is to append each result as a separate list to the resulting list - definitely not a pythonic solution\n",
    "i=0\n",
    "new_list=[]\n",
    "while i<len(ans):\n",
    "    new_list.append(ans[i:i+3])\n",
    "    i+=3\n",
    "print(new_list)"
   ]
  }
 ],
 "metadata": {
  "kernelspec": {
   "display_name": "Python [conda root]",
   "language": "python",
   "name": "conda-root-py"
  },
  "language_info": {
   "codemirror_mode": {
    "name": "ipython",
    "version": 3
   },
   "file_extension": ".py",
   "mimetype": "text/x-python",
   "name": "python",
   "nbconvert_exporter": "python",
   "pygments_lexer": "ipython3",
   "version": "3.5.4"
  }
 },
 "nbformat": 4,
 "nbformat_minor": 2
}
