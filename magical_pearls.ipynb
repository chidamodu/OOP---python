{
 "cells": [
  {
   "cell_type": "code",
   "execution_count": 29,
   "metadata": {},
   "outputs": [
    {
     "name": "stdout",
     "output_type": "stream",
     "text": [
      "7\n",
      "2 4 1 2 10 2 3\n",
      "59\n"
     ]
    }
   ],
   "source": [
    "#10.51 11.08 (awesome timing! You rock girl!!!)\n",
    "#Magical Pearls\n",
    "def magical_pearls():\n",
    "    res=[]\n",
    "    num_arr=int(input())\n",
    "    arr=list(map(int, input().split()))\n",
    "    while len(arr)>2:\n",
    "        v1=min(arr)\n",
    "        arr.remove(v1)\n",
    "        v2=min(arr)\n",
    "        arr.remove(v2)\n",
    "        res.append(v1+v2)\n",
    "        arr.append(v1+v2)\n",
    "    last=sum(arr)\n",
    "    res.append(last)\n",
    "    if sum(res)>10**9:\n",
    "        print(sum(res)%((10**9) + 7))\n",
    "    else:\n",
    "        print(sum(res))\n",
    "        \n",
    "magical_pearls()"
   ]
  }
 ],
 "metadata": {
  "kernelspec": {
   "display_name": "Python 3",
   "language": "python",
   "name": "python3"
  },
  "language_info": {
   "codemirror_mode": {
    "name": "ipython",
    "version": 3
   },
   "file_extension": ".py",
   "mimetype": "text/x-python",
   "name": "python",
   "nbconvert_exporter": "python",
   "pygments_lexer": "ipython3",
   "version": "3.6.1"
  }
 },
 "nbformat": 4,
 "nbformat_minor": 2
}
