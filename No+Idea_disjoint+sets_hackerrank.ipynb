{
 "cells": [
  {
   "cell_type": "code",
   "execution_count": 23,
   "metadata": {},
   "outputs": [
    {
     "name": "stdout",
     "output_type": "stream",
     "text": [
      "3\n",
      "3\n",
      "2\n",
      "1\n",
      "5\n",
      "3\n",
      "3\n",
      "5\n",
      "1\n",
      "7\n",
      "1\n"
     ]
    }
   ],
   "source": [
    "# No Idea!\n",
    "#9.54 : 10.23\n",
    "\n",
    "def no_idea(arr, A, B):\n",
    "    happiness=0\n",
    "    for i in arr:\n",
    "        if i in A:\n",
    "            happiness+=1\n",
    "        elif i in B:\n",
    "            happiness-=1\n",
    "            \n",
    "    print(happiness)   \n",
    " \n",
    "    \n",
    "if __name__==\"__main__\":\n",
    "    arr=[]\n",
    "    A=[]\n",
    "    B=[]\n",
    "    num_array=input()\n",
    "    print(num_array)\n",
    "    num_set=input()\n",
    "    c=int(num_array)\n",
    "    c2=int(num_set)\n",
    "    while c:\n",
    "        gate=input()\n",
    "        arr.append(gate)\n",
    "        c-=1\n",
    "    while c2:\n",
    "        A.append(input())\n",
    "        B.append(input())\n",
    "        c2-=1\n",
    "    \n",
    "    no_idea(arr, set(A), set(B))\n",
    "\n",
    "    \n",
    "        \n",
    "        \n",
    "        "
   ]
  },
  {
   "cell_type": "code",
   "execution_count": 9,
   "metadata": {},
   "outputs": [
    {
     "data": {
      "text/plain": [
       "{'1', '3'}"
      ]
     },
     "execution_count": 9,
     "metadata": {},
     "output_type": "execute_result"
    }
   ],
   "source": [
    "A='113'\n",
    "set(A)"
   ]
  },
  {
   "cell_type": "code",
   "execution_count": 29,
   "metadata": {},
   "outputs": [
    {
     "name": "stdout",
     "output_type": "stream",
     "text": [
      "3 2\n",
      "1 5 3\n",
      "3 1\n",
      "5 7\n",
      "1\n"
     ]
    }
   ],
   "source": [
    "#Hackerrank submission\n",
    "def no_idea(arr, A, B):\n",
    "    happiness=0\n",
    "    for i in arr:\n",
    "        if i in A:\n",
    "            happiness+=1\n",
    "        elif i in B:\n",
    "            happiness-=1         \n",
    "    print(happiness)   \n",
    " \n",
    "    \n",
    "if __name__==\"__main__\":\n",
    "    A=[]\n",
    "    B=[]\n",
    "    input_values=input().split()\n",
    "    num_array=int(input_values[0])\n",
    "    num_set=int(input_values[1])\n",
    "    arr=list(input().split())    \n",
    "    A=set(input().split())\n",
    "    B=set(input().split())    \n",
    "    no_idea(arr, set(A), set(B))\n",
    "\n",
    "    \n",
    "        \n",
    "        \n",
    "        "
   ]
  }
 ],
 "metadata": {
  "kernelspec": {
   "display_name": "Python 3",
   "language": "python",
   "name": "python3"
  },
  "language_info": {
   "codemirror_mode": {
    "name": "ipython",
    "version": 3
   },
   "file_extension": ".py",
   "mimetype": "text/x-python",
   "name": "python",
   "nbconvert_exporter": "python",
   "pygments_lexer": "ipython3",
   "version": "3.6.1"
  }
 },
 "nbformat": 4,
 "nbformat_minor": 2
}
