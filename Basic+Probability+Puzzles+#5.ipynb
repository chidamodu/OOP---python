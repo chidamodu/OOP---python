{
 "cells": [
  {
   "cell_type": "code",
   "execution_count": null,
   "metadata": {
    "collapsed": true
   },
   "outputs": [],
   "source": [
    "#4.35 - 4.43\n",
    "\n",
    "Objective \n",
    "In this challenge, we practice calculating probability.\n",
    "\n",
    "The idea is: circular probability, i.e., the probability to seat people in a circular arrangement.\n",
    "\n",
    "total probability:(n!/n) = 10!/10 = 9!\n",
    "the probability of seating 2 people (beacause next to each other) as 1 would give as: 9!/9=8!\n",
    "the probability of 2 people sitting together is given by: 2!=2\n",
    "    \n",
    "therefore answer=(8! * 2)/9! = 2/9\n",
    "\n"
   ]
  }
 ],
 "metadata": {
  "kernelspec": {
   "display_name": "Python 3",
   "language": "python",
   "name": "python3"
  },
  "language_info": {
   "codemirror_mode": {
    "name": "ipython",
    "version": 3
   },
   "file_extension": ".py",
   "mimetype": "text/x-python",
   "name": "python",
   "nbconvert_exporter": "python",
   "pygments_lexer": "ipython3",
   "version": "3.6.1"
  }
 },
 "nbformat": 4,
 "nbformat_minor": 2
}
