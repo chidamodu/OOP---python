{
 "cells": [
  {
   "cell_type": "code",
   "execution_count": 47,
   "metadata": {},
   "outputs": [
    {
     "name": "stdout",
     "output_type": "stream",
     "text": [
      "4\n",
      "a a c d\n",
      "2\n",
      "0.833\n"
     ]
    }
   ],
   "source": [
    "#1.40- 2.03\n",
    "def iterable_iterator(l, s, n):\n",
    "    kite=[]\n",
    "    tot_combin=1\n",
    "    val=0\n",
    "    for j in range(1, l)[::-1]:\n",
    "        tot_combin*=j\n",
    "    for ele in range(len(s)):\n",
    "        kite.append((s[ele], len(s[ele+1:])))\n",
    "    \n",
    "    for k, v in kite:\n",
    "        if k=='a':\n",
    "            val+=v\n",
    "            \n",
    "    print (round((val/tot_combin), 3))\n",
    "            \n",
    "        \n",
    "if __name__ == \"__main__\":\n",
    "    l=int(input())\n",
    "    s=list(input().split())\n",
    "    n=int(input())\n",
    "    iterable_iterator(l, s, n)       \n",
    "        \n",
    "            \n",
    "\n",
    "        \n",
    "    "
   ]
  },
  {
   "cell_type": "code",
   "execution_count": 45,
   "metadata": {},
   "outputs": [
    {
     "name": "stdout",
     "output_type": "stream",
     "text": [
      "0.833\n"
     ]
    }
   ],
   "source": [
    "iterable_iterator(4, ['a', 'a', 'c', 'd'], 2)"
   ]
  },
  {
   "cell_type": "code",
   "execution_count": 41,
   "metadata": {},
   "outputs": [
    {
     "data": {
      "text/plain": [
       "0.06"
      ]
     },
     "execution_count": 41,
     "metadata": {},
     "output_type": "execute_result"
    }
   ],
   "source": [
    "float(str(round(0.0556781255, 2)))"
   ]
  },
  {
   "cell_type": "code",
   "execution_count": 57,
   "metadata": {
    "collapsed": true
   },
   "outputs": [],
   "source": [
    "def iterable_iterator(l, s, n):\n",
    "    kite=[]\n",
    "    tot_combin=1\n",
    "    val=0\n",
    "    for j in range(1, l)[::-1]:\n",
    "        tot_combin*=j\n",
    "    for ele in range(len(s)):\n",
    "        kite.append((s[ele], len(s[ele+1:])))\n",
    "    \n",
    "    for k, v in kite:\n",
    "        if k=='a':\n",
    "            val+=v\n",
    "            \n",
    "    print (round((val/tot_combin), 3))"
   ]
  },
  {
   "cell_type": "code",
   "execution_count": 58,
   "metadata": {},
   "outputs": [
    {
     "name": "stdout",
     "output_type": "stream",
     "text": [
      "1.667\n"
     ]
    }
   ],
   "source": [
    "iterable_iterator(4, ['a', 'a', 'a', 'a', 'a'], 90)"
   ]
  },
  {
   "cell_type": "code",
   "execution_count": 52,
   "metadata": {},
   "outputs": [
    {
     "data": {
      "text/plain": [
       "1.3333333333333333"
      ]
     },
     "execution_count": 52,
     "metadata": {},
     "output_type": "execute_result"
    }
   ],
   "source": [
    "8/6"
   ]
  },
  {
   "cell_type": "code",
   "execution_count": null,
   "metadata": {
    "collapsed": true
   },
   "outputs": [],
   "source": []
  },
  {
   "cell_type": "code",
   "execution_count": 61,
   "metadata": {},
   "outputs": [
    {
     "data": {
      "text/plain": [
       "['aa', 'cd']"
      ]
     },
     "execution_count": 61,
     "metadata": {},
     "output_type": "execute_result"
    }
   ],
   "source": [
    "line = 'aacd'\n",
    "n = 2\n",
    "[line[i:i+n] for i in range(0, len(line), n)]\n"
   ]
  },
  {
   "cell_type": "code",
   "execution_count": 66,
   "metadata": {},
   "outputs": [
    {
     "name": "stdout",
     "output_type": "stream",
     "text": [
      "a c\n",
      "a d\n"
     ]
    }
   ],
   "source": [
    "next=2\n",
    "for i in range(len(line)-2):\n",
    "    print(line[i], line[i+2])\n",
    "    \n"
   ]
  },
  {
   "cell_type": "code",
   "execution_count": 71,
   "metadata": {},
   "outputs": [
    {
     "name": "stdout",
     "output_type": "stream",
     "text": [
      "4\n",
      "a a c d\n",
      "2\n",
      "0.8333333333333334\n"
     ]
    }
   ],
   "source": [
    "#Hackerrank submission\n",
    "def iterable_iterator(l, s, n):\n",
    "    from itertools import combinations\n",
    "    total = list(combinations(s,n))\n",
    "    f = [i for i in total if 'a' in i]\n",
    "    print(len(f)/len(total))\n",
    "\n",
    "if __name__ == \"__main__\":\n",
    "    l,s,n = input(),input().split(),int(input())\n",
    "    iterable_iterator(l, s, n)"
   ]
  }
 ],
 "metadata": {
  "kernelspec": {
   "display_name": "Python 3",
   "language": "python",
   "name": "python3"
  },
  "language_info": {
   "codemirror_mode": {
    "name": "ipython",
    "version": 3
   },
   "file_extension": ".py",
   "mimetype": "text/x-python",
   "name": "python",
   "nbconvert_exporter": "python",
   "pygments_lexer": "ipython3",
   "version": "3.6.1"
  }
 },
 "nbformat": 4,
 "nbformat_minor": 2
}
