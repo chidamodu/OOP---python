{
 "cells": [
  {
   "cell_type": "code",
   "execution_count": 30,
   "metadata": {},
   "outputs": [
    {
     "name": "stdout",
     "output_type": "stream",
     "text": [
      "4\n",
      "gook\n",
      "hat\n",
      "rat\n",
      "gook\n",
      "3\n",
      "2 1 1\n"
     ]
    }
   ],
   "source": [
    "#9.19 - 9.40\n",
    "#Hackerrank submission\n",
    "def word_order(s):\n",
    "    from collections import OrderedDict\n",
    "    d=OrderedDict()\n",
    "    for ele in s:\n",
    "        d[ele]=d.get(ele, 0)+1\n",
    "          \n",
    "#     print(len(d))\n",
    "#     print(' '.join(str(d.values())))\n",
    "    print(len(d))\n",
    "    print (' '.join(str(v) for k, v in d.items()))\n",
    "\n",
    "if __name__==\"__main__\":\n",
    "    s=[]\n",
    "    c=0\n",
    "    num_words=int(input())\n",
    "    if (num_words>=1) or (num_words<=10**5):\n",
    "        while c < num_words:\n",
    "            sf=input()\n",
    "            s.append(sf)\n",
    "            c+=1\n",
    "    else:\n",
    "        print(\"Input integers within the range: greater or equal to 1 and lesser or equal to 10^5\")\n",
    "\n",
    "    word_order(s) \n",
    "    \n"
   ]
  },
  {
   "cell_type": "code",
   "execution_count": null,
   "metadata": {
    "collapsed": true
   },
   "outputs": [],
   "source": []
  }
 ],
 "metadata": {
  "kernelspec": {
   "display_name": "Python 3",
   "language": "python",
   "name": "python3"
  },
  "language_info": {
   "codemirror_mode": {
    "name": "ipython",
    "version": 3
   },
   "file_extension": ".py",
   "mimetype": "text/x-python",
   "name": "python",
   "nbconvert_exporter": "python",
   "pygments_lexer": "ipython3",
   "version": "3.6.1"
  }
 },
 "nbformat": 4,
 "nbformat_minor": 2
}
