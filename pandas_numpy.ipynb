{
 "cells": [
  {
   "cell_type": "code",
   "execution_count": 3,
   "metadata": {
    "collapsed": true
   },
   "outputs": [],
   "source": [
    "# PROBABILITY SECTION\n",
    "# problem definition:\n",
    "# '''\n",
    "#     INPUT: FLOAT (probability of drawing a chocolate cooking from Jar A),\n",
    "#             FLOAT (probability of drawing a chocolate cooking from Jar B)\n",
    "#     OUTPUT: FLOAT (conditional probability that cookie was drawn from Jar A\n",
    "#                    given that a chocolate cookie was drawn)\n",
    "#     There are two jars of cookies.\n",
    "#     Each has chocolate and peanut butter cookies.\n",
    "#     INPUT 'a' is the fraction of cookies in Jar A which are chocolate\n",
    "#     INPUT 'b' is the fraction of cookies in Jar B which are chocolate\n",
    "#     A jar is chosen at random and a cookie is drawn.\n",
    "#     The cookie is chocolate.\n",
    "#     Return the probability that the cookie came from Jar A.\n",
    "#     '''\n",
    "\n",
    "def cookie_jar(a, b):\n",
    "    a_chocolate=a\n",
    "    jar_a=0.5\n",
    "    tot_choc=a+b\n",
    "    return round((a/tot_choc)*0.5, 2)\n",
    "    \n",
    "    "
   ]
  },
  {
   "cell_type": "code",
   "execution_count": 4,
   "metadata": {},
   "outputs": [
    {
     "data": {
      "text/plain": [
       "0.17"
      ]
     },
     "execution_count": 4,
     "metadata": {},
     "output_type": "execute_result"
    }
   ],
   "source": [
    "cookie_jar(0.3, 0.6)"
   ]
  },
  {
   "cell_type": "code",
   "execution_count": 21,
   "metadata": {
    "collapsed": true
   },
   "outputs": [],
   "source": [
    "# NumPy SECTION\n",
    "'''\n",
    "    INPUT: INT, INT, INT, NUMPY ARRAY\n",
    "    OUTPUT: NUMPY ARRAY\n",
    "    (of matrix product of r-by-c matrix of \"scalar\"'s time matrixA)\n",
    "    Create matrix of size (rows, cols) with elements initialized to the scalar\n",
    "    value. Right multiply that matrix with the passed matrixA (i.e. AB, not\n",
    "    BA).  Return the result of the multiplication.  You needn't check for\n",
    "    matrix compatibililty, but you accomplish this in a single line.\n",
    "    E.g., array_work(2, 3, 5, [[3, 4], [5, 6], [7, 8]])\n",
    "           [[3, 4],      [[5, 5, 5],\n",
    "            [5, 6],   *   [5, 5, 5]]\n",
    "            [7, 8]]\n",
    "    '''\n",
    "\n",
    "def array_work(rows, cols, scalar, matrixA):\n",
    "    B=np.array([scalar]*(2*3)).reshape(2,3)\n",
    "    return np.matmul(matrixA, B)\n",
    "    "
   ]
  },
  {
   "cell_type": "code",
   "execution_count": 22,
   "metadata": {},
   "outputs": [
    {
     "data": {
      "text/plain": [
       "array([[35, 35, 35],\n",
       "       [55, 55, 55],\n",
       "       [75, 75, 75]])"
      ]
     },
     "execution_count": 22,
     "metadata": {},
     "output_type": "execute_result"
    }
   ],
   "source": [
    "array_work(2, 3, 5, [[3, 4], [5, 6], [7, 8]])"
   ]
  },
  {
   "cell_type": "code",
   "execution_count": 15,
   "metadata": {},
   "outputs": [
    {
     "data": {
      "text/plain": [
       "array([[5, 5, 5],\n",
       "       [5, 5, 5]])"
      ]
     },
     "execution_count": 15,
     "metadata": {},
     "output_type": "execute_result"
    }
   ],
   "source": [
    "#To convert a scalar into a numpy matrix given rows and columns\n",
    "np.array([5]*6).reshape(2,3)"
   ]
  },
  {
   "cell_type": "code",
   "execution_count": 110,
   "metadata": {},
   "outputs": [],
   "source": [
    "#More numpy: problem definition:\n",
    "# '''\n",
    "#     INPUT: NUMPY ARRAY, INT\n",
    "#     OUTPUT: NUMPY ARRAY\n",
    "#     (of just elements in \"arr\" greater or equal to \"minimum\")\n",
    "#     Return an array of only the elements of \"arr\" that are greater than or\n",
    "#     equal to \"minimum\"\n",
    "#     Ex:\n",
    "#     In [1]: boolean_indexing([[3, 4, 5], [6, 7, 8]], 7)\n",
    "#     Out[1]: array([7, 8])\n",
    "#     '''\n",
    "def boolean_indexing(arr, minimum):\n",
    "    res=[]\n",
    "    for i in range(len(arr)):\n",
    "        if minimum in arr[i]:\n",
    "            for j in arr[i]:\n",
    "                if j>=minimum:\n",
    "                    res.append(j)        \n",
    "    return np.array(res)\n",
    "                "
   ]
  },
  {
   "cell_type": "code",
   "execution_count": 111,
   "metadata": {
    "scrolled": true
   },
   "outputs": [
    {
     "data": {
      "text/plain": [
       "array([6, 7, 8])"
      ]
     },
     "execution_count": 111,
     "metadata": {},
     "output_type": "execute_result"
    }
   ],
   "source": [
    "boolean_indexing([[3, 4, 5], [6, 7, 8]], 6)"
   ]
  },
  {
   "cell_type": "code",
   "execution_count": 117,
   "metadata": {},
   "outputs": [],
   "source": [
    "# Pandas SECTION\n",
    "\n",
    "'''\n",
    "    INPUTS: INT, INT, LIST (of length \"length\")\n",
    "    OUTPUT: PANDAS SERIES (of \"length\" sequential integers\n",
    "             beginning with \"start\" and with index \"index\")\n",
    "    Create a pandas Series of length \"length\" with index \"index\"\n",
    "    and with elements that are sequential integers starting from \"start\".\n",
    "    You may assume the length of index will be \"length\".\n",
    "    E.g.,\n",
    "    In [1]: make_series(5, 3, ['a', 'b', 'c'])\n",
    "    Out[1]:\n",
    "    a    5\n",
    "    b    6\n",
    "    c    7\n",
    "    dtype: int64\n",
    "    '''\n",
    "\n",
    "def make_series(start, length, index):\n",
    "    import pandas as pd\n",
    "    ans=[]\n",
    "    for i in range(length):\n",
    "        ans.append(start)\n",
    "        start+=1\n",
    "    return pd.Series(ans, index)\n",
    "    "
   ]
  },
  {
   "cell_type": "code",
   "execution_count": 118,
   "metadata": {
    "scrolled": true
   },
   "outputs": [
    {
     "data": {
      "text/plain": [
       "a    5\n",
       "b    6\n",
       "c    7\n",
       "dtype: int64"
      ]
     },
     "execution_count": 118,
     "metadata": {},
     "output_type": "execute_result"
    }
   ],
   "source": [
    "make_series(5, 3, ['a', 'b', 'c'])"
   ]
  },
  {
   "cell_type": "code",
   "execution_count": 119,
   "metadata": {
    "collapsed": true
   },
   "outputs": [],
   "source": [
    "'''\n",
    "    INPUT: DATAFRAME, STR, STR, STR\n",
    "    OUTPUT: None\n",
    "    Insert a column (colC) into the dataframe that is the sum of colA and colB.\n",
    "    Assume that df contains columns colA and colB and that these are numeric.\n",
    "    '''\n",
    "def data_frame_work(df, colA, colB, colC):\n",
    "    import pandas as pd\n",
    "    df[colC]=df[colA]+df[colB]"
   ]
  }
 ],
 "metadata": {
  "kernelspec": {
   "display_name": "Python [conda root]",
   "language": "python",
   "name": "conda-root-py"
  },
  "language_info": {
   "codemirror_mode": {
    "name": "ipython",
    "version": 3
   },
   "file_extension": ".py",
   "mimetype": "text/x-python",
   "name": "python",
   "nbconvert_exporter": "python",
   "pygments_lexer": "ipython3",
   "version": "3.5.4"
  }
 },
 "nbformat": 4,
 "nbformat_minor": 2
}
