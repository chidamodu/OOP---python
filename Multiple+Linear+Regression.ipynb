{
 "cells": [
  {
   "cell_type": "code",
   "execution_count": 1,
   "metadata": {},
   "outputs": [
    {
     "name": "stdout",
     "output_type": "stream",
     "text": [
      "2 7\n",
      "0.18 0.89 109.85\n",
      "1.0 0.26 155.72\n",
      "0.92 0.11 137.66\n",
      "0.07 0.37 76.17\n",
      "0.85 0.16 139.75\n",
      "0.99 0.41 162.6\n",
      "0.87 0.47 151.77\n",
      "4\n",
      "0.49 0.18\n",
      "105.21455835106944\n",
      "0.57 0.83\n",
      "142.67095130729922\n",
      "0.56 0.64\n",
      "132.93605469124694\n",
      "0.76 0.18\n",
      "129.70175404502453\n"
     ]
    }
   ],
   "source": [
    "from sklearn import linear_model\n",
    "\n",
    "first = list(map(int, str.split(input(), \" \")))\n",
    "m, n = first[0], first[1]\n",
    "\n",
    "data = [list(float(x) for x in input().split()) for i in range(n)]\n",
    "\n",
    "x = [[item[i] for i in range(m)] for item in data]\n",
    "y = [item[-1] for item in data]\n",
    "lm = linear_model.LinearRegression()\n",
    "lm.fit(x, y)\n",
    "a = lm.intercept_\n",
    "b = lm.coef_\n",
    "\n",
    "for i in range(int(input())):\n",
    "    data = list(map(float, input().split()))\n",
    "    ans = [b[j]*data[j] for j in range(m)]\n",
    "    print(round(a+sum(ans)))"
   ]
  }
 ],
 "metadata": {
  "kernelspec": {
   "display_name": "Python 3",
   "language": "python",
   "name": "python3"
  },
  "language_info": {
   "codemirror_mode": {
    "name": "ipython",
    "version": 3
   },
   "file_extension": ".py",
   "mimetype": "text/x-python",
   "name": "python",
   "nbconvert_exporter": "python",
   "pygments_lexer": "ipython3",
   "version": "3.6.1"
  }
 },
 "nbformat": 4,
 "nbformat_minor": 2
}
