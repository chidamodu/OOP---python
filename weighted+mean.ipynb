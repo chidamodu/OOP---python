{
 "cells": [
  {
   "cell_type": "code",
   "execution_count": 7,
   "metadata": {},
   "outputs": [
    {
     "name": "stdout",
     "output_type": "stream",
     "text": [
      "5\n",
      "10 40 30 50 20\n",
      "1 2 3 4 5\n",
      "32.0\n"
     ]
    }
   ],
   "source": [
    "#2:21\n",
    "#Hackerrank submission\n",
    "def weighted_mean(num, X, w):\n",
    "    result=0\n",
    "    for ele in range(num):\n",
    "        result+=X[ele]*w[ele]\n",
    "    print(round((result/sum(w)), 1))\n",
    "          \n",
    "if __name__==\"__main__\":\n",
    "    num=int(input())\n",
    "    X_raw=input().split()\n",
    "    X=list(map(int, X_raw))\n",
    "    weights=input().split()\n",
    "    w=list(map(int, weights))\n",
    "    weighted_mean(num, X, w)\n",
    "    "
   ]
  },
  {
   "cell_type": "code",
   "execution_count": null,
   "metadata": {
    "collapsed": true
   },
   "outputs": [],
   "source": [
    "5\n",
    "10 40 30 50 20\n",
    "1 2 3 4 5\n"
   ]
  },
  {
   "cell_type": "code",
   "execution_count": 6,
   "metadata": {},
   "outputs": [
    {
     "data": {
      "text/plain": [
       "15"
      ]
     },
     "execution_count": 6,
     "metadata": {},
     "output_type": "execute_result"
    }
   ],
   "source": [
    "w=[1, 2,3,4, 5]\n",
    "sum(w)"
   ]
  },
  {
   "cell_type": "code",
   "execution_count": null,
   "metadata": {
    "collapsed": true
   },
   "outputs": [],
   "source": []
  }
 ],
 "metadata": {
  "kernelspec": {
   "display_name": "Python 3",
   "language": "python",
   "name": "python3"
  },
  "language_info": {
   "codemirror_mode": {
    "name": "ipython",
    "version": 3
   },
   "file_extension": ".py",
   "mimetype": "text/x-python",
   "name": "python",
   "nbconvert_exporter": "python",
   "pygments_lexer": "ipython3",
   "version": "3.6.1"
  }
 },
 "nbformat": 4,
 "nbformat_minor": 2
}
