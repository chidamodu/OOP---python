{
 "cells": [
  {
   "cell_type": "code",
   "execution_count": 50,
   "metadata": {},
   "outputs": [
    {
     "name": "stdout",
     "output_type": "stream",
     "text": [
      "2\n",
      "hacker book\n",
      "2\n",
      "2\n",
      "4\n"
     ]
    }
   ],
   "source": [
    "#5.01 - 5.46\n",
    "# pseudo:\n",
    "# 1. read in the words\n",
    "# 2. count the numebr of vowels\n",
    "# 3. if even then assign 2 otherwise assign 1\n",
    "# 4. count the number of values for the string of words and finally print it\n",
    "def word_score(num, s):\n",
    "    result=0\n",
    "    vowel={'a', 'e', 'i', 'o', 'u', 'y'}\n",
    "    d={}\n",
    "\n",
    "    for i in s:\n",
    "        for ele in i:\n",
    "            if ele in vowel:\n",
    "                d[i]=d.get(i, 0)+1\n",
    "                            \n",
    "    for k, v in d.items():\n",
    "        if v%2!=0:\n",
    "            result+=1\n",
    "        else:\n",
    "            result+=2\n",
    "    print(result)\n",
    "            \n",
    "    \n",
    "#     for k, v in d.items():\n",
    "#         for ele, jug in v.items():\n",
    "#             print(ele, jug)\n",
    "#             if ele in vowel:\n",
    "#                 result+=jug\n",
    "        \n",
    "#         if result%2==0:\n",
    "#             answer+=2\n",
    "#         else:\n",
    "#             answer+=1\n",
    "                \n",
    "                \n",
    "#     print(answer)\n",
    "                \n",
    "#             if ele in vowel:\n",
    "#                 c+=1\n",
    "#         if c%2!=0:\n",
    "#             result+=1\n",
    "#             c=0\n",
    "#     print(result)\n",
    "            \n",
    "if __name__==\"__main__\":\n",
    "    num=int(input())\n",
    "    s=input().split()\n",
    "    word_score(num, s)\n",
    "    "
   ]
  },
  {
   "cell_type": "code",
   "execution_count": 49,
   "metadata": {},
   "outputs": [
    {
     "data": {
      "text/plain": [
       "1"
      ]
     },
     "execution_count": 49,
     "metadata": {},
     "output_type": "execute_result"
    }
   ],
   "source": [
    "3%2"
   ]
  },
  {
   "cell_type": "code",
   "execution_count": 54,
   "metadata": {},
   "outputs": [
    {
     "name": "stdout",
     "output_type": "stream",
     "text": [
      "3\n",
      "programming is awesome\n",
      "4\n"
     ]
    }
   ],
   "source": [
    "def score_words(words):\n",
    "    score = 0\n",
    "    vowel={'a', 'e', 'i', 'o', 'u', 'y'}\n",
    "    for word in words:\n",
    "        num_vowels = 0\n",
    "        for letter in word:\n",
    "            if letter in vowel:\n",
    "                num_vowels += 1\n",
    "        if num_vowels % 2 == 0:\n",
    "            score += 2\n",
    "        else:\n",
    "            score += 1\n",
    "    print(score)\n",
    "\n",
    "if __name__==\"__main__\":\n",
    "    num=int(input())\n",
    "    words=input().split()\n",
    "    score_words(words)\n",
    "    "
   ]
  },
  {
   "cell_type": "code",
   "execution_count": null,
   "metadata": {
    "collapsed": true
   },
   "outputs": [],
   "source": [
    "#Hackerrank submission\n",
    "def score_words(words):\n",
    "    score = 0\n",
    "    vowel={'a', 'e', 'i', 'o', 'u', 'y'}\n",
    "    for word in words:\n",
    "        num_vowels = 0\n",
    "        for letter in word:\n",
    "            if letter in vowel:\n",
    "                num_vowels += 1\n",
    "        if num_vowels % 2 == 0:\n",
    "            score += 2\n",
    "        else:\n",
    "            score += 1\n",
    "    return score\n",
    "\n",
    "n = int(input())\n",
    "words = input().split()\n",
    "print(score_words(words))"
   ]
  }
 ],
 "metadata": {
  "kernelspec": {
   "display_name": "Python 3",
   "language": "python",
   "name": "python3"
  },
  "language_info": {
   "codemirror_mode": {
    "name": "ipython",
    "version": 3
   },
   "file_extension": ".py",
   "mimetype": "text/x-python",
   "name": "python",
   "nbconvert_exporter": "python",
   "pygments_lexer": "ipython3",
   "version": "3.6.1"
  }
 },
 "nbformat": 4,
 "nbformat_minor": 2
}
