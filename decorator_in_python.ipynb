{
 "cells": [
  {
   "cell_type": "code",
   "execution_count": 101,
   "metadata": {
    "collapsed": true
   },
   "outputs": [],
   "source": [
    "def shout(word='yes'):\n",
    "    return word.capitalize() + '!'"
   ]
  },
  {
   "cell_type": "code",
   "execution_count": 102,
   "metadata": {},
   "outputs": [
    {
     "name": "stdout",
     "output_type": "stream",
     "text": [
      "Yes!\n"
     ]
    }
   ],
   "source": [
    "print(shout())"
   ]
  },
  {
   "cell_type": "code",
   "execution_count": 103,
   "metadata": {
    "collapsed": true
   },
   "outputs": [],
   "source": [
    "#assigning the function: shout to a variable icecream like any other object\n",
    "icecream=shout"
   ]
  },
  {
   "cell_type": "code",
   "execution_count": 105,
   "metadata": {},
   "outputs": [
    {
     "name": "stdout",
     "output_type": "stream",
     "text": [
      "Yes!\n"
     ]
    }
   ],
   "source": [
    "print(icecream())"
   ]
  },
  {
   "cell_type": "code",
   "execution_count": 13,
   "metadata": {},
   "outputs": [],
   "source": [
    "del shout"
   ]
  },
  {
   "cell_type": "code",
   "execution_count": 14,
   "metadata": {},
   "outputs": [
    {
     "data": {
      "text/plain": [
       "'Yes!'"
      ]
     },
     "execution_count": 14,
     "metadata": {},
     "output_type": "execute_result"
    }
   ],
   "source": [
    "#even after deleting the function: shout, calling icecream works\n",
    "icecream()"
   ]
  },
  {
   "cell_type": "code",
   "execution_count": 15,
   "metadata": {},
   "outputs": [
    {
     "ename": "NameError",
     "evalue": "name 'shout' is not defined",
     "output_type": "error",
     "traceback": [
      "\u001b[0;31m---------------------------------------------------------------------------\u001b[0m",
      "\u001b[0;31mNameError\u001b[0m                                 Traceback (most recent call last)",
      "\u001b[0;32m<ipython-input-15-16c59cbfd31b>\u001b[0m in \u001b[0;36m<module>\u001b[0;34m()\u001b[0m\n\u001b[0;32m----> 1\u001b[0;31m \u001b[0mprint\u001b[0m\u001b[0;34m(\u001b[0m\u001b[0mshout\u001b[0m\u001b[0;34m(\u001b[0m\u001b[0;34m)\u001b[0m\u001b[0;34m)\u001b[0m\u001b[0;34m\u001b[0m\u001b[0m\n\u001b[0m",
      "\u001b[0;31mNameError\u001b[0m: name 'shout' is not defined"
     ]
    }
   ],
   "source": [
    "print(shout())"
   ]
  },
  {
   "cell_type": "code",
   "execution_count": 18,
   "metadata": {
    "collapsed": true
   },
   "outputs": [],
   "source": [
    "#Functions can be defined within other functions\n",
    "def business():\n",
    "    def case_studies(w='INTUITIVE'):\n",
    "        return w.lower()\n",
    "    return case_studies()\n",
    "    "
   ]
  },
  {
   "cell_type": "code",
   "execution_count": 19,
   "metadata": {},
   "outputs": [
    {
     "data": {
      "text/plain": [
       "'intuitive'"
      ]
     },
     "execution_count": 19,
     "metadata": {},
     "output_type": "execute_result"
    }
   ],
   "source": [
    "business()"
   ]
  },
  {
   "cell_type": "code",
   "execution_count": 20,
   "metadata": {},
   "outputs": [
    {
     "ename": "NameError",
     "evalue": "name 'case_studies' is not defined",
     "output_type": "error",
     "traceback": [
      "\u001b[0;31m---------------------------------------------------------------------------\u001b[0m",
      "\u001b[0;31mNameError\u001b[0m                                 Traceback (most recent call last)",
      "\u001b[0;32m<ipython-input-20-cc92b4b9ab5d>\u001b[0m in \u001b[0;36m<module>\u001b[0;34m()\u001b[0m\n\u001b[0;32m----> 1\u001b[0;31m \u001b[0mcase_studies\u001b[0m\u001b[0;34m(\u001b[0m\u001b[0;34m)\u001b[0m\u001b[0;34m\u001b[0m\u001b[0m\n\u001b[0m",
      "\u001b[0;31mNameError\u001b[0m: name 'case_studies' is not defined"
     ]
    }
   ],
   "source": [
    "#you cannot use a function(that's inside) within another function outside the function. for example: case_studies is defined within the function: business and so it can only be used whenever the function: business() is called\n",
    "#and cannot be used outside the function:business()\n",
    "case_studies()"
   ]
  },
  {
   "cell_type": "code",
   "execution_count": null,
   "metadata": {
    "collapsed": true
   },
   "outputs": [],
   "source": [
    "questions:\n",
    "what you mean by defining a function?\n",
    "what you mean by calling a function?\n",
    "\n",
    "\n",
    "what you mean by: functions are objects in python?\n",
    "by that we mean: functions can be assigned to a variable or can be defined in another function\n",
    "\n",
    "    when I use return the function returns string output in quotation marks,\n",
    "but when I use print function then the function outputs the string format without quotation marks\n"
   ]
  },
  {
   "cell_type": "code",
   "execution_count": 37,
   "metadata": {},
   "outputs": [
    {
     "data": {
      "text/plain": [
       "'yes'"
      ]
     },
     "execution_count": 37,
     "metadata": {},
     "output_type": "execute_result"
    }
   ],
   "source": [
    "def getTalk(kind='shout'):\n",
    "\n",
    "    # We define functions on the fly\n",
    "    def shout(word='yes'):\n",
    "        return word.capitalize() + '!'\n",
    "\n",
    "    def whisper(word='YES'):\n",
    "        return word.lower()\n",
    "\n",
    "    # Then we return one of them\n",
    "    if kind == 'shout':\n",
    "        # We don’t use '()'. We are not calling the function;\n",
    "        # instead, we’re returning the function object\n",
    "        return shout()#calling the function defined within the same functio \n",
    "    else:\n",
    "        return whisper()\n",
    "\n",
    "#you can either assign the function: getTalk to a variable or can used to call the function from within\n",
    "talkcom=getTalk\n",
    "talkcom(kind='whisper')"
   ]
  },
  {
   "cell_type": "code",
   "execution_count": 39,
   "metadata": {
    "scrolled": true
   },
   "outputs": [
    {
     "data": {
      "text/plain": [
       "'yes'"
      ]
     },
     "execution_count": 39,
     "metadata": {},
     "output_type": "execute_result"
    }
   ],
   "source": [
    "getTalk(kind='whisper')#can also use the fuction directly without saving it to a variable"
   ]
  },
  {
   "cell_type": "code",
   "execution_count": 44,
   "metadata": {},
   "outputs": [
    {
     "name": "stdout",
     "output_type": "stream",
     "text": [
      "5\n",
      "Yes!\n"
     ]
    }
   ],
   "source": [
    "def doSomethingBefore(func):#you can pass a function as a parameter into another function\n",
    "\n",
    "    print(2+3)\n",
    "    print (func())\n",
    "\n",
    "doSomethingBefore(icecream)"
   ]
  },
  {
   "cell_type": "code",
   "execution_count": null,
   "metadata": {
    "collapsed": true
   },
   "outputs": [],
   "source": []
  },
  {
   "cell_type": "code",
   "execution_count": null,
   "metadata": {
    "collapsed": true
   },
   "outputs": [],
   "source": [
    "Decorators are “wrappers”, which means that they let you execute code before and after\n",
    "the function they decorate without modifying the function itself.\n",
    "A decorator is a function that expects ANOTHER function as parameter\n",
    "Decorators are quite pythonic style of programming\n",
    "\n",
    "\n",
    "    \n",
    "    \n",
    "    \n",
    "\n"
   ]
  },
  {
   "cell_type": "code",
   "execution_count": 65,
   "metadata": {},
   "outputs": [
    {
     "name": "stdout",
     "output_type": "stream",
     "text": [
      "Before the function runs\n",
      "I am a stand alone function, don’t you dare modify me\n",
      "After the function runs\n"
     ]
    }
   ],
   "source": [
    "def my_shiny_new_decorator(a_function_to_decorate):\n",
    "    def the_wrapper_around_the_original_function():\n",
    "\n",
    "        print('Before the function runs')\n",
    "\n",
    "        a_function_to_decorate()\n",
    "\n",
    "        print('After the function runs')\n",
    "\n",
    "    return the_wrapper_around_the_original_function\n",
    "\n",
    "\n",
    "\n",
    "\n",
    "@my_shiny_new_decorator\n",
    "def a_stand_alone_function():\n",
    "    print('I am a stand alone function, don’t you dare modify me')\n",
    "# def a_stand_alone_function():\n",
    "#     print(\"what else! you rocking\")\n",
    "\n",
    "a_stand_alone_function()"
   ]
  },
  {
   "cell_type": "code",
   "execution_count": 96,
   "metadata": {},
   "outputs": [
    {
     "name": "stdout",
     "output_type": "stream",
     "text": [
      "I am a stand alone function, don’t you dare modify me\n"
     ]
    }
   ],
   "source": [
    "def my_shiny_new_decorator(a_function_to_decorate): \n",
    "    return a_function_to_decorate()\n",
    "\n",
    "\n",
    "@my_shiny_new_decorator\n",
    "def a_stand_alone_function():\n",
    "    print('I am a stand alone function, don’t you dare modify me')"
   ]
  },
  {
   "cell_type": "code",
   "execution_count": 107,
   "metadata": {},
   "outputs": [
    {
     "name": "stdout",
     "output_type": "stream",
     "text": [
      "Before the function runs\n",
      "I am a stand alone function, don’t you dare modify me\n",
      "After the function runs\n"
     ]
    }
   ],
   "source": [
    "def my_shiny_new_decorator(a_function_to_decorate):\n",
    "    def the_wrapper_around_the_original_function():\n",
    "\n",
    "        print('Before the function runs')\n",
    "\n",
    "        a_function_to_decorate()\n",
    "\n",
    "        print('After the function runs')\n",
    "\n",
    "    return the_wrapper_around_the_original_function\n",
    "\n",
    "\n",
    "def a_stand_alone_function():\n",
    "    print('I am a stand alone function, don’t you dare modify me')\n",
    "    \n",
    "adf=my_shiny_new_decorator(a_stand_alone_function)\n",
    "adf()"
   ]
  },
  {
   "cell_type": "code",
   "execution_count": null,
   "metadata": {
    "collapsed": true
   },
   "outputs": [],
   "source": []
  },
  {
   "cell_type": "code",
   "execution_count": 100,
   "metadata": {},
   "outputs": [
    {
     "data": {
      "text/plain": [
       "'I am a stand alone function, don’t you dare modify me'"
      ]
     },
     "execution_count": 100,
     "metadata": {},
     "output_type": "execute_result"
    }
   ],
   "source": [
    "def my_shiny_new_decorator(a_function_to_decorate): \n",
    "    return a_function_to_decorate()\n",
    "\n",
    "def a_stand_alone_function():\n",
    "    return 'I am a stand alone function, don’t you dare modify me'\n",
    "\n",
    "abc=my_shiny_new_decorator(a_stand_alone_function)\n",
    "abc"
   ]
  },
  {
   "cell_type": "code",
   "execution_count": 66,
   "metadata": {},
   "outputs": [
    {
     "name": "stdout",
     "output_type": "stream",
     "text": [
      "Before the function runs\n",
      "Before the function runs\n",
      "I am a stand alone function, don’t you dare modify me\n",
      "After the function runs\n",
      "After the function runs\n"
     ]
    }
   ],
   "source": [
    "adf=my_shiny_new_decorator(a_stand_alone_function)\n",
    "adf()"
   ]
  },
  {
   "cell_type": "code",
   "execution_count": 81,
   "metadata": {},
   "outputs": [],
   "source": [
    "def bread(func):\n",
    "    def wrapper():\n",
    "        print(\"</''''''\\>\")\n",
    "        func()\n",
    "        print(\"<\\______/>\")\n",
    "    return wrapper\n",
    "\n",
    "def ingredients(func):\n",
    "    def wrapper():\n",
    "        print('#tomatoes#')\n",
    "        func()\n",
    "        print('~salad~')\n",
    "    return wrapper\n",
    "\n",
    "def sandwich(food='--ham--'):\n",
    "    print(food)"
   ]
  },
  {
   "cell_type": "code",
   "execution_count": 82,
   "metadata": {},
   "outputs": [
    {
     "name": "stdout",
     "output_type": "stream",
     "text": [
      "--ham--\n"
     ]
    }
   ],
   "source": [
    "sandwich()"
   ]
  },
  {
   "cell_type": "code",
   "execution_count": 83,
   "metadata": {},
   "outputs": [
    {
     "name": "stdout",
     "output_type": "stream",
     "text": [
      "#tomatoes#\n",
      "</''''''\\>\n",
      "--ham--\n",
      "<\\______/>\n",
      "~salad~\n"
     ]
    }
   ],
   "source": [
    "s = ingredients(bread(sandwich))\n",
    "s()"
   ]
  },
  {
   "cell_type": "code",
   "execution_count": 85,
   "metadata": {},
   "outputs": [
    {
     "name": "stdout",
     "output_type": "stream",
     "text": [
      "</''''''\\>\n",
      "#tomatoes#\n",
      "--ham--\n",
      "~salad~\n",
      "<\\______/>\n"
     ]
    }
   ],
   "source": [
    "@bread\n",
    "@ingredients\n",
    "def sandwich(food='--ham--'):\n",
    "    print(food)\n",
    "sandwich()"
   ]
  },
  {
   "cell_type": "code",
   "execution_count": 86,
   "metadata": {},
   "outputs": [
    {
     "name": "stdout",
     "output_type": "stream",
     "text": [
      "#tomatoes#\n",
      "</''''''\\>\n",
      "--ham--\n",
      "<\\______/>\n",
      "~salad~\n"
     ]
    }
   ],
   "source": [
    "#order at which you set the decorators matters!\n",
    "@ingredients#if I place @ingredients first followed by @bread then the output changes\n",
    "@bread\n",
    "def sandwich(food='--ham--'):\n",
    "    print(food)\n",
    "sandwich()"
   ]
  },
  {
   "cell_type": "code",
   "execution_count": null,
   "metadata": {
    "collapsed": true
   },
   "outputs": [],
   "source": [
    "One nifty thing about Python is that methods and functions are really the same. The only difference is that methods expect that their first argument is a reference to the current object (self).\n",
    "\n",
    "That means you can build a decorator for methods the same way! Just remember to take self into consideration:"
   ]
  },
  {
   "cell_type": "code",
   "execution_count": 89,
   "metadata": {},
   "outputs": [
    {
     "name": "stdout",
     "output_type": "stream",
     "text": [
      "I got power, Am the King!: Lebron James\n",
      "My name is Lebron James\n"
     ]
    }
   ],
   "source": [
    "#Passing arguments to the decorated function\n",
    "# It’s not black magic, you just have to let the wrapper \n",
    "# pass the argument:\n",
    "\n",
    "def a_decorator_passing_arguments(function_to_decorate):\n",
    "    def a_wrapper_accepting_arguments(arg1, arg2):\n",
    "        print('I got power, Am the King!:', arg1, arg2)\n",
    "        function_to_decorate(arg1, arg2)\n",
    "    return a_wrapper_accepting_arguments\n",
    "\n",
    "# Since when you are calling the function returned by the decorator, you are\n",
    "# calling the wrapper, passing arguments to the wrapper will let it pass them to \n",
    "# the decorated function\n",
    "\n",
    "@a_decorator_passing_arguments\n",
    "def print_full_name(first_name, last_name):\n",
    "    print('My name is', first_name, last_name)\n",
    "    \n",
    "print_full_name('Lebron', 'James')\n",
    "# outputs:\n",
    "#I got args! Look: Peter Venkman\n",
    "#My name is Peter Venkman"
   ]
  }
 ],
 "metadata": {
  "kernelspec": {
   "display_name": "Python [conda root]",
   "language": "python",
   "name": "conda-root-py"
  },
  "language_info": {
   "codemirror_mode": {
    "name": "ipython",
    "version": 3
   },
   "file_extension": ".py",
   "mimetype": "text/x-python",
   "name": "python",
   "nbconvert_exporter": "python",
   "pygments_lexer": "ipython3",
   "version": "3.5.4"
  }
 },
 "nbformat": 4,
 "nbformat_minor": 2
}
