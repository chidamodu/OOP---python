{
 "cells": [
  {
   "cell_type": "code",
   "execution_count": 22,
   "metadata": {},
   "outputs": [
    {
     "name": "stdout",
     "output_type": "stream",
     "text": [
      "6\n",
      "9\n"
     ]
    }
   ],
   "source": [
    "#4.35 to 4.44\n",
    "#Coursera fibonacci series\n",
    "def fibonacci_series(n):\n",
    "    res=[]\n",
    "    if (n>=1) and (n<=37):\n",
    "        for i in range(1, n+1):\n",
    "            if i<=3:\n",
    "                res.append(1)\n",
    "\n",
    "            else:\n",
    "                res.append((sum((res[-3:]))))\n",
    "                \n",
    "    print(res[-1])\n",
    "                \n",
    "    \n",
    "if __name__==\"__main__\":\n",
    "    n=int(input())\n",
    "    fibonacci_series(n)\n",
    "    \n"
   ]
  },
  {
   "cell_type": "code",
   "execution_count": 17,
   "metadata": {},
   "outputs": [
    {
     "data": {
      "text/plain": [
       "[9, 12, 15]"
      ]
     },
     "execution_count": 17,
     "metadata": {},
     "output_type": "execute_result"
    }
   ],
   "source": [
    "s=[1, 1, 1, 9, 12, 15]\n",
    "\n",
    "s[-3:]"
   ]
  }
 ],
 "metadata": {
  "kernelspec": {
   "display_name": "Python [conda root]",
   "language": "python",
   "name": "conda-root-py"
  },
  "language_info": {
   "codemirror_mode": {
    "name": "ipython",
    "version": 3
   },
   "file_extension": ".py",
   "mimetype": "text/x-python",
   "name": "python",
   "nbconvert_exporter": "python",
   "pygments_lexer": "ipython3",
   "version": "3.5.6"
  }
 },
 "nbformat": 4,
 "nbformat_minor": 2
}
