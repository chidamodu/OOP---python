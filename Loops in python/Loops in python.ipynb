{
 "cells": [
  {
   "cell_type": "code",
   "execution_count": null,
   "metadata": {},
   "outputs": [],
   "source": [
    "Explain the relevant syntax in Python. Define relevant key terms.\n",
    "\n",
    "Python has two primary loop structures:\n",
    "For\n",
    "While \n"
   ]
  },
  {
   "cell_type": "code",
   "execution_count": null,
   "metadata": {},
   "outputs": [],
   "source": [
    "For Loop\n",
    "A for loop is used for iterating over a sequence \n",
    "(that is either a list, a tuple, a dictionary, a set, or a string. Note: these are also called data structures). \n",
    "\n",
    "This is less like the ‘for’ keyword in other programming languages and works more like an iterator \n",
    "(meaning that helps to iterate over something) method.\n"
   ]
  },
  {
   "cell_type": "code",
   "execution_count": 3,
   "metadata": {},
   "outputs": [
    {
     "name": "stdout",
     "output_type": "stream",
     "text": [
      "20\n"
     ]
    }
   ],
   "source": [
    "Introducing for loop to iterate a given data structure and usage of 'if' clause\n",
    "\n",
    "Let’s count the number of alphabet ‘a’ in the given string, s.\n",
    "\n",
    "s='abhgaaaanhgtyaajmaafagaiahaaaraeaaawa'\n",
    "\n",
    "count_value=0\n",
    "for i in s:\n",
    "    if i=='a':\n",
    "        count_value+=1\n",
    "print(count_value)\n",
    "    "
   ]
  },
  {
   "cell_type": "code",
   "execution_count": 9,
   "metadata": {},
   "outputs": [
    {
     "name": "stdout",
     "output_type": "stream",
     "text": [
      "800\n"
     ]
    }
   ],
   "source": [
    "Iterating for a certain number of times\n",
    "\n",
    "Let us assume that for every hour of binge watching we lose $10 (hello, which world are we in :)). So we would like \n",
    "to know how much money would we be left with after 20 hours of binge watching our favorite show on Netflix.\n",
    "\n",
    "remaining_cost=1000\n",
    "\n",
    "for item in range(20):\n",
    "    remaining_cost-=10\n",
    "    \n",
    "print(remaining_cost)\n",
    "    "
   ]
  },
  {
   "cell_type": "code",
   "execution_count": 13,
   "metadata": {},
   "outputs": [
    {
     "name": "stdout",
     "output_type": "stream",
     "text": [
      "{'plate': 4, 'spoon': 2, 'fork': 2}\n"
     ]
    }
   ],
   "source": [
    "Iterating over a sequence and creating a dictionary\n",
    "\n",
    "A dictionary is another data structure. It’s also called a hash table. \n",
    "A high level of the dictionary:\n",
    "\n",
    "Dictionaries are used to store data values in key: value pairs. A dictionary is a collection that is unordered, \n",
    "changeable, and does not allow duplicates. Dictionaries are written with curly brackets:\n",
    "\n",
    "Example:\n",
    "thisdict = {\"brand\": \"Ford\",\"model\": \"Mustang\",\"year\": 1964}\n",
    "\n",
    "Where thisdict is the name of the dictionary\n",
    "\"Brand\", \"model\", and \"year\" are the keys\n",
    "\"Ford\", \"Mustang\", 1964 are the values\n",
    "\n",
    "Now let’s see an illustration where we iterate over a list of cutlery items and create a dictionary of those \n",
    "items using a for loop.\n",
    "\n",
    "\n",
    "\n",
    "Determine how many cutleries do we have in the given list and store them in a dictionary\n",
    "\n",
    "d={}\n",
    "cutlery = [\"plate\", \"spoon\", \"fork\", \"silver fork\", \"golden plate\", \"silver plate\", \"silver spoon\", \"wooden plate\"]\n",
    "for x in cutlery:\n",
    "    if 'plate' in x:\n",
    "        d['plate']=d.get('plate', 0)+1\n",
    "    if 'spoon' in x:\n",
    "        d['spoon']=d.get('spoon', 0)+1\n",
    "    if 'fork' in x:\n",
    "         d['fork']=d.get('fork', 0)+1\n",
    "        \n",
    "print(d)\n",
    "    \n",
    "        \n",
    "    "
   ]
  },
  {
   "cell_type": "code",
   "execution_count": 14,
   "metadata": {},
   "outputs": [
    {
     "name": "stdout",
     "output_type": "stream",
     "text": [
      "12497500\n"
     ]
    }
   ],
   "source": [
    "Use of 'break' statement in a for loop\n",
    "\n",
    "The Python 'break' statement immediately terminates a loop entirely. Program execution proceeds to the first \n",
    "statement following the loop body.\n",
    "\n",
    "\n",
    "Lets consider a simulating situation where we draw numbers from a range until the limit 5000. When it reaches \n",
    "the limit,the program execution gets out of the loop in this context as we have the values iterated as the \n",
    "limit in the if statement.\n",
    "\n",
    "\n",
    "total=0\n",
    "for val in range(100000):\n",
    "    if val == 5000:\n",
    "        break\n",
    "    else:\n",
    "        total+=val\n",
    "\n",
    "print(total)\n"
   ]
  },
  {
   "cell_type": "code",
   "execution_count": 15,
   "metadata": {},
   "outputs": [
    {
     "name": "stdout",
     "output_type": "stream",
     "text": [
      "s\n",
      "t\n",
      "r\n",
      "n\n",
      "g\n",
      "The end\n"
     ]
    }
   ],
   "source": [
    "Program to show the use of ‘continue’ statement inside a for loop\n",
    "\n",
    "The Python ‘continue’ statement immediately terminates the current loop iteration. Execution jumps to the top of the \n",
    "loop, and the controlling expression is re-evaluated to determine whether the loop will execute again or terminate.\n",
    "\n",
    "\n",
    "Lets just say we ought to avoid printing \"i\" from a word \"string\". Here the continue statement has skipped the \n",
    "rest of the code inside the loop for the iteration where the if statement is true, i.e., if val=='i'. \n",
    "The loop then continues with the rest of the characters in \"string\".\n",
    "\n",
    "\n",
    "for val in \"string\":\n",
    "    if val == \"i\":\n",
    "        continue\n",
    "    print(val)\n",
    "\n",
    "print(\"The end\")\n"
   ]
  },
  {
   "cell_type": "code",
   "execution_count": 25,
   "metadata": {},
   "outputs": [
    {
     "name": "stdout",
     "output_type": "stream",
     "text": [
      "The total number of nickels is 2\n",
      "The total number of quarter is 3\n",
      "The total number of dime is 2\n"
     ]
    }
   ],
   "source": [
    "Demonstrating the use of nested loops\n",
    "Nested loops are literally a loop within a loop. Most often we use such loops to fill in a matrix or iterate over two \n",
    "lists or other sequences. The point to be noted is the time complexity of such nested loops. For now, let’s have in \n",
    "mind that nested for loops going to take more time compared to a single for loop. \n",
    "\n",
    "In programming terminology, we call it O(N) for a single loop i.e., pronounced as O of N, where N represents the \n",
    "length of a sequence like a list. \n",
    "\n",
    "So nested for loops take O(N^2), i.e., pronounced as O of N squared, where N represents the length of a sequence \n",
    "like a list. \n",
    "\n",
    "\n",
    "Shall we count how many number of nickels, quarters, and dimes are there in a bag of coins?\n",
    "\n",
    "\n",
    "bag_of_coins = [[.10, .10, 0.05],[0.05,0.75, 0.65],[0.9, 0.8, 0.75, 0.75]]\n",
    "\n",
    "nickel, quarter, dime=0, 0, 0\n",
    "\n",
    "for coin in bag_of_coins:\n",
    "    for item in coin:\n",
    "        if item==0.05:\n",
    "            nickel+=1\n",
    "        if item==0.75:\n",
    "            quarter+=1\n",
    "        if item==0.10:\n",
    "            dime+=1\n",
    "            \n",
    "print(\"The total number of nickels is {}\".format(nickel))\n",
    "print(\"The total number of quarter is {}\".format(quarter))\n",
    "print(\"The total number of dime is {}\".format(dime))"
   ]
  },
  {
   "cell_type": "code",
   "execution_count": 22,
   "metadata": {},
   "outputs": [
    {
     "name": "stdout",
     "output_type": "stream",
     "text": [
      "[[1. 1. 1. 1.]\n",
      " [1. 1. 1. 1.]\n",
      " [1. 1. 1. 1.]]\n"
     ]
    }
   ],
   "source": [
    "Nested for loops to fill in a matrix\n",
    "\n",
    "import numpy as np\n",
    "dp = np.zeros((3,4))\n",
    "\n",
    "for i in range(3):\n",
    "    for j in range(4):\n",
    "        dp[i][j]=1\n",
    "print(dp)\n",
    "        "
   ]
  },
  {
   "cell_type": "code",
   "execution_count": null,
   "metadata": {},
   "outputs": [],
   "source": [
    "While Loop\n",
    "With the loop, we can execute a set of statements as long as a condition is true.\n"
   ]
  },
  {
   "cell_type": "code",
   "execution_count": 26,
   "metadata": {},
   "outputs": [
    {
     "name": "stdout",
     "output_type": "stream",
     "text": [
      "6\n"
     ]
    }
   ],
   "source": [
    "Shall we buy items worth $20 given the fact that we already have bought an item worth $10, so our cost=$10 and \n",
    "buy_items=1?\n",
    "\n",
    "We are constrained to keep buying items as long as the cost remains less than $100  \n",
    "\n",
    "buy_items = 1\n",
    "cost=10\n",
    "while cost < 100:\n",
    "    buy_items+=1\n",
    "    cost+=20\n",
    "    \n",
    "print(buy_items)\n",
    "\n",
    "Note: remember to increment cost (i.e., every iteration by $20), or else the loop will continue forever.\n"
   ]
  },
  {
   "cell_type": "code",
   "execution_count": 28,
   "metadata": {},
   "outputs": [
    {
     "name": "stdout",
     "output_type": "stream",
     "text": [
      "1\n",
      "2\n",
      "3\n"
     ]
    }
   ],
   "source": [
    "Use of break statement inside the while loop\n",
    "\n",
    "With the ‘break’ statement we can stop the loop even if the while condition is true.\n",
    "\n",
    "Exit the loop when i is 3. \n",
    "\n",
    "i = 1\n",
    "while i < 6:\n",
    "    print(i)\n",
    "    if i == 3:\n",
    "        break\n",
    "    i+=1\n"
   ]
  },
  {
   "cell_type": "code",
   "execution_count": 29,
   "metadata": {},
   "outputs": [
    {
     "name": "stdout",
     "output_type": "stream",
     "text": [
      "4\n",
      "3\n",
      "1\n",
      "0\n",
      "Loop ended.\n"
     ]
    }
   ],
   "source": [
    "Using  ‘continue’ statement with a while loop:\n",
    "\n",
    "    With the ‘continue’ statement we can stop the current iteration and continue with the next.\n",
    "\n",
    "In this example, we intend to decrement the values of n. Except 2 we are interested in all other values of n. \n",
    "Here is where the continue statement comes in handy.\n",
    "\n",
    "n = 5\n",
    "while n > 0:\n",
    "    n -= 1\n",
    "    if n == 2:\n",
    "        continue\n",
    "    print(n)\n",
    "print('Loop ended.')\n"
   ]
  },
  {
   "cell_type": "code",
   "execution_count": 30,
   "metadata": {},
   "outputs": [
    {
     "name": "stdout",
     "output_type": "stream",
     "text": [
      "banana\n",
      "apple\n",
      "orange\n",
      "kiwi\n",
      "reached end of list\n"
     ]
    }
   ],
   "source": [
    "Using  ‘continue’ statement with a while loop:\n",
    "\n",
    "With the ‘continue’ statement we can stop the current iteration and continue with the next.\n",
    "\n",
    "As long as while condition is satisfied the body within the while loop is executed. When the condition is not\n",
    "met then the else statement is executed.\n",
    "\n",
    "fruits = [\"banana\", \"apple\", \"orange\", \"kiwi\"]\n",
    "position = 0\n",
    "while position < len(fruits):\n",
    "    print(fruits[position])\n",
    "    position = position + 1\n",
    "else:\n",
    "    print(\"reached end of list\")\n",
    "    \n",
    "    "
   ]
  },
  {
   "cell_type": "code",
   "execution_count": 31,
   "metadata": {},
   "outputs": [
    {
     "name": "stdout",
     "output_type": "stream",
     "text": [
      "1 , 5\n",
      "2 , 6\n",
      "3 , 7\n"
     ]
    }
   ],
   "source": [
    "Nested while loop\n",
    "\n",
    "When a while loop is present inside another while loop then it is called nested while loop. Lets take an example to \n",
    "understand this concept.\n",
    "\n",
    "\n",
    "i = 1\n",
    "j = 5\n",
    "while i < 4:\n",
    "    while j < 8:\n",
    "        print(i, \",\", j)\n",
    "        j = j + 1\n",
    "        i = i + 1"
   ]
  },
  {
   "cell_type": "code",
   "execution_count": 36,
   "metadata": {},
   "outputs": [
    {
     "name": "stdout",
     "output_type": "stream",
     "text": [
      "fizzbuzz\n",
      "1\n",
      "2\n",
      "fizz\n",
      "4\n",
      "buzz\n",
      "fizz\n",
      "7\n",
      "8\n",
      "fizz\n",
      "buzz\n",
      "11\n",
      "fizz\n",
      "13\n",
      "14\n",
      "fizzbuzz\n"
     ]
    }
   ],
   "source": [
    "Write a Python program which iterates the integers from 1 to 16. For multiples of three print \"Fizz\" instead of the \n",
    "number and for the multiples of five print \"Buzz\". For numbers which are multiples of both three and five print \n",
    "\"FizzBuzz\". Use for loop to construct your code.\n",
    "------------------------------------------------------------------------------------------------------------------------\n",
    "solution\n",
    "for element in range(16):\n",
    "    if element % 3 == 0 and element % 5 == 0:\n",
    "        print(\"fizzbuzz\")\n",
    "    if element % 3 == 0:\n",
    "        print(\"fizz\")\n",
    "    if element % 5 == 0:\n",
    "        print(\"buzz\")\n",
    "    else:\n",
    "        print(element)\n",
    "\n",
    "------------------------------------------------------------------------------------------------------------------------\n",
    "Hint:\n",
    "1. Use the modulo function % (modulo function provides the remainder of a division operation) to check if a number is \n",
    "divided by 3, 5, or 15\n",
    "\n",
    "2. 15 is divided by 3, 5, and 15. So if you check the condition whether a number in the range is divided by 3 first \n",
    "and secondly by 5 you will never get to check the condition whether the number is divided by 15."
   ]
  },
  {
   "cell_type": "code",
   "execution_count": 38,
   "metadata": {},
   "outputs": [
    {
     "name": "stdout",
     "output_type": "stream",
     "text": [
      "fizzbuzz\n",
      "1\n",
      "2\n",
      "fizz\n",
      "4\n",
      "buzz\n",
      "fizz\n",
      "7\n",
      "8\n",
      "fizz\n",
      "buzz\n",
      "11\n",
      "fizz\n",
      "13\n",
      "14\n",
      "fizzbuzz\n"
     ]
    }
   ],
   "source": [
    "for element in range(16):\n",
    "    if element % 3 == 0 and element % 5 == 0:\n",
    "        print(\"fizzbuzz\")\n",
    "        continue\n",
    "    if element % 3 == 0:\n",
    "        print(\"fizz\")\n",
    "        continue\n",
    "    if element % 5 == 0:\n",
    "        print(\"buzz\")\n",
    "        continue\n",
    "    else:\n",
    "        print(element)"
   ]
  },
  {
   "cell_type": "code",
   "execution_count": 39,
   "metadata": {},
   "outputs": [
    {
     "name": "stdout",
     "output_type": "stream",
     "text": [
      "1\n",
      "1\n",
      "2\n",
      "3\n",
      "5\n",
      "8\n",
      "13\n",
      "21\n",
      "34\n"
     ]
    }
   ],
   "source": [
    "Write a Python program to print the Fibonacci series between 0 to 50. Write your code using while loop.\n",
    "\n",
    "Note : The Fibonacci Sequence is the series of numbers :\n",
    "0, 1, 1, 2, 3, 5, 8, 13, 21, ....\n",
    "\n",
    "Every next number is found by adding up the two numbers before it. \n",
    "------------------------------------------------------------------------------------------------------------------------\n",
    "solution:\n",
    "\n",
    "x,y=0,1\n",
    "\n",
    "while y<50:\n",
    "    print(y)\n",
    "    x,y = y,x+y\n",
    "    \n",
    "------------------------------------------------------------------------------------------------------------------------\n",
    "Hint:\n",
    "1. Think of assigning y to x and x+y to y. Bonus points if you do the assignment effectively in one line\n"
   ]
  }
 ],
 "metadata": {
  "kernelspec": {
   "display_name": "Python 3",
   "language": "python",
   "name": "python3"
  },
  "language_info": {
   "codemirror_mode": {
    "name": "ipython",
    "version": 3
   },
   "file_extension": ".py",
   "mimetype": "text/x-python",
   "name": "python",
   "nbconvert_exporter": "python",
   "pygments_lexer": "ipython3",
   "version": "3.7.4"
  }
 },
 "nbformat": 4,
 "nbformat_minor": 2
}
