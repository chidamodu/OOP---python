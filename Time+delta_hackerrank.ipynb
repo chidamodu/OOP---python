{
 "cells": [
  {
   "cell_type": "code",
   "execution_count": 3,
   "metadata": {},
   "outputs": [],
   "source": [
    "import pandas as pd\n",
    "import lifetimes"
   ]
  },
  {
   "cell_type": "code",
   "execution_count": null,
   "metadata": {
    "collapsed": true
   },
   "outputs": [],
   "source": [
    "Sun 10 May 2015 13:54:36 -0700\n",
    "Sun 10 May 2015 13:54:36 -0000"
   ]
  },
  {
   "cell_type": "code",
   "execution_count": 5,
   "metadata": {},
   "outputs": [
    {
     "name": "stdout",
     "output_type": "stream",
     "text": [
      "25200\n"
     ]
    }
   ],
   "source": [
    "from datetime import datetime\n",
    "t2 = datetime.strptime('Sun 10 May 2015 13:54:36 -0700', \"%a %d %b %Y %H:%M:%S %z\")\n",
    "t1 = datetime.strptime('Sun 10 May 2015 13:54:36 -0000', \"%a %d %b %Y %H:%M:%S %z\")\n",
    "diff = (t2 - t1).seconds\n",
    "print(diff)"
   ]
  },
  {
   "cell_type": "code",
   "execution_count": 13,
   "metadata": {},
   "outputs": [
    {
     "name": "stdout",
     "output_type": "stream",
     "text": [
      "1800\n"
     ]
    }
   ],
   "source": [
    "# Sat 02 May 2015 19:54:36 +0530\n",
    "# Fri 01 May 2015 13:54:36 -0000\n",
    "        \n",
    "t2 = datetime.strptime('Sat 02 May 2015 19:54:36 +0530', \"%a %d %b %Y %H:%M:%S %z\")\n",
    "t1 = datetime.strptime('Fri 01 May 2015 13:54:36 -0000', \"%a %d %b %Y %H:%M:%S %z\")\n",
    "diff = abs(t2 - t1).seconds\n",
    "print(diff)\n"
   ]
  },
  {
   "cell_type": "code",
   "execution_count": 17,
   "metadata": {},
   "outputs": [
    {
     "name": "stdout",
     "output_type": "stream",
     "text": [
      "88200\n"
     ]
    }
   ],
   "source": [
    "#This works for difference in the hours, minutes, and seconds too on top of the additional value mentioned\n",
    "#to the side of the hours, minutes, and seconds\n",
    "from dateutil import parser\n",
    "t2 = parser.parse('Sat 02 May 2015 19:54:36 +0530')  \n",
    "t1 = parser.parse('Fri 01 May 2015 13:54:36 -0000')  \n",
    "diff = t2 - t1\n",
    "print(abs(int(diff.total_seconds())))"
   ]
  },
  {
   "cell_type": "code",
   "execution_count": 18,
   "metadata": {},
   "outputs": [
    {
     "name": "stdout",
     "output_type": "stream",
     "text": [
      "25200\n"
     ]
    }
   ],
   "source": [
    "t2 = parser.parse('Sun 10 May 2015 13:54:36 -0700')\n",
    "t1 = parser.parse('Sun 10 May 2015 13:54:36 -0000')\n",
    "diff = (t2 - t1).seconds\n",
    "print(diff)"
   ]
  },
  {
   "cell_type": "code",
   "execution_count": 19,
   "metadata": {},
   "outputs": [
    {
     "data": {
      "text/plain": [
       "['Sun 10 May 2015 13:54:36 -0700', 'Sun 10 May 2015 13:54:36 -0000']"
      ]
     },
     "execution_count": 19,
     "metadata": {},
     "output_type": "execute_result"
    }
   ],
   "source": [
    "l=['Sun 10 May 2015 13:54:36 -0700', 'Sun 10 May 2015 13:54:36 -0000', 'Sat 02 May 2015 19:54:36 +0530', 'Fri 01 May 2015 13:54:36 -0000']\n",
    "\n",
    "\n",
    "l[:2]"
   ]
  },
  {
   "cell_type": "code",
   "execution_count": 48,
   "metadata": {
    "collapsed": true
   },
   "outputs": [],
   "source": [
    "def time_delta(T, l):\n",
    "    from dateutil import parser\n",
    "    kite=[]\n",
    "    while l:\n",
    "        t1, t2= l[:T]\n",
    "        print(int(abs(parser.parse(t2)-parser.parse(t1)).total_seconds()))\n",
    "        l=l[T:]\n",
    "        "
   ]
  },
  {
   "cell_type": "code",
   "execution_count": 49,
   "metadata": {},
   "outputs": [
    {
     "name": "stdout",
     "output_type": "stream",
     "text": [
      "Sun 10 May 2015 13:54:36 -0700\n",
      "25200\n",
      "Sat 02 May 2015 19:54:36 +0530\n",
      "88200\n"
     ]
    }
   ],
   "source": [
    "time_delta(2, l=['Sun 10 May 2015 13:54:36 -0700', 'Sun 10 May 2015 13:54:36 -0000', 'Sat 02 May 2015 19:54:36 +0530', 'Fri 01 May 2015 13:54:36 -0000'])\n",
    "\n",
    "\n"
   ]
  },
  {
   "cell_type": "code",
   "execution_count": null,
   "metadata": {
    "collapsed": true
   },
   "outputs": [],
   "source": [
    "['Sun 10 May 2015 13:54:36 -0700'\n",
    " 'Sun 10 May 2015 13:54:36 -0000'\n",
    " 'Sat 02 May 2015 19:54:36 +0530'\n",
    " 'Fri 01 May 2015 13:54:36 -0000']\n",
    "\n",
    "\n"
   ]
  },
  {
   "cell_type": "code",
   "execution_count": 62,
   "metadata": {},
   "outputs": [
    {
     "name": "stdout",
     "output_type": "stream",
     "text": [
      "2\n",
      "'Sun 10 May 2015 13:54:36 -0700'\n",
      "'Sun 10 May 2015 13:54:36 -0000'\n",
      "'Sat 02 May 2015 19:54:36 +0530'\n",
      "'Fri 01 May 2015 13:54:36 -0000'\n",
      "25200\n",
      "88200\n"
     ]
    }
   ],
   "source": [
    "import sys\n",
    "def time_delta(T, l):\n",
    "    from dateutil import parser\n",
    "    kite=[]\n",
    "    while l:\n",
    "        t1, t2= l[:T]\n",
    "        print(int(abs(parser.parse(t2)-parser.parse(t1)).total_seconds()))\n",
    "        l=l[T:]\n",
    "if __name__ == \"__main__\":\n",
    "    T=int(input())\n",
    "    l=[]\n",
    "    for t_itr in range(T):\n",
    "        t1 = input()\n",
    "\n",
    "        t2 = input()\n",
    "        l.extend((t1, t2))\n",
    "\n",
    "    time_delta(T, l)\n",
    "        \n",
    "#         if(delta != None):\n",
    "#             print(delta)\n",
    "    \n",
    "#     l=list(input().split())\n",
    "#     l = [i for i in sys.stdin.readline()]\n",
    "\n",
    "    "
   ]
  },
  {
   "cell_type": "code",
   "execution_count": null,
   "metadata": {
    "collapsed": true
   },
   "outputs": [],
   "source": [
    "['Sun 10 May 2015 13:54:36 -0700'\n",
    " 'Sun 10 May 2015 13:54:36 -0000'\n",
    " 'Sat 02 May 2015 19:54:36 +0530'\n",
    " 'Fri 01 May 2015 13:54:36 -0000']\n",
    "\n",
    "\n"
   ]
  },
  {
   "cell_type": "code",
   "execution_count": 64,
   "metadata": {},
   "outputs": [],
   "source": [
    "#Hackerrank\n",
    "# Because dateutil module did not work both in python 2 and python 3, went with datetime below\n",
    "#!/bin/python3\n",
    "import math\n",
    "import os\n",
    "import random\n",
    "import re\n",
    "import sys\n",
    "\n",
    "# Complete the time_delta function below.\n",
    "def time_delta(t1, t2):\n",
    "    from datetime import datetime\n",
    "    t1 = datetime.strptime(t1,\"%a %d %b %Y %H:%M:%S %z\")\n",
    "    t2 = datetime.strptime(t2,\"%a %d %b %Y %H:%M:%S %z\")\n",
    "    result= (t1-t2).total_seconds()\n",
    "    return str(abs(int(result)))\n",
    "\n",
    "if __name__ == '__main__':\n",
    "    fptr = open(os.environ['OUTPUT_PATH'], 'w')\n",
    "\n",
    "    t = int(input())\n",
    "\n",
    "    for t_itr in range(t):\n",
    "        t1 = input()\n",
    "\n",
    "        t2 = input()\n",
    "\n",
    "        delta = time_delta(t1, t2)\n",
    "\n",
    "        fptr.write(delta + '\\n')\n",
    "\n",
    "    fptr.close()\n",
    "\n"
   ]
  },
  {
   "cell_type": "code",
   "execution_count": null,
   "metadata": {
    "collapsed": true
   },
   "outputs": [],
   "source": []
  }
 ],
 "metadata": {
  "kernelspec": {
   "display_name": "Python 3",
   "language": "python",
   "name": "python3"
  },
  "language_info": {
   "codemirror_mode": {
    "name": "ipython",
    "version": 3
   },
   "file_extension": ".py",
   "mimetype": "text/x-python",
   "name": "python",
   "nbconvert_exporter": "python",
   "pygments_lexer": "ipython3",
   "version": "3.6.1"
  }
 },
 "nbformat": 4,
 "nbformat_minor": 2
}
