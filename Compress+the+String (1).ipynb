{
 "cells": [
  {
   "cell_type": "code",
   "execution_count": 12,
   "metadata": {},
   "outputs": [
    {
     "data": {
      "text/plain": [
       "[('1', <itertools._grouper at 0x10720c898>),\n",
       " ('2', <itertools._grouper at 0x10720cbe0>),\n",
       " ('3', <itertools._grouper at 0x107216048>),\n",
       " ('1', <itertools._grouper at 0x107216080>)]"
      ]
     },
     "execution_count": 12,
     "metadata": {},
     "output_type": "execute_result"
    }
   ],
   "source": [
    "#11.57 - 12.12\n",
    "from itertools import groupby\n",
    "\n",
    "list(groupby(str(1222311)))"
   ]
  },
  {
   "cell_type": "code",
   "execution_count": 10,
   "metadata": {},
   "outputs": [
    {
     "data": {
      "text/plain": [
       "[(0, '1'), (1, '2'), (2, '2'), (3, '2'), (4, '3'), (5, '1'), (6, '1')]"
      ]
     },
     "execution_count": 10,
     "metadata": {},
     "output_type": "execute_result"
    }
   ],
   "source": [
    "list(enumerate(str(1222311)))"
   ]
  },
  {
   "cell_type": "code",
   "execution_count": 19,
   "metadata": {},
   "outputs": [
    {
     "ename": "IndentationError",
     "evalue": "expected an indented block (<ipython-input-19-014fb3416118>, line 4)",
     "output_type": "error",
     "traceback": [
      "\u001b[0;36m  File \u001b[0;32m\"<ipython-input-19-014fb3416118>\"\u001b[0;36m, line \u001b[0;32m4\u001b[0m\n\u001b[0;31m    print(key)\u001b[0m\n\u001b[0m        ^\u001b[0m\n\u001b[0;31mIndentationError\u001b[0m\u001b[0;31m:\u001b[0m expected an indented block\n"
     ]
    }
   ],
   "source": [
    "k=str(1222311)\n",
    "# groupby(k).apply(sum(lambda x: x in k))\n"
   ]
  },
  {
   "cell_type": "code",
   "execution_count": 27,
   "metadata": {},
   "outputs": [
    {
     "name": "stdout",
     "output_type": "stream",
     "text": [
      "1\n",
      "2\n",
      "3\n",
      "1\n"
     ]
    }
   ],
   "source": [
    "for key, val in groupby(k):\n",
    "    print(key)"
   ]
  },
  {
   "cell_type": "code",
   "execution_count": 61,
   "metadata": {},
   "outputs": [
    {
     "data": {
      "text/plain": [
       "[1, 3, 1, 2]"
      ]
     },
     "execution_count": 61,
     "metadata": {},
     "output_type": "execute_result"
    }
   ],
   "source": [
    "res=[len(list(g)) for k, g in groupby(str(1222311))]\n",
    "res"
   ]
  },
  {
   "cell_type": "code",
   "execution_count": 62,
   "metadata": {
    "collapsed": true
   },
   "outputs": [],
   "source": [
    "kite=[k for k, g in groupby(str(1222311))]"
   ]
  },
  {
   "cell_type": "code",
   "execution_count": 65,
   "metadata": {},
   "outputs": [
    {
     "name": "stdout",
     "output_type": "stream",
     "text": [
      "[(1, 1), (3, 2), (1, 3), (2, 1)]\n"
     ]
    }
   ],
   "source": [
    "print(list(zip(res, map(int, kite))))"
   ]
  },
  {
   "cell_type": "code",
   "execution_count": 55,
   "metadata": {},
   "outputs": [
    {
     "data": {
      "text/plain": [
       "[7]"
      ]
     },
     "execution_count": 55,
     "metadata": {},
     "output_type": "execute_result"
    }
   ],
   "source": [
    "res=[len(list(g)) for k, g in groupby('0000000')]\n",
    "res"
   ]
  },
  {
   "cell_type": "code",
   "execution_count": 56,
   "metadata": {},
   "outputs": [
    {
     "data": {
      "text/plain": [
       "['0']"
      ]
     },
     "execution_count": 56,
     "metadata": {},
     "output_type": "execute_result"
    }
   ],
   "source": [
    "kite=[k for k, g in groupby(str(0000000))]\n",
    "kite"
   ]
  },
  {
   "cell_type": "code",
   "execution_count": 57,
   "metadata": {},
   "outputs": [
    {
     "data": {
      "text/plain": [
       "0"
      ]
     },
     "execution_count": 57,
     "metadata": {},
     "output_type": "execute_result"
    }
   ],
   "source": [
    "int('0000000')"
   ]
  },
  {
   "cell_type": "code",
   "execution_count": 111,
   "metadata": {},
   "outputs": [
    {
     "name": "stdout",
     "output_type": "stream",
     "text": [
      "1222311\n",
      "(1, 1) (3, 2) (1, 3) (2, 1)\n"
     ]
    }
   ],
   "source": [
    "#Hackerrank submission\n",
    "def compress_string(s):\n",
    "    from itertools import groupby\n",
    "    if (int(s)>=1) or (int(s) <= 10**4):\n",
    "        count_int=[len(list(g)) for k, g in groupby(s)]\n",
    "        int_value=[key for key, v in groupby(s)]\n",
    "        print(' '.join(str(a) for a in list(zip(count_int, map(int, int_value)))))\n",
    "        \n",
    "if __name__ == \"__main__\":\n",
    "    s=input()\n",
    "    compress_string(s)       \n",
    "        \n",
    "    \n",
    "    "
   ]
  },
  {
   "cell_type": "code",
   "execution_count": 110,
   "metadata": {},
   "outputs": [
    {
     "name": "stdout",
     "output_type": "stream",
     "text": [
      "(1, 1) (3, 2) (1, 3) (2, 1)\n"
     ]
    }
   ],
   "source": [
    "compress_string(\"1222311\")"
   ]
  },
  {
   "cell_type": "code",
   "execution_count": 133,
   "metadata": {},
   "outputs": [],
   "source": [
    "#Although it's only O(n) time complexity, let's try with just one for loop\n",
    "#at least there's posibility, but not sure how lsit used here better than the list comprehensions mentioned\n",
    "#above\n",
    "def compress_string(s):\n",
    "    from itertools import groupby\n",
    "    if (int(s)>=1) or (int(s) <= 10**4):\n",
    "        for k, v in groupby(s):\n",
    "            count_int=len(list(v))\n",
    "            \n",
    "            int_value=k\n",
    "            \n",
    "            print(list(zip(list((count_int, int_value)))))\n",
    "#         print(' '.join(str(a) for a in list(zip(count_int, int_value))))\n",
    "        \n",
    "# if __name__ == \"__main__\":\n",
    "#     s=input()\n",
    "#     compress_string(s)       \n",
    "        "
   ]
  },
  {
   "cell_type": "code",
   "execution_count": 134,
   "metadata": {},
   "outputs": [
    {
     "name": "stdout",
     "output_type": "stream",
     "text": [
      "[(1,), ('1',)]\n",
      "[(3,), ('2',)]\n",
      "[(1,), ('3',)]\n",
      "[(2,), ('1',)]\n"
     ]
    }
   ],
   "source": [
    "compress_string(\"1222311\")"
   ]
  },
  {
   "cell_type": "code",
   "execution_count": 78,
   "metadata": {},
   "outputs": [
    {
     "name": "stdout",
     "output_type": "stream",
     "text": [
      "yes\n"
     ]
    }
   ],
   "source": [
    "s='1222311'\n",
    "if (int(s)>=1) or (int(s) <= 10**4):\n",
    "    print(\"yes\")\n",
    "    "
   ]
  },
  {
   "cell_type": "code",
   "execution_count": 77,
   "metadata": {},
   "outputs": [
    {
     "data": {
      "text/plain": [
       "1222311"
      ]
     },
     "execution_count": 77,
     "metadata": {},
     "output_type": "execute_result"
    }
   ],
   "source": [
    "int(s)"
   ]
  },
  {
   "cell_type": "code",
   "execution_count": 95,
   "metadata": {},
   "outputs": [
    {
     "name": "stdout",
     "output_type": "stream",
     "text": [
      "(1, 0),(9, 2),(8, 3)\n"
     ]
    }
   ],
   "source": [
    "X = ','.join( str(a) for a in [(1,0),(9,2),(8,3)] )\n",
    "print(X)"
   ]
  },
  {
   "cell_type": "code",
   "execution_count": null,
   "metadata": {
    "collapsed": true
   },
   "outputs": [],
   "source": []
  }
 ],
 "metadata": {
  "kernelspec": {
   "display_name": "Python 3",
   "language": "python",
   "name": "python3"
  },
  "language_info": {
   "codemirror_mode": {
    "name": "ipython",
    "version": 3
   },
   "file_extension": ".py",
   "mimetype": "text/x-python",
   "name": "python",
   "nbconvert_exporter": "python",
   "pygments_lexer": "ipython3",
   "version": "3.6.1"
  }
 },
 "nbformat": 4,
 "nbformat_minor": 2
}
