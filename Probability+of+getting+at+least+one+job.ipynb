{
 "cells": [
  {
   "cell_type": "code",
   "execution_count": null,
   "metadata": {
    "collapsed": true
   },
   "outputs": [],
   "source": [
    "(#5.16 - 5.23) Basic Probability Puzzles #9\n",
    "#10.39\n",
    "\n",
    "\n",
    "1: 12\n",
    "2: 15\n",
    "3: 10\n",
    "at least one company\n",
    "    \n",
    "11/12, 14/15, 9/10\n",
    "    \n",
    "So the idea here is that whenever a probability question is asked with at least option the best route to \n",
    "solution would be to calculate the probability of not getting in any of the options and multiply. finally \n",
    "subtract it from 1 to get the at least solution\n",
    "\n",
    "P{not getting company 1} = 11 / 12 \n",
    "Pr{not getting company 2} = 14 / 15 \n",
    "Pr{not getting company 3} = 9 / 10 \n",
    "Pr{not getting in any of the companies} = 11/12 * 14/15 * 9/10 = 77/100 \n",
    "Pr{Getting at least one post} = 1 - Pr{not getting in any of the companies} = 1-(77/100)=23/100 \n"
   ]
  }
 ],
 "metadata": {
  "kernelspec": {
   "display_name": "Python 3",
   "language": "python",
   "name": "python3"
  },
  "language_info": {
   "codemirror_mode": {
    "name": "ipython",
    "version": 3
   },
   "file_extension": ".py",
   "mimetype": "text/x-python",
   "name": "python",
   "nbconvert_exporter": "python",
   "pygments_lexer": "ipython3",
   "version": "3.6.1"
  }
 },
 "nbformat": 4,
 "nbformat_minor": 2
}
