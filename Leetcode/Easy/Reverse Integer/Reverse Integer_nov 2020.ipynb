{
 "cells": [
  {
   "cell_type": "code",
   "execution_count": null,
   "metadata": {},
   "outputs": [],
   "source": [
    "Given a 32-bit signed integer, reverse digits of an integer.\n",
    "\n",
    "Note:\n",
    "Assume we are dealing with an environment that could only store integers within the 32-bit signed integer \n",
    "range: [−231,  231 − 1]. For the purpose of this problem, assume that your function returns 0 when the reversed \n",
    "integer overflows.\n",
    "\n",
    "Example 1:\n",
    "Input: x = 123\n",
    "Output: 321\n",
    "\n",
    "Example 2:\n",
    "Input: x = -123\n",
    "Output: -321\n",
    "\n",
    "Example 3:\n",
    "Input: x = 120\n",
    "Output: 21\n",
    "\n",
    "Example 4:\n",
    "Input: x = 0\n",
    "Output: 0\n",
    " \n",
    "Constraints:\n",
    "-2^31 <= x <= 2^31 - 1\n"
   ]
  },
  {
   "cell_type": "code",
   "execution_count": 31,
   "metadata": {},
   "outputs": [],
   "source": [
    "\n",
    "def reverse(x):\n",
    "    \n",
    "    res=0\n",
    "    original=x\n",
    "    sign=False\n",
    "    \n",
    "    if x<0:\n",
    "        sign=True\n",
    "        x=abs(x)   \n",
    "    \n",
    "    while x>0:\n",
    "        res=(res*10)+(x%10)\n",
    "        x//=10\n",
    "\n",
    "    if res > -2**31 and res < (2**31)-1:\n",
    "        return -res if sign else res\n",
    "    \n",
    "    else:\n",
    "        return 0\n",
    "        \n",
    "    \n",
    "\n",
    "    \n",
    "result:\n",
    "Runtime: 32 ms, faster than 61.89% of Python3 online submissions for Reverse Integer.\n",
    "Memory Usage: 14.2 MB, less than 99.99% of Python3 online submissions for Reverse Integer.\n"
   ]
  },
  {
   "cell_type": "code",
   "execution_count": 32,
   "metadata": {},
   "outputs": [
    {
     "data": {
      "text/plain": [
       "0"
      ]
     },
     "execution_count": 32,
     "metadata": {},
     "output_type": "execute_result"
    }
   ],
   "source": [
    "reverse(1534236469)"
   ]
  },
  {
   "cell_type": "code",
   "execution_count": 55,
   "metadata": {},
   "outputs": [],
   "source": [
    "Alternative solution: converting the given numebr into string and for-looping backwards\n",
    "\n",
    "def reverse(x):\n",
    "    original=x\n",
    "    res=''\n",
    "    \n",
    "    sign=False\n",
    "    \n",
    "    if x<0:\n",
    "        sign=True\n",
    "        x=abs(x)   \n",
    "    \n",
    "    x=str(x)\n",
    "    \n",
    "    for i in range(len(x), 0, -1):\n",
    "        res+=x[i-1]\n",
    "        \n",
    "    n=int(res)\n",
    "        \n",
    "    if n > -2**31 and n < (2**31)-1:\n",
    "        return -n if sign else n\n",
    "    \n",
    "    else:\n",
    "        return 0\n",
    "        \n",
    "    \n",
    "   "
   ]
  },
  {
   "cell_type": "code",
   "execution_count": 56,
   "metadata": {},
   "outputs": [
    {
     "data": {
      "text/plain": [
       "0"
      ]
     },
     "execution_count": 56,
     "metadata": {},
     "output_type": "execute_result"
    }
   ],
   "source": [
    "reverse(0)"
   ]
  }
 ],
 "metadata": {
  "kernelspec": {
   "display_name": "Python 3",
   "language": "python",
   "name": "python3"
  },
  "language_info": {
   "codemirror_mode": {
    "name": "ipython",
    "version": 3
   },
   "file_extension": ".py",
   "mimetype": "text/x-python",
   "name": "python",
   "nbconvert_exporter": "python",
   "pygments_lexer": "ipython3",
   "version": "3.7.4"
  }
 },
 "nbformat": 4,
 "nbformat_minor": 2
}
