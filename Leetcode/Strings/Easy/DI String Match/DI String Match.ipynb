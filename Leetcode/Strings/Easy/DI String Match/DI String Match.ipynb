{
 "cells": [
  {
   "cell_type": "code",
   "execution_count": null,
   "metadata": {},
   "outputs": [],
   "source": [
    "Given a string S that only contains \"I\" (increase) or \"D\" (decrease), let N = S.length.\n",
    "\n",
    "Return any permutation A of [0, 1, ..., N] such that for all i = 0, ..., N-1:\n",
    "\n",
    "If S[i] == \"I\", then A[i] < A[i+1]\n",
    "If S[i] == \"D\", then A[i] > A[i+1]\n",
    " \n",
    "\n",
    "Example 1:\n",
    "Input: \"IDID\"\n",
    "Output: [0,4,1,3,2]\n",
    "\n",
    "Example 2:\n",
    "Input: \"III\"\n",
    "Output: [0,1,2,3]\n",
    "\n",
    "Example 3:\n",
    "Input: \"DDI\"\n",
    "Output: [3,2,0,1]\n",
    " \n",
    "\n",
    "Note:\n",
    "1 <= S.length <= 10000\n",
    "S only contains characters \"I\" or \"D\".\n"
   ]
  },
  {
   "cell_type": "code",
   "execution_count": 13,
   "metadata": {},
   "outputs": [],
   "source": [
    "Yay my solution rocks\n",
    "\n",
    "def diStringMatch(S):\n",
    "    result=[]\n",
    "    I=0\n",
    "    D=len(S)\n",
    "    \n",
    "    for i in S:\n",
    "        if i=='I':\n",
    "            result.append(I)\n",
    "            I+=1\n",
    "            \n",
    "        if i=='D':\n",
    "            result.append(D)\n",
    "            D-=1\n",
    "            \n",
    "    result.append(I)\n",
    "            \n",
    "    return result\n",
    "            \n",
    "            \n",
    "        \n",
    "outcome:\n",
    "Runtime: 64 ms, faster than 64.32% of Python3 online submissions for DI String Match.\n",
    "Memory Usage: 15.2 MB, less than 99.89% of Python3 online submissions for DI String Match."
   ]
  },
  {
   "cell_type": "code",
   "execution_count": 14,
   "metadata": {},
   "outputs": [
    {
     "data": {
      "text/plain": [
       "[3, 2, 0, 1]"
      ]
     },
     "execution_count": 14,
     "metadata": {},
     "output_type": "execute_result"
    }
   ],
   "source": [
    "diStringMatch(\"DDI\")"
   ]
  }
 ],
 "metadata": {
  "kernelspec": {
   "display_name": "Python 3",
   "language": "python",
   "name": "python3"
  },
  "language_info": {
   "codemirror_mode": {
    "name": "ipython",
    "version": 3
   },
   "file_extension": ".py",
   "mimetype": "text/x-python",
   "name": "python",
   "nbconvert_exporter": "python",
   "pygments_lexer": "ipython3",
   "version": "3.7.4"
  }
 },
 "nbformat": 4,
 "nbformat_minor": 2
}
