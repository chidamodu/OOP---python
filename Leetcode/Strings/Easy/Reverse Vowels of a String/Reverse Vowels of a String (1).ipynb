{
 "cells": [
  {
   "cell_type": "code",
   "execution_count": null,
   "metadata": {},
   "outputs": [],
   "source": [
    "\n",
    "Write a function that takes a string as input and reverse only the vowels of a string.\n",
    "\n",
    "Example 1:\n",
    "Input: \"hello\"\n",
    "Output: \"holle\"\n",
    "\n",
    "Example 2:\n",
    "Input: \"leetcode\"\n",
    "Output: \"leotcede\"\n",
    "\n",
    "Note:\n",
    "The vowels does not include the letter \"y\".\n",
    "\n"
   ]
  },
  {
   "cell_type": "code",
   "execution_count": 25,
   "metadata": {},
   "outputs": [],
   "source": [
    "\n",
    "def reverseVowels(s):\n",
    "    \n",
    "    if not s:\n",
    "        return \"\"\n",
    "    elif len(s) == 1:\n",
    "        return s\n",
    "    \n",
    "    d=['a','e','i','o','u','A','E','I','O','U']\n",
    "    \n",
    "    left, right=0, len(s)-1\n",
    "    \n",
    "    list_s=[i for i in s]\n",
    "\n",
    "    \n",
    "    while left<=right:\n",
    "        \n",
    "        if list_s[left] in d and list_s[right] in d:\n",
    "            \n",
    "            list_s[left], list_s[right]=list_s[right], list_s[left]\n",
    "            \n",
    "            left+=1\n",
    "            right-=1\n",
    "            \n",
    "        elif list_s[right] in d and list_s[left] not in d:\n",
    "            left+=1\n",
    "            \n",
    "        elif list_s[left] in d and list_s[right] not in d:\n",
    "            right-=1\n",
    "            \n",
    "        else:#this is included here for cases where what if both list_s[left] and list_s[right] not in d?\n",
    "            left+=1\n",
    "            right-=1\n",
    "            \n",
    "    return \"\".join(list_s)\n",
    "    \n",
    "    \n",
    "    \n",
    "outcome:\n",
    "Runtime: 60 ms, faster than 51.83% of Python3 online submissions for Reverse Vowels of a String.\n",
    "Memory Usage: 15.5 MB, less than 8.89% of Python3 online submissions for Reverse Vowels of a String."
   ]
  },
  {
   "cell_type": "code",
   "execution_count": 26,
   "metadata": {},
   "outputs": [
    {
     "data": {
      "text/plain": [
       "'leotcede'"
      ]
     },
     "execution_count": 26,
     "metadata": {},
     "output_type": "execute_result"
    }
   ],
   "source": [
    "reverseVowels(\"leetcode\")"
   ]
  },
  {
   "cell_type": "code",
   "execution_count": null,
   "metadata": {},
   "outputs": [],
   "source": [
    "Just changed d from list to dictionary and speed up the process\n",
    "\n",
    "class Solution:\n",
    "    def reverseVowels(self, s: str) -> str:\n",
    "        if not s:\n",
    "            return \"\"\n",
    "        elif len(s) == 1:\n",
    "            return s\n",
    "    \n",
    "        d={'a','e','i','o','u','A','E','I','O','U'}\n",
    "    \n",
    "        left, right=0, len(s)-1\n",
    "    \n",
    "        list_s=[i for i in s]\n",
    "\n",
    "    \n",
    "        while left<=right:\n",
    "        \n",
    "            if list_s[left] in d and list_s[right] in d:\n",
    "            \n",
    "                list_s[left], list_s[right]=list_s[right], list_s[left]\n",
    "            \n",
    "                left+=1\n",
    "                right-=1\n",
    "            \n",
    "            elif list_s[right] in d and list_s[left] not in d:\n",
    "                left+=1\n",
    "            \n",
    "            elif list_s[left] in d and list_s[right] not in d:\n",
    "                right-=1\n",
    "            \n",
    "            else:#this is included here for cases where what if both list_s[left] and list_s[right] not in d?\n",
    "                left+=1\n",
    "                right-=1\n",
    "            \n",
    "        return \"\".join(list_s)\n",
    "    \n",
    "        \n",
    "outcome:\n",
    "Runtime: 52 ms, faster than 72.22% of Python3 online submissions for Reverse Vowels of a String.\n",
    "Memory Usage: 15.5 MB, less than 8.89% of Python3 online submissions for Reverse Vowels of a String."
   ]
  }
 ],
 "metadata": {
  "kernelspec": {
   "display_name": "Python 3",
   "language": "python",
   "name": "python3"
  },
  "language_info": {
   "codemirror_mode": {
    "name": "ipython",
    "version": 3
   },
   "file_extension": ".py",
   "mimetype": "text/x-python",
   "name": "python",
   "nbconvert_exporter": "python",
   "pygments_lexer": "ipython3",
   "version": "3.7.4"
  }
 },
 "nbformat": 4,
 "nbformat_minor": 2
}
