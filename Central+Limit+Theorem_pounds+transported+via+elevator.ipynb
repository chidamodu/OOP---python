{
 "cells": [
  {
   "cell_type": "code",
   "execution_count": 4,
   "metadata": {},
   "outputs": [
    {
     "name": "stdout",
     "output_type": "stream",
     "text": [
      "9800\n",
      "49\n",
      "205\n",
      "15\n",
      "0.0098\n"
     ]
    }
   ],
   "source": [
    "#10:22-11.09\n",
    "#But not sure of the answer\n",
    "\n",
    "def central_limit(x, n, mean_val, std):\n",
    "    import math\n",
    "    mean_sum = n * mean_val\n",
    "    std_sum = math.sqrt(n) * std\n",
    "    print(round(0.5 * (1 + math.erf((x - mean_sum)/ (std_sum * math.sqrt(2)))), 4))\n",
    "    \n",
    "    \n",
    "if __name__==\"__main__\":\n",
    "    x=int(input())\n",
    "    n=int(input())\n",
    "    mean_val=int(input())\n",
    "    std=int(input())\n",
    "    central_limit(x, n, mean_val, std)\n",
    "\n"
   ]
  },
  {
   "cell_type": "code",
   "execution_count": 2,
   "metadata": {},
   "outputs": [
    {
     "name": "stdout",
     "output_type": "stream",
     "text": [
      "0.0098\n"
     ]
    }
   ],
   "source": [
    "#Hackerrank submission (although the python program spitted runtime error the answer turns to be correct)\n",
    "def central_limit(x, n, mean_val, std):\n",
    "    import math\n",
    "    mean_sum = n * mean_val\n",
    "    std_sum = math.sqrt(n) * std\n",
    "    print(round(0.5 * (1 + math.erf((x - mean_sum)/ (std_sum * math.sqrt(2.0)))), 4))\n",
    "central_limit(9800, 49, 205, 15)    "
   ]
  }
 ],
 "metadata": {
  "kernelspec": {
   "display_name": "Python 3",
   "language": "python",
   "name": "python3"
  },
  "language_info": {
   "codemirror_mode": {
    "name": "ipython",
    "version": 3
   },
   "file_extension": ".py",
   "mimetype": "text/x-python",
   "name": "python",
   "nbconvert_exporter": "python",
   "pygments_lexer": "ipython3",
   "version": "3.6.1"
  }
 },
 "nbformat": 4,
 "nbformat_minor": 2
}
