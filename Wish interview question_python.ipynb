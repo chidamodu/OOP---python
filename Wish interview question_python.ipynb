{
 "cells": [
  {
   "cell_type": "code",
   "execution_count": 7,
   "metadata": {},
   "outputs": [],
   "source": [
    "Write a function to validate whether an array is symmetrical or not\n",
    "\n",
    "def symmetry_find(arr):\n",
    "    d={}\n",
    "    result=[]\n",
    "    \n",
    "    for i in range(len(arr)):\n",
    "        d[arr[i]]=d.get(arr[i], 0)+1\n",
    "    \n",
    "    for k, v in d.items():\n",
    "        if v%2 != 0:\n",
    "            result.append(k)\n",
    "            \n",
    "    if len(result)<=1:\n",
    "        return True\n",
    "    else:\n",
    "        return False\n",
    "        "
   ]
  },
  {
   "cell_type": "code",
   "execution_count": 8,
   "metadata": {},
   "outputs": [
    {
     "data": {
      "text/plain": [
       "False"
      ]
     },
     "execution_count": 8,
     "metadata": {},
     "output_type": "execute_result"
    }
   ],
   "source": [
    "symmetry_find([1,1,0,0,3,3,3,5])"
   ]
  },
  {
   "cell_type": "code",
   "execution_count": 9,
   "metadata": {},
   "outputs": [],
   "source": [
    "# Now on to the optimization part\n",
    "\n",
    "def symmetry_find(arr):\n",
    "    d={}\n",
    "    c=0\n",
    "    \n",
    "    for i in range(len(arr)):\n",
    "        d[arr[i]]=d.get(arr[i], 0)+1\n",
    "    \n",
    "    for k, v in d.items():\n",
    "        if v%2 != 0:\n",
    "            c+=1\n",
    "            \n",
    "    if c<=1:\n",
    "        return True\n",
    "    else:\n",
    "        return False\n",
    "        "
   ]
  },
  {
   "cell_type": "code",
   "execution_count": 10,
   "metadata": {},
   "outputs": [
    {
     "data": {
      "text/plain": [
       "False"
      ]
     },
     "execution_count": 10,
     "metadata": {},
     "output_type": "execute_result"
    }
   ],
   "source": [
    "symmetry_find([1,1,0,0,3,3,3,5])"
   ]
  }
 ],
 "metadata": {
  "kernelspec": {
   "display_name": "Python 3",
   "language": "python",
   "name": "python3"
  },
  "language_info": {
   "codemirror_mode": {
    "name": "ipython",
    "version": 3
   },
   "file_extension": ".py",
   "mimetype": "text/x-python",
   "name": "python",
   "nbconvert_exporter": "python",
   "pygments_lexer": "ipython3",
   "version": "3.7.4"
  }
 },
 "nbformat": 4,
 "nbformat_minor": 2
}
