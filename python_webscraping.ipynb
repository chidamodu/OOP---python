{
 "cells": [
  {
   "cell_type": "code",
   "execution_count": null,
   "metadata": {
    "collapsed": true
   },
   "outputs": [],
   "source": [
    "Implement the function `etsy_query` which takes a query and returns the usernames who have a result on the first page.\n",
    "\n",
    "    The url of a query has this form: `https://www.etsy.com/search?q=data`\n",
    "\n",
    "    ```python\n",
    "    >>> usernames = p.etsy_query(\"data\")\n",
    "    >>> len(usernames)\n",
    "    42\n",
    "    >>> usernames[:4]\n",
    "    [u'Sixteen9', u'JohnsonArmsProps', u'UnicornTees', u'4blokes']\n",
    "    ```\n",
    "    (Note that your answers might be slightly different since things on the web change.)\n",
    "    <br />\n",
    "\n"
   ]
  },
  {
   "cell_type": "code",
   "execution_count": 5,
   "metadata": {
    "collapsed": true
   },
   "outputs": [],
   "source": [
    "def etsy_query(url):\n",
    "    import requests\n",
    "    from bs4 import BeautifulSoup\n",
    "    r = requests.get(url)\n",
    "    soup = BeautifulSoup(r.text, 'html.parser')\n",
    "    art1 = soup.findAll(\"div\", {\"class\":\"v2-listing-card__shop\"})\n",
    "    result=[]\n",
    "    for x in art1:\n",
    "        result.append(x.find('p').text)\n",
    "    return result[:6]"
   ]
  },
  {
   "cell_type": "code",
   "execution_count": 10,
   "metadata": {
    "scrolled": true
   },
   "outputs": [],
   "source": [
    "#Complete this function that will give the number of jobs on indeed from a search result (i.e., from number of job ads appear on a given page)\n",
    "\n",
    "def number_of_jobs(url):\n",
    "    import requests\n",
    "    from bs4 import BeautifulSoup\n",
    "    jobs = []\n",
    "    g=requests.get(url)\n",
    "    soup=BeautifulSoup(g.text, 'html.parser')\n",
    "    for div in soup.find_all(name=\"div\", attrs={\"class\":\"row\"}):\n",
    "        for a in div.find_all(name=\"a\", attrs={\"data-tn-element\":\"jobTitle\"}):\n",
    "            jobs.append(a[\"title\"])\n",
    "    return(len(jobs))\n"
   ]
  }
 ],
 "metadata": {
  "kernelspec": {
   "display_name": "Python [conda root]",
   "language": "python",
   "name": "conda-root-py"
  },
  "language_info": {
   "codemirror_mode": {
    "name": "ipython",
    "version": 3
   },
   "file_extension": ".py",
   "mimetype": "text/x-python",
   "name": "python",
   "nbconvert_exporter": "python",
   "pygments_lexer": "ipython3",
   "version": "3.5.4"
  }
 },
 "nbformat": 4,
 "nbformat_minor": 2
}
