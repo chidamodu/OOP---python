{
 "cells": [
  {
   "cell_type": "code",
   "execution_count": null,
   "metadata": {},
   "outputs": [],
   "source": [
    "Given two non-negative integers num1 and num2 represented as string, return the sum of num1 and num2.\n",
    "\n",
    "Note:\n",
    "The length of both num1 and num2 is < 5100.\n",
    "Both num1 and num2 contains only digits 0-9.\n",
    "Both num1 and num2 does not contain any leading zero.\n",
    "You must not use any built-in BigInteger library or convert the inputs to integer directly.\n"
   ]
  },
  {
   "cell_type": "code",
   "execution_count": 19,
   "metadata": {},
   "outputs": [],
   "source": [
    "\n",
    "def add_strings(num):\n",
    "    result=0\n",
    "    n=len(num)-1    \n",
    "    for i in num:\n",
    "        result+=int(i)*(10**n)\n",
    "        n-=1\n",
    "    return result\n",
    "        \n",
    "def addStrings(num1, num2): \n",
    "    return add_strings(num1)+add_strings(num2)\n"
   ]
  },
  {
   "cell_type": "code",
   "execution_count": 20,
   "metadata": {},
   "outputs": [
    {
     "data": {
      "text/plain": [
       "1000"
      ]
     },
     "execution_count": 20,
     "metadata": {},
     "output_type": "execute_result"
    }
   ],
   "source": [
    "addStrings('900', '100')"
   ]
  },
  {
   "cell_type": "code",
   "execution_count": 23,
   "metadata": {},
   "outputs": [],
   "source": [
    "def addStrings(num1, num2): \n",
    "    \n",
    "    def add_strings(num):\n",
    "        result=0\n",
    "        n=len(num)-1\n",
    "        for i in num:\n",
    "            result+=int(i)*(10**n)\n",
    "            n-=1\n",
    "        return result\n",
    "        \n",
    "    return str(add_strings(num1)+add_strings(num2))\n",
    "\n",
    "\n"
   ]
  },
  {
   "cell_type": "code",
   "execution_count": 24,
   "metadata": {},
   "outputs": [
    {
     "data": {
      "text/plain": [
       "'1000'"
      ]
     },
     "execution_count": 24,
     "metadata": {},
     "output_type": "execute_result"
    }
   ],
   "source": [
    "addStrings('900', '100')"
   ]
  },
  {
   "cell_type": "code",
   "execution_count": null,
   "metadata": {},
   "outputs": [],
   "source": [
    "Final submission - yay my code rocks\n",
    "\n",
    "class Solution:\n",
    "    def addStrings(self, num1: str, num2: str) -> str:\n",
    "        def add_strings(num):\n",
    "            result=0\n",
    "            n=len(num)-1\n",
    "            for i in num:\n",
    "                result+=int(i)*(10**n)\n",
    "                n-=1\n",
    "            return result\n",
    "        \n",
    "        return str(add_strings(num1)+add_strings(num2))\n",
    "        "
   ]
  },
  {
   "cell_type": "code",
   "execution_count": 25,
   "metadata": {},
   "outputs": [],
   "source": [
    "Alternative solution\n",
    "\n",
    "def addStrings(num1, num2): \n",
    "    \n",
    "    def add_strings(num):\n",
    "        result=0\n",
    "        n=len(num)-1\n",
    "        d={\"0\":0, \"1\":1, \"2\":2, \"3\":3, \"4\":4, \"5\":5, \"6\":6, \"7\":7, \"8\":8, \"9\":9}#instead of using int(i) can use dictionary\n",
    "        \n",
    "        for i in num:\n",
    "            result+=d[i]*(10**n)\n",
    "            n-=1\n",
    "        return result\n",
    "        \n",
    "    return str(add_strings(num1)+add_strings(num2))\n",
    "\n",
    "\n"
   ]
  },
  {
   "cell_type": "code",
   "execution_count": 26,
   "metadata": {},
   "outputs": [
    {
     "data": {
      "text/plain": [
       "'1000'"
      ]
     },
     "execution_count": 26,
     "metadata": {},
     "output_type": "execute_result"
    }
   ],
   "source": [
    "addStrings('900', '100')"
   ]
  }
 ],
 "metadata": {
  "kernelspec": {
   "display_name": "Python 3",
   "language": "python",
   "name": "python3"
  },
  "language_info": {
   "codemirror_mode": {
    "name": "ipython",
    "version": 3
   },
   "file_extension": ".py",
   "mimetype": "text/x-python",
   "name": "python",
   "nbconvert_exporter": "python",
   "pygments_lexer": "ipython3",
   "version": "3.7.4"
  }
 },
 "nbformat": 4,
 "nbformat_minor": 2
}
