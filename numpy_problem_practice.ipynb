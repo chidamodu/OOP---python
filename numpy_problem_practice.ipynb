{
 "cells": [
  {
   "cell_type": "code",
   "execution_count": null,
   "metadata": {
    "collapsed": true
   },
   "outputs": [],
   "source": [
    "Implement the function `column_averages`: It takes the name of the csv file. Return a dictionary whose keys are the names of the columns and values are the mean of the column.\n",
    "\n",
    "    `example.csv` contains the following random \"data\":\n",
    "\n",
    "        A,B,C\n",
    "        0.2,1170,90\n",
    "        0.1,1978,34\n",
    "        0.6,1435,60\n",
    "        0.1,758,94\n",
    "        0.8,1313,43\n",
    "\n",
    "    Your code should run as follows:\n",
    "   ```python\n",
    "    >>> p.column_averages('data/example.csv')\n",
    "    {'A': 0.35999999999999999, 'C': 64.200000000000003, 'B': 1330.8}\n",
    "    ```\n",
    "    <br />"
   ]
  },
  {
   "cell_type": "code",
   "execution_count": 1,
   "metadata": {
    "collapsed": true
   },
   "outputs": [],
   "source": [
    "def column_averages(name_csv):\n",
    "    d={}\n",
    "    import pandas as pd\n",
    "    df=pd.read_csv(name_csv)\n",
    "    for c in df.columns:\n",
    "        d[c]=df[c].mean()\n",
    "    return d\n",
    "    "
   ]
  },
  {
   "cell_type": "code",
   "execution_count": 2,
   "metadata": {},
   "outputs": [
    {
     "data": {
      "text/plain": [
       "{' balance': 300.0, 'tree': 564.8, 'zoo': 35.204}"
      ]
     },
     "execution_count": 2,
     "metadata": {},
     "output_type": "execute_result"
    }
   ],
   "source": [
    "column_averages(\"filename.csv\")"
   ]
  },
  {
   "cell_type": "code",
   "execution_count": null,
   "metadata": {
    "collapsed": true
   },
   "outputs": [],
   "source": [
    "Implement the function `filter_by_class`: It takes a feature matrix, `X`, an array of classes, `y`, and a class label, `label`. It should return all of the rows from X whose label is the given label.\n",
    "\n",
    "   ```python\n",
    "    >>> X = np.array([[1, 2, 3], [4, 5, 6], [7, 8, 9], [10, 11, 12]])\n",
    "    >>> y = np.array([\"a\", \"c\", \"a\", \"b\"])\n",
    "    >>> p.filter_by_class(X, y, \"a\")\n",
    "    array([[1, 2, 3],\n",
    "           [7, 8, 9]])\n",
    "    >>> p.filter_by_class(X, y, \"b\")\n",
    "    array([[10, 11, 12]])\n",
    "    ```"
   ]
  },
  {
   "cell_type": "code",
   "execution_count": 7,
   "metadata": {
    "collapsed": true
   },
   "outputs": [],
   "source": [
    "import numpy as np\n",
    "def filter_by_class(X, y, label): \n",
    "    result=[]\n",
    "    res=zip(X, y)\n",
    "    for k, v in res:\n",
    "        if label in v:\n",
    "            result.append(k)\n",
    "    return (result)\n"
   ]
  },
  {
   "cell_type": "code",
   "execution_count": 8,
   "metadata": {},
   "outputs": [
    {
     "data": {
      "text/plain": [
       "[array([1, 2, 3]), array([7, 8, 9])]"
      ]
     },
     "execution_count": 8,
     "metadata": {},
     "output_type": "execute_result"
    }
   ],
   "source": [
    "X = np.array([[1, 2, 3], [4, 5, 6], [7, 8, 9], [10, 11, 12]])\n",
    "y = np.array([\"a\", \"c\", \"a\", \"b\"])\n",
    "filter_by_class(X, y, \"a\")"
   ]
  }
 ],
 "metadata": {
  "kernelspec": {
   "display_name": "Python [conda root]",
   "language": "python",
   "name": "conda-root-py"
  },
  "language_info": {
   "codemirror_mode": {
    "name": "ipython",
    "version": 3
   },
   "file_extension": ".py",
   "mimetype": "text/x-python",
   "name": "python",
   "nbconvert_exporter": "python",
   "pygments_lexer": "ipython3",
   "version": "3.5.4"
  }
 },
 "nbformat": 4,
 "nbformat_minor": 2
}
