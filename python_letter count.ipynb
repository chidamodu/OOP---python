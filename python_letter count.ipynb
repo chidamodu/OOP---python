{
 "cells": [
  {
   "cell_type": "code",
   "execution_count": 12,
   "metadata": {},
   "outputs": [],
   "source": [
    "# How do you get the count of each letter in a sentence\n",
    "\n",
    "def letter_count(s):\n",
    "    d={}\n",
    "    for i in list(s):\n",
    "        if i!=' ':\n",
    "            d[i]=d.get(i, 0)+1\n",
    "            \n",
    "    return d\n",
    "    \n",
    "    \n",
    "    "
   ]
  },
  {
   "cell_type": "code",
   "execution_count": 13,
   "metadata": {},
   "outputs": [
    {
     "data": {
      "text/plain": [
       "{'b': 1,\n",
       " 'a': 4,\n",
       " 'k': 2,\n",
       " 'l': 1,\n",
       " 'v': 1,\n",
       " 'i': 2,\n",
       " 's': 4,\n",
       " 't': 2,\n",
       " 'u': 1,\n",
       " 'r': 2,\n",
       " 'h': 1,\n",
       " 'd': 1,\n",
       " 'e': 2}"
      ]
     },
     "execution_count": 13,
     "metadata": {},
     "output_type": "execute_result"
    }
   ],
   "source": [
    "letter_count(\"baklava is a turkish dessert\")"
   ]
  },
  {
   "cell_type": "code",
   "execution_count": 7,
   "metadata": {},
   "outputs": [
    {
     "data": {
      "text/plain": [
       "['I', ' ', 'l', 'o', 'v', 'e', ' ', 'y', 'o', 'u']"
      ]
     },
     "execution_count": 7,
     "metadata": {},
     "output_type": "execute_result"
    }
   ],
   "source": [
    "s=\"I love you\"\n",
    "list(s)"
   ]
  },
  {
   "cell_type": "code",
   "execution_count": null,
   "metadata": {},
   "outputs": [],
   "source": [
    "# Find the max no from the given set of elements in an array (without using max function)\n",
    "\n",
    "def find_max(a):\n",
    "    current=0\n",
    "    next_item=1\n",
    "    max_num=0\n",
    "    for i range(len(a)):\n",
    "        if a[i]>max_num:\n",
    "            max_num=a[i]\n",
    "    return max_num\n",
    "find_max(a)        "
   ]
  },
  {
   "cell_type": "code",
   "execution_count": null,
   "metadata": {},
   "outputs": [],
   "source": [
    "[]"
   ]
  }
 ],
 "metadata": {
  "kernelspec": {
   "display_name": "Python 3",
   "language": "python",
   "name": "python3"
  },
  "language_info": {
   "codemirror_mode": {
    "name": "ipython",
    "version": 3
   },
   "file_extension": ".py",
   "mimetype": "text/x-python",
   "name": "python",
   "nbconvert_exporter": "python",
   "pygments_lexer": "ipython3",
   "version": "3.7.4"
  }
 },
 "nbformat": 4,
 "nbformat_minor": 2
}
