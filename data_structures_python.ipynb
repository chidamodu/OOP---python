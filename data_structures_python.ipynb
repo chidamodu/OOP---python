{
 "cells": [
  {
   "cell_type": "code",
   "execution_count": 22,
   "metadata": {
    "collapsed": true
   },
   "outputs": [],
   "source": [
    "import numpy as np\n",
    "import pandas as pd\n",
    "\n",
    "\n",
    "# PYTHON SECTION\n",
    " '''\n",
    "    INPUT: STRING\n",
    "    OUTPUT: DICT (with counts of each character in input string)\n",
    "    Return a dictionary which contains\n",
    "    a count of the number of times each character appears in the string.\n",
    "    '''\n",
    "\n",
    "def count_characters(string):\n",
    "    c=0\n",
    "    d={}\n",
    "    for i in range(len(string)):\n",
    "        if string[i] in d:\n",
    "            d[string[i]]+=1\n",
    "        else:\n",
    "            d[string[i]]=1    \n",
    "    \n",
    "    return d\n",
    "   \n",
    "# pseudo:\n",
    "# assume its a single string\n",
    "# split: how? loop through the string to get the characters\n",
    "# add them to dic"
   ]
  },
  {
   "cell_type": "code",
   "execution_count": 23,
   "metadata": {},
   "outputs": [
    {
     "data": {
      "text/plain": [
       "{'e': 1, 'h': 1, 'l': 2, 'o': 1}"
      ]
     },
     "execution_count": 23,
     "metadata": {},
     "output_type": "execute_result"
    }
   ],
   "source": [
    "count_characters('hello')"
   ]
  },
  {
   "cell_type": "code",
   "execution_count": 3,
   "metadata": {},
   "outputs": [
    {
     "data": {
      "text/plain": [
       "5"
      ]
     },
     "execution_count": 3,
     "metadata": {},
     "output_type": "execute_result"
    }
   ],
   "source": [
    "len('hello')"
   ]
  },
  {
   "cell_type": "code",
   "execution_count": 28,
   "metadata": {},
   "outputs": [],
   "source": [
    "#pythonic implementation of the same problem\n",
    "def count_characters(string):\n",
    "    d={}\n",
    "    for i in range(len('string')):\n",
    "        d[string[i]]=d.get(string[i], 0)+1\n",
    "    print(d)\n",
    "\n",
    "# d.get() allows you to provide a default value if the key is missing:\n",
    "\n",
    "# dictionary.get(\"bogus\", default_value) returns default_value (whatever you choose it to be), whereas\n",
    "\n",
    "# dictionary[\"bogus\"] would raise a KeyError"
   ]
  },
  {
   "cell_type": "code",
   "execution_count": 29,
   "metadata": {},
   "outputs": [
    {
     "name": "stdout",
     "output_type": "stream",
     "text": [
      "{'a': 1, 'y': 2, 'e': 2, 'h': 1}\n"
     ]
    }
   ],
   "source": [
    "count_characters('heeyay')"
   ]
  },
  {
   "cell_type": "code",
   "execution_count": 38,
   "metadata": {},
   "outputs": [],
   "source": [
    "'''\n",
    "    INPUT: DICT\n",
    "    OUTPUT: DICT (of sets of input keys indexing the same input values\n",
    "                  indexed by the input values)\n",
    "    Given a dictionary d, return a new dictionary with d's values\n",
    "    as keys and the value for a given key being\n",
    "    the set of d's keys which shared the same value.\n",
    "    e.g. {'a': 2, 'b': 4, 'c': 2} => {2: {'a', 'c'}, 4: {'b'}}\n",
    "'''\n",
    "from collections import defaultdict\n",
    "def invert_dictionary(d):\n",
    "    resultdict=defaultdict(list)\n",
    "    for k, v in d.items():\n",
    "        resultdict[v].append(k)\n",
    "    return resultdict\n",
    "           \n",
    "# pseudo:\n",
    "# if any two values in a dictionary are equal or not: len(dictionary.values()) == len(set(dictionary.values()))\n",
    "# if yes: then join the keys"
   ]
  },
  {
   "cell_type": "code",
   "execution_count": 39,
   "metadata": {},
   "outputs": [
    {
     "data": {
      "text/plain": [
       "defaultdict(list, {1: ['a', 'h'], 2: ['y', 'e']})"
      ]
     },
     "execution_count": 39,
     "metadata": {},
     "output_type": "execute_result"
    }
   ],
   "source": [
    "invert_dictionary({'a': 1, 'y': 2, 'e': 2, 'h': 1})"
   ]
  },
  {
   "cell_type": "code",
   "execution_count": 31,
   "metadata": {},
   "outputs": [
    {
     "data": {
      "text/plain": [
       "4"
      ]
     },
     "execution_count": 31,
     "metadata": {},
     "output_type": "execute_result"
    }
   ],
   "source": [
    "fg={'a': 1, 'y': 2, 'e': 2, 'h': 1}\n",
    "len(fg.values())"
   ]
  },
  {
   "cell_type": "code",
   "execution_count": 32,
   "metadata": {},
   "outputs": [
    {
     "data": {
      "text/plain": [
       "2"
      ]
     },
     "execution_count": 32,
     "metadata": {},
     "output_type": "execute_result"
    }
   ],
   "source": [
    "len(set(fg.values()))"
   ]
  },
  {
   "cell_type": "code",
   "execution_count": 56,
   "metadata": {
    "collapsed": true
   },
   "outputs": [],
   "source": [
    "#What if the values are unhashable type? TypeError: unhashable type: 'list' like this one: {\"a\": [10, 15], \"b\": [10, 20], \"c\": [10, 15]}\n",
    "from collections import defaultdict\n",
    "def invert_dictionary(d):\n",
    "    resultdict=defaultdict(list)\n",
    "    for k, v in d.items():\n",
    "        if type(v)==int:\n",
    "            resultdict[v].append(k)   \n",
    "        else:    \n",
    "            resultdict[tuple(v)].append(k)            \n",
    "    return resultdict"
   ]
  },
  {
   "cell_type": "code",
   "execution_count": 57,
   "metadata": {},
   "outputs": [
    {
     "data": {
      "text/plain": [
       "defaultdict(list, {(10, 15): ['a', 'c'], (10, 20): ['b']})"
      ]
     },
     "execution_count": 57,
     "metadata": {},
     "output_type": "execute_result"
    }
   ],
   "source": [
    "invert_dictionary({\"a\": [10, 15], \"b\": [10, 20], \"c\": [10, 15]})"
   ]
  }
 ],
 "metadata": {
  "kernelspec": {
   "display_name": "Python [conda root]",
   "language": "python",
   "name": "conda-root-py"
  },
  "language_info": {
   "codemirror_mode": {
    "name": "ipython",
    "version": 3
   },
   "file_extension": ".py",
   "mimetype": "text/x-python",
   "name": "python",
   "nbconvert_exporter": "python",
   "pygments_lexer": "ipython3",
   "version": "3.5.4"
  }
 },
 "nbformat": 4,
 "nbformat_minor": 2
}
