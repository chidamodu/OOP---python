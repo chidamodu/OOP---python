{
 "cells": [
  {
   "cell_type": "code",
   "execution_count": null,
   "metadata": {},
   "outputs": [],
   "source": [
    "Input: [-2,1,-3,4,-1,2,1,-5,4],\n",
    "Output: 6\n",
    "Explanation: [4,-1,2,1] has the largest sum = 6."
   ]
  },
  {
   "cell_type": "code",
   "execution_count": 27,
   "metadata": {},
   "outputs": [],
   "source": [
    "def maxSubArray(nums):\n",
    "    max_sum=nums[0]\n",
    "    curr_sum=nums[0]\n",
    "    \n",
    "    for i in range(1, len(nums)):\n",
    "        curr_sum=max(nums[i], nums[i]+curr_sum)\n",
    "        \n",
    "        \n",
    "        max_sum=max(curr_sum, max_sum)\n",
    "        \n",
    "        \n",
    "    return max_sum\n",
    "            \n",
    "        \n",
    "            \n",
    "\n",
    "    \n",
    "    \n",
    "    "
   ]
  },
  {
   "cell_type": "code",
   "execution_count": 28,
   "metadata": {},
   "outputs": [
    {
     "data": {
      "text/plain": [
       "6"
      ]
     },
     "execution_count": 28,
     "metadata": {},
     "output_type": "execute_result"
    }
   ],
   "source": [
    "maxSubArray([-2,1,-3,4,-1,2,1,-5,4])"
   ]
  },
  {
   "cell_type": "code",
   "execution_count": 29,
   "metadata": {},
   "outputs": [
    {
     "ename": "SyntaxError",
     "evalue": "invalid syntax (<ipython-input-29-817269a9534a>, line 1)",
     "output_type": "error",
     "traceback": [
      "\u001b[0;36m  File \u001b[0;32m\"<ipython-input-29-817269a9534a>\"\u001b[0;36m, line \u001b[0;32m1\u001b[0m\n\u001b[0;31m    curr_sum:\u001b[0m\n\u001b[0m             ^\u001b[0m\n\u001b[0;31mSyntaxError\u001b[0m\u001b[0;31m:\u001b[0m invalid syntax\n"
     ]
    }
   ],
   "source": [
    "curr_sum:\n",
    "    \n",
    "1:  (1, -1) =1\n",
    "\n",
    "-3: (1, 1-3)=1\n",
    "---------\n",
    "4: (4, 5)=5\n",
    "\n",
    "-1: (-1, 3)=3\n",
    "\n",
    "2: 2, 5=5\n",
    "---------\n",
    "1: 1, 6 = 6\n",
    "---------\n",
    "-5: -5, 1=1\n",
    "\n",
    "4: 4, 6=5\n",
    "\n",
    "max_sum:\n",
    "    \n",
    "(-2, 1) = 1\n",
    "\n",
    "(1,1) =1\n",
    " -------------   \n",
    "(1, 5) = 5\n",
    "\n",
    "(5, 3) = 5\n",
    "\n",
    "(5, 5)=5\n",
    "\n",
    "(5, 6)=6\n",
    "\n",
    "(6, 1)=6\n",
    "\n",
    "(6,5)=6\n",
    "\n",
    "\n",
    "\n"
   ]
  },
  {
   "cell_type": "code",
   "execution_count": 77,
   "metadata": {},
   "outputs": [],
   "source": [
    "def spiralOrder(matrix):\n",
    "    if len(matrix)==0:\n",
    "        return []\n",
    "    \n",
    "    i=j=0\n",
    "    res=[]\n",
    "    \n",
    "    while (True):\n",
    "        res.append(matrix[i][j])\n",
    "        matrix[i][j]=None\n",
    "        \n",
    "        if ((j+1 < len(matrix[i])) and (matrix[i][j+1]!=None) and not(i - 1 >= 0 and matrix[i - 1][j] != None)):\n",
    "            j+=1\n",
    "            print(not(i - 1 >= 0 and matrix[i - 1][j] != None))\n",
    "#             print(\"jesus\")\n",
    "        \n",
    "        elif (i+1 < len(matrix) and matrix[i+1][j]!=None):\n",
    "            i+=1\n",
    "#             print(\"christ\")\n",
    "        \n",
    "        elif (j-1>=0 and matrix[i][j-1]!=None):\n",
    "            j-=1\n",
    "#             print(\"is\")\n",
    "            \n",
    "        elif (matrix[i-1][j]!=None and i-1>=0):\n",
    "            i-=1\n",
    "#             print(i)\n",
    "#             print(j)\n",
    "#             print(\"awesome\")\n",
    "            \n",
    "        else: break\n",
    "                \n",
    "    return res"
   ]
  },
  {
   "cell_type": "code",
   "execution_count": 78,
   "metadata": {},
   "outputs": [
    {
     "name": "stdout",
     "output_type": "stream",
     "text": [
      "True\n",
      "True\n",
      "True\n",
      "True\n",
      "True\n"
     ]
    },
    {
     "data": {
      "text/plain": [
       "[1, 2, 3, 4, 8, 12, 16, 15, 14, 13, 9, 5, 6, 7, 11, 10]"
      ]
     },
     "execution_count": 78,
     "metadata": {},
     "output_type": "execute_result"
    }
   ],
   "source": [
    "matrix=[[1,2,3,4],[5,6,7,8],[9,10,11,12],[13,14,15,16]]\n",
    "\n",
    "spiralOrder(matrix)"
   ]
  },
  {
   "cell_type": "code",
   "execution_count": 48,
   "metadata": {},
   "outputs": [
    {
     "data": {
      "text/plain": [
       "False"
      ]
     },
     "execution_count": 48,
     "metadata": {},
     "output_type": "execute_result"
    }
   ],
   "source": [
    "True and False"
   ]
  },
  {
   "cell_type": "code",
   "execution_count": null,
   "metadata": {},
   "outputs": [],
   "source": [
    "and not(i - 1 >= 0 and matrix[i - 1][j] != None))"
   ]
  },
  {
   "cell_type": "code",
   "execution_count": 69,
   "metadata": {},
   "outputs": [
    {
     "data": {
      "text/plain": [
       "True"
      ]
     },
     "execution_count": 69,
     "metadata": {},
     "output_type": "execute_result"
    }
   ],
   "source": [
    "not(True and False)"
   ]
  },
  {
   "cell_type": "code",
   "execution_count": 70,
   "metadata": {},
   "outputs": [
    {
     "data": {
      "text/plain": [
       "False"
      ]
     },
     "execution_count": 70,
     "metadata": {},
     "output_type": "execute_result"
    }
   ],
   "source": [
    "True and False"
   ]
  },
  {
   "cell_type": "code",
   "execution_count": null,
   "metadata": {},
   "outputs": [],
   "source": [
    "# Length of Last Word\n",
    "def lengthOfLastWord(s):\n",
    "    "
   ]
  },
  {
   "cell_type": "code",
   "execution_count": 79,
   "metadata": {},
   "outputs": [
    {
     "data": {
      "text/plain": [
       "['Hello', 'World']"
      ]
     },
     "execution_count": 79,
     "metadata": {},
     "output_type": "execute_result"
    }
   ],
   "source": [
    "s=\"Hello World\"\n",
    "s.split()"
   ]
  },
  {
   "cell_type": "code",
   "execution_count": 108,
   "metadata": {},
   "outputs": [],
   "source": [
    "def plusone(A):\n",
    "    res=''\n",
    "   \n",
    "    for i in A:\n",
    "        res+=str(i)\n",
    "        \n",
    "    return list(''.join(str(int(res)+1)))\n",
    "#     return ','.join(str(int(res)+1))"
   ]
  },
  {
   "cell_type": "code",
   "execution_count": 109,
   "metadata": {},
   "outputs": [
    {
     "data": {
      "text/plain": [
       "['1', '2', '4']"
      ]
     },
     "execution_count": 109,
     "metadata": {},
     "output_type": "execute_result"
    }
   ],
   "source": [
    "plusone([1,2,3])"
   ]
  },
  {
   "cell_type": "code",
   "execution_count": 110,
   "metadata": {},
   "outputs": [],
   "source": [
    "def plusone(digits):\n",
    "    return list(''.join(str(int(''.join((str(i) for i in digits)))+1)))"
   ]
  },
  {
   "cell_type": "code",
   "execution_count": 111,
   "metadata": {},
   "outputs": [
    {
     "data": {
      "text/plain": [
       "['1', '2', '4']"
      ]
     },
     "execution_count": 111,
     "metadata": {},
     "output_type": "execute_result"
    }
   ],
   "source": [
    "plusone([1,2,3])"
   ]
  },
  {
   "cell_type": "code",
   "execution_count": 132,
   "metadata": {},
   "outputs": [],
   "source": [
    "def merge(intervals):\n",
    "    res = []\n",
    "    intervals=sorted(intervals)\n",
    "      \n",
    "    for i in intervals:\n",
    "        if not res:\n",
    "            res.append(i)\n",
    "        else:\n",
    "            a=i[0]\n",
    "            b=i[1]\n",
    "            c=res[0]\n",
    "            d=res[1]\n",
    "            \n",
    "            \n",
    "        if \n",
    "\n",
    "\n",
    "            \n",
    "    print(res[-1][1])\n",
    "#     return c, d"
   ]
  },
  {
   "cell_type": "code",
   "execution_count": 133,
   "metadata": {},
   "outputs": [
    {
     "name": "stdout",
     "output_type": "stream",
     "text": [
      "3\n"
     ]
    }
   ],
   "source": [
    "merge([[1,3],[2,6],[8,10],[15,18]])"
   ]
  },
  {
   "cell_type": "code",
   "execution_count": null,
   "metadata": {},
   "outputs": [],
   "source": [
    "a, b, c, d\n",
    "\n",
    "a<=c and d<=d and b>c: merge\n",
    "    \n",
    "a<=c and b==c and b<=d:merge\n",
    "    \n",
    "\n",
    "    "
   ]
  },
  {
   "cell_type": "code",
   "execution_count": null,
   "metadata": {},
   "outputs": [],
   "source": [
    "def merge(intervals):\n",
    "    for i in range(len(intervals)):\n",
    "        i"
   ]
  }
 ],
 "metadata": {
  "kernelspec": {
   "display_name": "Python 3",
   "language": "python",
   "name": "python3"
  },
  "language_info": {
   "codemirror_mode": {
    "name": "ipython",
    "version": 3
   },
   "file_extension": ".py",
   "mimetype": "text/x-python",
   "name": "python",
   "nbconvert_exporter": "python",
   "pygments_lexer": "ipython3",
   "version": "3.7.4"
  }
 },
 "nbformat": 4,
 "nbformat_minor": 2
}
