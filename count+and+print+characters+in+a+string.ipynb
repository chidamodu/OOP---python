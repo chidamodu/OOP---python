{
 "cells": [
  {
   "cell_type": "code",
   "execution_count": 22,
   "metadata": {},
   "outputs": [
    {
     "name": "stdout",
     "output_type": "stream",
     "text": [
      "\n"
     ]
    }
   ],
   "source": [
    "#2.40 - 3:03\n",
    "\n",
    "# pseudo:\n",
    "# 1.fill a dictionary with the count of characters in the string\n",
    "# 2. sort the values of the dictionary and then the keys of the dictionary\n",
    "# 3. return the keys\n",
    "\n",
    "def company_logo(s):\n",
    "    d={}\n",
    "    for i in range(len(s)):\n",
    "        d[s[i]]=d.get(s[i], 0)+1\n",
    "    res=sorted(d.items(), key=lambda x: (-x[1], x[0]))[:3]\n",
    "    for hat, mat in res:\n",
    "        print(hat, mat)\n",
    "\n",
    "            \n",
    "if __name__ == '__main__':\n",
    "    s = input()\n",
    "    company_logo(s)\n"
   ]
  }
 ],
 "metadata": {
  "kernelspec": {
   "display_name": "Python 3",
   "language": "python",
   "name": "python3"
  },
  "language_info": {
   "codemirror_mode": {
    "name": "ipython",
    "version": 3
   },
   "file_extension": ".py",
   "mimetype": "text/x-python",
   "name": "python",
   "nbconvert_exporter": "python",
   "pygments_lexer": "ipython3",
   "version": "3.6.1"
  }
 },
 "nbformat": 4,
 "nbformat_minor": 2
}
