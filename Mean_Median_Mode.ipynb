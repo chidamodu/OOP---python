{
 "cells": [
  {
   "cell_type": "code",
   "execution_count": 32,
   "metadata": {},
   "outputs": [
    {
     "name": "stdout",
     "output_type": "stream",
     "text": [
      "10\n",
      "64630 11735 14216 99233 14470 4978 73429 38120 51135 67060\n",
      "[4978, 11735, 14216, 14470, 38120, 51135, 64630, 67060, 73429, 99233]\n",
      "43900.6\n",
      "44627.5\n",
      "4978\n"
     ]
    }
   ],
   "source": [
    "#11.56\n",
    "#Hackerrank submission\n",
    "def mean_find(num, arr):\n",
    "    import operator\n",
    "    mean_val=0\n",
    "    d={}\n",
    "    arr=sorted(arr)\n",
    "    for i in arr:\n",
    "        mean_val+=i\n",
    "        d[i]=d.get(i, 0)+1\n",
    "        \n",
    "    if len(set(d.values()))==1:\n",
    "        mode_val=(min(d.items(), key=operator.itemgetter(0))[0])\n",
    "    else:\n",
    "        mode_val=(max(d.items(), key=operator.itemgetter(1))[0])\n",
    "    \n",
    "    if len(arr)%2==0:\n",
    "        middle=int(len(arr)/2)\n",
    "        median_val=round((arr[middle-1]+arr[middle])/2, 1)\n",
    "    else:\n",
    "        median_val=round(arr[int(len(arr)/2)], 1)\n",
    "        \n",
    "    \n",
    "    print(round(mean_val/num, 1))\n",
    "    print(median_val)\n",
    "    print(mode_val)\n",
    "\n",
    "if __name__==\"__main__\":\n",
    "    num=int(input())\n",
    "    arr_input=list((input().split()))\n",
    "    arr=[]\n",
    "    for x in arr_input:\n",
    "        arr.append(int(x))\n",
    "    mean_find(num, arr)"
   ]
  },
  {
   "cell_type": "code",
   "execution_count": 16,
   "metadata": {},
   "outputs": [
    {
     "data": {
      "text/plain": [
       "5"
      ]
     },
     "execution_count": 16,
     "metadata": {},
     "output_type": "execute_result"
    }
   ],
   "source": [
    "int(11/2)"
   ]
  },
  {
   "cell_type": "code",
   "execution_count": 24,
   "metadata": {},
   "outputs": [
    {
     "data": {
      "text/plain": [
       "28056.5"
      ]
     },
     "execution_count": 24,
     "metadata": {},
     "output_type": "execute_result"
    }
   ],
   "source": [
    "(4978+51135)/2"
   ]
  }
 ],
 "metadata": {
  "kernelspec": {
   "display_name": "Python 3",
   "language": "python",
   "name": "python3"
  },
  "language_info": {
   "codemirror_mode": {
    "name": "ipython",
    "version": 3
   },
   "file_extension": ".py",
   "mimetype": "text/x-python",
   "name": "python",
   "nbconvert_exporter": "python",
   "pygments_lexer": "ipython3",
   "version": "3.6.1"
  }
 },
 "nbformat": 4,
 "nbformat_minor": 2
}
