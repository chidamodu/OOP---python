{
 "cells": [
  {
   "cell_type": "code",
   "execution_count": null,
   "metadata": {},
   "outputs": [],
   "source": [
    "Write a function that can take a string and return a list of bigrams.\n",
    "\n",
    "Example:\n",
    "\n",
    "sentence = \"\"\"\n",
    "Have free hours and love children? \n",
    "Drive kids to school, soccer practice \n",
    "and other activities.\n",
    "\"\"\"\n",
    "\n",
    "output = [('have', 'free'),\n",
    " ('free', 'hours'),\n",
    " ('hours', 'and'),\n",
    " ('and', 'love'),\n",
    " ('love', 'children?'),\n",
    " ('children?', 'drive'),\n",
    " ('drive', 'kids'),\n",
    " ('kids', 'to'),\n",
    " ('to', 'school,'),\n",
    " ('school,', 'soccer'),\n",
    " ('soccer', 'practice'),\n",
    " ('practice', 'and'),\n",
    " ('and', 'other'),\n",
    " ('other', 'activities.')]"
   ]
  },
  {
   "cell_type": "code",
   "execution_count": 34,
   "metadata": {},
   "outputs": [],
   "source": [
    "Trial but did not work!\n",
    "\n",
    "def create_bigrams(l):\n",
    "    output=[]\n",
    "\n",
    "    for i in range(len(l.lower())-1):\n",
    "        output.append(tuple((l[i], l[i+1])))\n",
    "        \n",
    "    return output\n",
    "                "
   ]
  },
  {
   "cell_type": "code",
   "execution_count": 35,
   "metadata": {},
   "outputs": [
    {
     "data": {
      "text/plain": [
       "[('H', 'a'),\n",
       " ('a', 'v'),\n",
       " ('v', 'e'),\n",
       " ('e', ' '),\n",
       " (' ', 'f'),\n",
       " ('f', 'r'),\n",
       " ('r', 'e'),\n",
       " ('e', 'e'),\n",
       " ('e', ' '),\n",
       " (' ', 'h'),\n",
       " ('h', 'o'),\n",
       " ('o', 'u'),\n",
       " ('u', 'r'),\n",
       " ('r', 's'),\n",
       " ('s', ' '),\n",
       " (' ', 'a'),\n",
       " ('a', 'n'),\n",
       " ('n', 'd'),\n",
       " ('d', ' '),\n",
       " (' ', 'l'),\n",
       " ('l', 'o'),\n",
       " ('o', 'v'),\n",
       " ('v', 'e'),\n",
       " ('e', ' '),\n",
       " (' ', 'c'),\n",
       " ('c', 'h'),\n",
       " ('h', 'i'),\n",
       " ('i', 'l'),\n",
       " ('l', 'd'),\n",
       " ('d', 'r'),\n",
       " ('r', 'e'),\n",
       " ('e', 'n'),\n",
       " ('n', '?'),\n",
       " ('?', ' '),\n",
       " (' ', 'D'),\n",
       " ('D', 'r'),\n",
       " ('r', 'i'),\n",
       " ('i', 'v'),\n",
       " ('v', 'e'),\n",
       " ('e', ' '),\n",
       " (' ', 'k'),\n",
       " ('k', 'i'),\n",
       " ('i', 'd'),\n",
       " ('d', 's'),\n",
       " ('s', ' '),\n",
       " (' ', 't'),\n",
       " ('t', 'o'),\n",
       " ('o', ' '),\n",
       " (' ', 's'),\n",
       " ('s', 'c'),\n",
       " ('c', 'h'),\n",
       " ('h', 'o'),\n",
       " ('o', 'o'),\n",
       " ('o', 'l'),\n",
       " ('l', ','),\n",
       " (',', ' '),\n",
       " (' ', 's'),\n",
       " ('s', 'o'),\n",
       " ('o', 'c'),\n",
       " ('c', 'c'),\n",
       " ('c', 'e'),\n",
       " ('e', 'r'),\n",
       " ('r', ' '),\n",
       " (' ', 'p'),\n",
       " ('p', 'r'),\n",
       " ('r', 'a'),\n",
       " ('a', 'c'),\n",
       " ('c', 't'),\n",
       " ('t', 'i'),\n",
       " ('i', 'c'),\n",
       " ('c', 'e'),\n",
       " ('e', ' '),\n",
       " (' ', 'a'),\n",
       " ('a', 'n'),\n",
       " ('n', 'd'),\n",
       " ('d', ' '),\n",
       " (' ', 'o'),\n",
       " ('o', 't'),\n",
       " ('t', 'h'),\n",
       " ('h', 'e'),\n",
       " ('e', 'r'),\n",
       " ('r', ' '),\n",
       " (' ', 'a'),\n",
       " ('a', 'c'),\n",
       " ('c', 't'),\n",
       " ('t', 'i'),\n",
       " ('i', 'v'),\n",
       " ('v', 'i'),\n",
       " ('i', 't'),\n",
       " ('t', 'i'),\n",
       " ('i', 'e'),\n",
       " ('e', 's'),\n",
       " ('s', '.')]"
      ]
     },
     "execution_count": 35,
     "metadata": {},
     "output_type": "execute_result"
    }
   ],
   "source": [
    "l=\"Have free hours and love children? Drive kids to school, soccer practice and other activities.\"\n",
    "\n",
    "create_bigrams(l)"
   ]
  },
  {
   "cell_type": "code",
   "execution_count": 45,
   "metadata": {},
   "outputs": [
    {
     "data": {
      "text/plain": [
       "15"
      ]
     },
     "execution_count": 45,
     "metadata": {},
     "output_type": "execute_result"
    }
   ],
   "source": [
    "l=\"Have free hours and love children? Drive kids to school, soccer practice and other activities.\"\n",
    "len(l.lower().split())"
   ]
  },
  {
   "cell_type": "code",
   "execution_count": 56,
   "metadata": {},
   "outputs": [],
   "source": [
    "def create_bigrams(l):\n",
    "    output=[]\n",
    "    for i in range(len(l.split())-1):\n",
    "        output.append(tuple((l.lower().split()[i], l.lower().split()[i+1])))\n",
    "    return output\n"
   ]
  },
  {
   "cell_type": "code",
   "execution_count": 57,
   "metadata": {},
   "outputs": [
    {
     "data": {
      "text/plain": [
       "[('have', 'free'),\n",
       " ('free', 'hours'),\n",
       " ('hours', 'and'),\n",
       " ('and', 'love'),\n",
       " ('love', 'children?'),\n",
       " ('children?', 'drive'),\n",
       " ('drive', 'kids'),\n",
       " ('kids', 'to'),\n",
       " ('to', 'school,'),\n",
       " ('school,', 'soccer'),\n",
       " ('soccer', 'practice'),\n",
       " ('practice', 'and'),\n",
       " ('and', 'other'),\n",
       " ('other', 'activities.')]"
      ]
     },
     "execution_count": 57,
     "metadata": {},
     "output_type": "execute_result"
    }
   ],
   "source": [
    "l=\"Have free hours and love children? Drive kids to school, soccer practice and other activities.\"\n",
    "\n",
    "create_bigrams(l)"
   ]
  }
 ],
 "metadata": {
  "kernelspec": {
   "display_name": "Python 3",
   "language": "python",
   "name": "python3"
  },
  "language_info": {
   "codemirror_mode": {
    "name": "ipython",
    "version": 3
   },
   "file_extension": ".py",
   "mimetype": "text/x-python",
   "name": "python",
   "nbconvert_exporter": "python",
   "pygments_lexer": "ipython3",
   "version": "3.7.4"
  }
 },
 "nbformat": 4,
 "nbformat_minor": 2
}
