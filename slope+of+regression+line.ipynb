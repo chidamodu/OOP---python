{
 "cells": [
  {
   "cell_type": "code",
   "execution_count": null,
   "metadata": {
    "collapsed": true
   },
   "outputs": [],
   "source": [
    "\n",
    "\n",
    "We need slope = Sps/Sss. We know: R^2 = 0.4 = (Sps)/(Sss * Spp).\n",
    "\n",
    "We also have: Sss = (standard deviation of S)^2 = (4)^2 and Spp = (standard deviation of P)^2 = (8)^2.\n",
    "\n",
    "We need Sps = (deviation between S and P), which we must solve for.\n",
    "\n",
    "Solving for Sps from the R^2 equation above gives: Sps = (Sss * Spp) * R^2 = (4^2 * 8^2 * 0.4)\n",
    "\n",
    "Finally: Slope = Sps/Sss = (4^2 * 8^2 * 0.4)/(4^2) = 1.26. Which is the answer."
   ]
  },
  {
   "cell_type": "code",
   "execution_count": 5,
   "metadata": {},
   "outputs": [
    {
     "name": "stdout",
     "output_type": "stream",
     "text": [
      "4\n",
      "8\n",
      "0.4\n",
      "25.6\n"
     ]
    }
   ],
   "source": [
    "def find_slope(std_s, std_p, r_squared):\n",
    "    std_s_p=((r_squared)*(std_s**2)*(std_p**2))/(std_s**2)\n",
    "    print(round(std_s_p, 2))\n",
    "    \n",
    "if __name__==\"__main__\":\n",
    "    std_s=int(input())\n",
    "    std_p=int(input())\n",
    "    r_squared=float(input())\n",
    "    find_slope(std_s, std_p, r_squared)"
   ]
  },
  {
   "cell_type": "code",
   "execution_count": 6,
   "metadata": {},
   "outputs": [
    {
     "data": {
      "text/plain": [
       "16"
      ]
     },
     "execution_count": 6,
     "metadata": {},
     "output_type": "execute_result"
    }
   ],
   "source": [
    "4**2"
   ]
  },
  {
   "cell_type": "code",
   "execution_count": 10,
   "metadata": {},
   "outputs": [
    {
     "data": {
      "text/plain": [
       "40.47715405015526"
      ]
     },
     "execution_count": 10,
     "metadata": {},
     "output_type": "execute_result"
    }
   ],
   "source": [
    "((0.4**(1/2))*(4**2)*(8**2))/(4**2)"
   ]
  }
 ],
 "metadata": {
  "kernelspec": {
   "display_name": "Python 3",
   "language": "python",
   "name": "python3"
  },
  "language_info": {
   "codemirror_mode": {
    "name": "ipython",
    "version": 3
   },
   "file_extension": ".py",
   "mimetype": "text/x-python",
   "name": "python",
   "nbconvert_exporter": "python",
   "pygments_lexer": "ipython3",
   "version": "3.6.1"
  }
 },
 "nbformat": 4,
 "nbformat_minor": 2
}
