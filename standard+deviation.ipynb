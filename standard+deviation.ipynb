{
 "cells": [
  {
   "cell_type": "code",
   "execution_count": 8,
   "metadata": {},
   "outputs": [
    {
     "name": "stdout",
     "output_type": "stream",
     "text": [
      "5\n",
      "10 40 30 50 20\n",
      "14.1\n"
     ]
    }
   ],
   "source": [
    "#2.36 - 2:44\n",
    "#Hackerrank\n",
    "def std_find(num, arr):\n",
    "    import math\n",
    "    mean_val=sum(arr)/num\n",
    "    std_val=0\n",
    "    for i in range(len(arr)):\n",
    "        std_val+=(arr[i]-mean_val)**2\n",
    "    print(round(math.sqrt(std_val/num), 1))\n",
    "\n",
    "    \n",
    "if __name__==\"__main__\":\n",
    "    num=int(input())\n",
    "    arr_raw=input().split()\n",
    "    arr=list(map(int, arr_raw))\n",
    "    std_find(num, arr)"
   ]
  }
 ],
 "metadata": {
  "kernelspec": {
   "display_name": "Python 3",
   "language": "python",
   "name": "python3"
  },
  "language_info": {
   "codemirror_mode": {
    "name": "ipython",
    "version": 3
   },
   "file_extension": ".py",
   "mimetype": "text/x-python",
   "name": "python",
   "nbconvert_exporter": "python",
   "pygments_lexer": "ipython3",
   "version": "3.6.1"
  }
 },
 "nbformat": 4,
 "nbformat_minor": 2
}
