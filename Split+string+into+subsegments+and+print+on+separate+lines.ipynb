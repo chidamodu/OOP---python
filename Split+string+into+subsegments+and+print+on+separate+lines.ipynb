{
 "cells": [
  {
   "cell_type": "code",
   "execution_count": 168,
   "metadata": {},
   "outputs": [],
   "source": [
    "# start: 3:11\n",
    "#end: 4:28\n",
    "# pseudo:\n",
    "# 1. loop through the string of characters and split the t subsegments\n",
    "# 2. remove the repeating characters at a current index provided the same character occurred at a \n",
    "# previous index.\n",
    "# 3. print each split segment (without repeating characters) in single line.\n",
    "\n",
    "def merge_the_tools(s, k):\n",
    "    from pprint import pprint\n",
    "    n=len(s)\n",
    "    d=[]\n",
    "    res={}\n",
    "    ans=[]\n",
    "    \n",
    "    if ((n>=1) and (n<=10**4)) & ((k>=1) and (k<=n)):\n",
    "        c=int(n/k)\n",
    "    \n",
    "    \n",
    "    while len(s):\n",
    "        for i in range(1, len(s)+1):\n",
    "            if i==c:\n",
    "#                 d+=((s[:i]))\n",
    "                d.append((s[:i]))\n",
    "                s=s.replace(s[:i],'')\n",
    "            else:\n",
    "                i+=1\n",
    "                \n",
    "    \n",
    "    for ele in d:\n",
    "        res[ele] ='' \n",
    "        for j in ele:\n",
    "            if j not in res[ele]:\n",
    "                res[ele]+=j\n",
    "#             res[ele].append(j)\n",
    "#             res[ele][j]=res[ele].get(j)\n",
    "            \n",
    "            \n",
    "    for k, v in res.items():\n",
    "        print(v.strip(\"'\"))\n",
    "        \n",
    "#         repr(self.f.readline())[1:-1]\n",
    "        \n",
    "#         for goat, boat in v.items():\n",
    "#             ans.append(goat)\n",
    "#             print((res[k], goat))\n",
    "#             ans.append(goat)\n",
    "#     return pprint(res.values()) \n",
    "        \n",
    "        \n",
    "\n",
    "# if __name__ == '__main__':\n"
   ]
  },
  {
   "cell_type": "code",
   "execution_count": 169,
   "metadata": {},
   "outputs": [
    {
     "name": "stdout",
     "output_type": "stream",
     "text": [
      "A\n",
      "BC\n",
      "KL\n",
      "MN\n"
     ]
    }
   ],
   "source": [
    "merge_the_tools('AABCAAKLMN', 5)"
   ]
  },
  {
   "cell_type": "code",
   "execution_count": 1,
   "metadata": {},
   "outputs": [
    {
     "data": {
      "text/plain": [
       "3.0"
      ]
     },
     "execution_count": 1,
     "metadata": {},
     "output_type": "execute_result"
    }
   ],
   "source": [
    "9/3"
   ]
  },
  {
   "cell_type": "code",
   "execution_count": 21,
   "metadata": {},
   "outputs": [
    {
     "data": {
      "text/plain": [
       "'bababu'"
      ]
     },
     "execution_count": 21,
     "metadata": {},
     "output_type": "execute_result"
    }
   ],
   "source": [
    "s=\"alibababu\"\n",
    "s=s.replace(s[:3],'')\n",
    "s\n"
   ]
  },
  {
   "cell_type": "code",
   "execution_count": 7,
   "metadata": {},
   "outputs": [
    {
     "data": {
      "text/plain": [
       "range(2, 9)"
      ]
     },
     "execution_count": 7,
     "metadata": {},
     "output_type": "execute_result"
    }
   ],
   "source": [
    "range(2, len(s))"
   ]
  },
  {
   "cell_type": "code",
   "execution_count": 295,
   "metadata": {},
   "outputs": [],
   "source": [
    "#4:16\n",
    "\n",
    "from collections import OrderedDict\n",
    "def merge_the_tools(s, k):\n",
    "    from pprint import pprint\n",
    "    n=len(s)\n",
    "    d=[]\n",
    "    res={}\n",
    "    ans=[]\n",
    "    \n",
    "    \n",
    "    while len(s):\n",
    "        d.append((s[:k]))\n",
    "        s=s[k:]\n",
    "        \n",
    "                \n",
    "    for ele in d:\n",
    "        print((\"\".join(OrderedDict.fromkeys(ele))))\n",
    "    \n",
    "#         fg=[x for x, in set(ele)]\n",
    "#         print(*fg, sep='')\n",
    "#         ans.append(\"\".join(OrderedDict.fromkeys(ele)))\n",
    "    \n",
    "    \n",
    "#     for joy in ans:\n",
    "#         print(joy)\n",
    "\n",
    "        \n",
    "        \n",
    "#     print(ans)\n",
    "    \n",
    "   \n",
    "#         res[ele] ='' \n",
    "#         for j in ele:\n",
    "#             if j not in res[ele]:\n",
    "#                 res[ele]+=j\n",
    "#     print(res)\n",
    "# #             res[ele].append(j)\n",
    "# #             res[ele][j]=res[ele].get(j)\n",
    "            \n",
    "            \n",
    "#     for k, v in res.items():\n",
    "#         print(v.strip(\"'\"))"
   ]
  },
  {
   "cell_type": "code",
   "execution_count": 296,
   "metadata": {},
   "outputs": [
    {
     "name": "stdout",
     "output_type": "stream",
     "text": [
      "A\n",
      "BC\n",
      "A\n",
      "KL\n",
      "GH\n",
      "B\n"
     ]
    }
   ],
   "source": [
    "merge_the_tools('AABCAAKLGHBB', 2)"
   ]
  },
  {
   "cell_type": "code",
   "execution_count": 264,
   "metadata": {},
   "outputs": [],
   "source": [
    "def merge_the_tools1(s, k):\n",
    "    for i in range(0, len(s), k):\n",
    "        goal = \"\"\n",
    "        for j in s[i : i + k]:\n",
    "            if j not in s:\n",
    "                goal += j\n",
    "                print(goal)\n"
   ]
  },
  {
   "cell_type": "code",
   "execution_count": 262,
   "metadata": {},
   "outputs": [],
   "source": [
    "merge_the_tools1('AABCAAKLGHBB', 4)"
   ]
  },
  {
   "cell_type": "code",
   "execution_count": 182,
   "metadata": {},
   "outputs": [
    {
     "data": {
      "text/plain": [
       "'MN'"
      ]
     },
     "execution_count": 182,
     "metadata": {},
     "output_type": "execute_result"
    }
   ],
   "source": [
    "f='MN'\n",
    "f[:2]"
   ]
  },
  {
   "cell_type": "code",
   "execution_count": 297,
   "metadata": {
    "collapsed": true
   },
   "outputs": [],
   "source": [
    "import textwrap\n",
    "from collections import OrderedDict\n",
    "def merge_the_tools(string, k):\n",
    "\n",
    "    list2=[]\n",
    "#devides string into n equal parts of size k\n",
    "    list1 = textwrap.wrap(string, k)\n",
    "    print(list1)\n",
    "\n",
    "    for i in list1:\n",
    "#removes duplicate characters from string and append it to list 2\n",
    "        list2.append(\"\".join(OrderedDict.fromkeys(i)))\n",
    "\n",
    "    for i in list2:\n",
    "        print(i)\n"
   ]
  },
  {
   "cell_type": "code",
   "execution_count": 298,
   "metadata": {},
   "outputs": [
    {
     "name": "stdout",
     "output_type": "stream",
     "text": [
      "['AA', 'BC', 'AA', 'KL', 'GH', 'BB']\n",
      "A\n",
      "BC\n",
      "A\n",
      "KL\n",
      "GH\n",
      "B\n"
     ]
    }
   ],
   "source": [
    "merge_the_tools('AABCAAKLGHBB', 2)"
   ]
  }
 ],
 "metadata": {
  "kernelspec": {
   "display_name": "Python 3",
   "language": "python",
   "name": "python3"
  },
  "language_info": {
   "codemirror_mode": {
    "name": "ipython",
    "version": 3
   },
   "file_extension": ".py",
   "mimetype": "text/x-python",
   "name": "python",
   "nbconvert_exporter": "python",
   "pygments_lexer": "ipython3",
   "version": "3.6.1"
  }
 },
 "nbformat": 4,
 "nbformat_minor": 2
}
