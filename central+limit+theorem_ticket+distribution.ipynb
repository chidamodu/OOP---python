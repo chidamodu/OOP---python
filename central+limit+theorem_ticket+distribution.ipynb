{
 "cells": [
  {
   "cell_type": "code",
   "execution_count": 7,
   "metadata": {},
   "outputs": [
    {
     "name": "stdout",
     "output_type": "stream",
     "text": [
      "250\n",
      "100\n",
      "2.4\n",
      "2.0\n",
      "0.6914624612740131\n"
     ]
    }
   ],
   "source": [
    "#this also gives the same answer as the one below\n",
    "def central_limit(x, n, mean_val, std):\n",
    "    import math\n",
    "    mean_sum = n * mean_val\n",
    "    std_sum = math.sqrt(n) * std\n",
    "    print((0.5 * (1 + math.erf((x - mean_sum)/ (std_sum * math.sqrt(2))))))\n",
    "    \n",
    "    \n",
    "if __name__==\"__main__\":\n",
    "    x=int(input())#number of students\n",
    "    n=int(input())#total number of tickets\n",
    "    mean_val=float(input())\n",
    "    std=float(input())\n",
    "    central_limit(x, n, mean_val, std)\n"
   ]
  },
  {
   "cell_type": "code",
   "execution_count": 8,
   "metadata": {},
   "outputs": [
    {
     "name": "stdout",
     "output_type": "stream",
     "text": [
      "0.6914624612740131\n"
     ]
    }
   ],
   "source": [
    "#Hackerrank submission 4.44 to 5.17\n",
    "def central_limit(x, n, m, sd):\n",
    "    import math\n",
    "    m = 100 * 2.4\n",
    "    sd = math.sqrt(100) * 2.0\n",
    "    x=250\n",
    "    print((0.5 * (1 + math.erf((x - m)/ (sd * math.sqrt(2.0))))))\n",
    "central_limit(250, 100, 2.4, 2.0)"
   ]
  }
 ],
 "metadata": {
  "kernelspec": {
   "display_name": "Python 3",
   "language": "python",
   "name": "python3"
  },
  "language_info": {
   "codemirror_mode": {
    "name": "ipython",
    "version": 3
   },
   "file_extension": ".py",
   "mimetype": "text/x-python",
   "name": "python",
   "nbconvert_exporter": "python",
   "pygments_lexer": "ipython3",
   "version": "3.6.1"
  }
 },
 "nbformat": 4,
 "nbformat_minor": 2
}
