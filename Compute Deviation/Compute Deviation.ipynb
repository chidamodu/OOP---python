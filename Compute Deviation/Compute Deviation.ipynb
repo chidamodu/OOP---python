{
 "cells": [
  {
   "cell_type": "code",
   "execution_count": null,
   "metadata": {},
   "outputs": [],
   "source": [
    "Write a function that takes in a list of dictionaries with a key and list of integers and returns a dictionary with \n",
    "the standard deviation of each list.\n",
    "\n",
    "Note that this should be done without using the numpy built in functions.\n",
    "\n",
    "Example:\n",
    "\n",
    "input = [\n",
    "    {\n",
    "        'key': 'list1',\n",
    "        'values': [4,5,2,3,4,5,2,3],\n",
    "    },\n",
    "    {\n",
    "        'key': 'list2',\n",
    "        'values': [1,1,34,12,40,3,9,7],\n",
    "    }\n",
    "]\n",
    "\n",
    "output -> {'list1': 1.12, 'list2': 14.19}"
   ]
  },
  {
   "cell_type": "code",
   "execution_count": 76,
   "metadata": {},
   "outputs": [],
   "source": [
    "\n",
    "def standard_deviation(l):\n",
    "    d={}\n",
    "    for i in l:\n",
    "        mean_val=sum(item for item in i['values'])/len(i['values'])\n",
    "        \n",
    "        std_dev= sum((k - mean_val)**2 for k in i['values'])/len(i['values'])\n",
    "        \n",
    "        d[i['key']]=round(std_dev**(0.5),2)\n",
    "        \n",
    "    return d\n",
    "#         print([sum((k-math.mean(i['values']))**2)/len(i['values']) for k in i['values']])\n",
    "\n",
    "\n",
    " \n",
    "    \n",
    "            \n",
    "#     dictList = [{k:math.mean(v) for k,v in d.items()} for d in l]\n",
    "    "
   ]
  },
  {
   "cell_type": "code",
   "execution_count": 77,
   "metadata": {},
   "outputs": [
    {
     "data": {
      "text/plain": [
       "{'list1': 1.12, 'list2': 14.19}"
      ]
     },
     "execution_count": 77,
     "metadata": {},
     "output_type": "execute_result"
    }
   ],
   "source": [
    "l=[\n",
    "    {\n",
    "        'key': 'list1',\n",
    "        'values': [4,5,2,3,4,5,2,3],\n",
    "    },\n",
    "    {\n",
    "        'key': 'list2',\n",
    "        'values': [1,1,34,12,40,3,9,7],\n",
    "    }\n",
    "]\n",
    "\n",
    "standard_deviation(l)"
   ]
  }
 ],
 "metadata": {
  "kernelspec": {
   "display_name": "Python 3",
   "language": "python",
   "name": "python3"
  },
  "language_info": {
   "codemirror_mode": {
    "name": "ipython",
    "version": 3
   },
   "file_extension": ".py",
   "mimetype": "text/x-python",
   "name": "python",
   "nbconvert_exporter": "python",
   "pygments_lexer": "ipython3",
   "version": "3.7.4"
  }
 },
 "nbformat": 4,
 "nbformat_minor": 2
}
