{
 "cells": [
  {
   "cell_type": "code",
   "execution_count": 2,
   "metadata": {
    "scrolled": true
   },
   "outputs": [
    {
     "name": "stdout",
     "output_type": "stream",
     "text": [
      "[1, 1, 2, 3, 4, 6]\n"
     ]
    }
   ],
   "source": [
    "solution([1, 3, 6, 4, 1, 2])"
   ]
  },
  {
   "cell_type": "code",
   "execution_count": 79,
   "metadata": {},
   "outputs": [],
   "source": [
    "def increment(A):\n",
    "    fg=[]\n",
    "    A=sorted(A)\n",
    "    if A[-1]<0:\n",
    "        return 1\n",
    "    else:\n",
    "        \n",
    "        first=A[0]\n",
    "        last=A[-1]\n",
    "        while first<=last:\n",
    "            fg.append(first)\n",
    "            first+=1\n",
    "    \n",
    "    return list(set(fg)-set(A))[0] if set(fg)-set(A) else A[-1]+1\n",
    "        \n",
    "\n",
    "        \n",
    "    \n",
    "\n"
   ]
  },
  {
   "cell_type": "code",
   "execution_count": 80,
   "metadata": {},
   "outputs": [
    {
     "data": {
      "text/plain": [
       "5"
      ]
     },
     "execution_count": 80,
     "metadata": {},
     "output_type": "execute_result"
    }
   ],
   "source": [
    "increment([1, 3, 6, 4, 1, 2])"
   ]
  },
  {
   "cell_type": "code",
   "execution_count": 58,
   "metadata": {},
   "outputs": [
    {
     "data": {
      "text/plain": [
       "[{1}]"
      ]
     },
     "execution_count": 58,
     "metadata": {},
     "output_type": "execute_result"
    }
   ],
   "source": [
    "[set([1])]"
   ]
  },
  {
   "cell_type": "code",
   "execution_count": 60,
   "metadata": {},
   "outputs": [
    {
     "data": {
      "text/plain": [
       "[1, 2, 3]"
      ]
     },
     "execution_count": 60,
     "metadata": {},
     "output_type": "execute_result"
    }
   ],
   "source": [
    "list(map(int, {1,2,3}))"
   ]
  },
  {
   "cell_type": "code",
   "execution_count": 93,
   "metadata": {},
   "outputs": [],
   "source": [
    "def solution(A):\n",
    "    d={}\n",
    "    ref={}\n",
    "    result=[]\n",
    "    for i in range(1, 10):\n",
    "        ref[i]=ref.get(i, 0)\n",
    "    \n",
    "    for i in A:\n",
    "        d[i]=d.get(i, 0)+1\n",
    "   \n",
    "        \n",
    "    for k, v in ref.items():\n",
    "        if k in d:\n",
    "            continue\n",
    "        else:\n",
    "            result.append(k)\n",
    "            \n",
    "            \n",
    "            \n",
    "    if len(result)==0:\n",
    "        if max(A)<0:\n",
    "            return 1\n",
    "        \n",
    "        elif max(A) in ref and max(A) < max(ref):\n",
    "            return max(A)+1\n",
    "    else:\n",
    "        return min(result)\n",
    "                \n",
    "        \n",
    "        "
   ]
  },
  {
   "cell_type": "code",
   "execution_count": 94,
   "metadata": {},
   "outputs": [
    {
     "data": {
      "text/plain": [
       "5"
      ]
     },
     "execution_count": 94,
     "metadata": {},
     "output_type": "execute_result"
    }
   ],
   "source": [
    "solution([1, 3, 6, 4, 1, 2])"
   ]
  },
  {
   "cell_type": "code",
   "execution_count": 150,
   "metadata": {},
   "outputs": [],
   "source": [
    "def solution(A):\n",
    "    res=[]\n",
    "    c=0\n",
    "    A=sorted(A)\n",
    "    d={}\n",
    "    ans=0\n",
    "    if (A[0]>=0) and (A[-1]>0):\n",
    "        for i in range(len(A)-1):\n",
    "            if (A[i]==A[i+1]) or (A[i]+1==A[i+1]) or (A[i]-1 == A[i+1]):\n",
    "                continue\n",
    "            \n",
    "#             elif i+1==len(A)-1:\n",
    "#                 res.extend((A[i+1]))\n",
    "                \n",
    "            else:\n",
    "                res.extend((A[i],A[i+1]))\n",
    "                \n",
    "                \n",
    "                \n",
    "    return res\n",
    "                \n",
    "#     if res[-1]<0:\n",
    "#         return 1\n",
    "#     elif res[0]>=0 and res[-1]>0:\n",
    "#         return res[0]+1\n",
    "    \n",
    "#     else:\n",
    "#         for i in range(res[0], res[-1]):\n",
    "#             d[i]=d.get(i, 0)+1\n",
    "        \n",
    "#         for k, v in d.items():\n",
    "#             if k>0:\n",
    "#                 ans=min(ans, k)\n",
    "                \n",
    "#         return ans\n",
    "                \n",
    "            \n",
    "        \n",
    "        \n",
    "    \n",
    "\n",
    "                \n",
    "\n",
    "                \n",
    "        \n",
    "                \n",
    "                \n",
    "        \n",
    "        \n"
   ]
  },
  {
   "cell_type": "code",
   "execution_count": 151,
   "metadata": {},
   "outputs": [
    {
     "data": {
      "text/plain": [
       "[]"
      ]
     },
     "execution_count": 151,
     "metadata": {},
     "output_type": "execute_result"
    }
   ],
   "source": [
    "solution([-1, -3])"
   ]
  },
  {
   "cell_type": "code",
   "execution_count": 107,
   "metadata": {},
   "outputs": [
    {
     "name": "stdout",
     "output_type": "stream",
     "text": [
      "-3\n",
      "-2\n",
      "-1\n",
      "0\n",
      "1\n",
      "2\n",
      "3\n"
     ]
    }
   ],
   "source": [
    "for i in range(-3, 4):\n",
    "    print(i)"
   ]
  },
  {
   "cell_type": "code",
   "execution_count": 118,
   "metadata": {},
   "outputs": [],
   "source": [
    "def solution(A):\n",
    "    res=[]\n",
    "    c=0\n",
    "    A=sorted(A)\n",
    "    for i in range(len(A)-1):\n",
    "        if (A[0]>=0) and (A[-1]>0):\n",
    "            if (A[i]==A[i+1]) or (A[i]+1 == A[i+1]):\n",
    "                c+=1\n",
    "                if c==len(A):\n",
    "                    return A[-1]+1\n",
    "                else:\n",
    "                    return i, i+1\n",
    "                \n",
    "                \n",
    "#         elif (A[0]<0) and (A[-1]>0):\n",
    "            \n",
    "            \n",
    "            \n",
    "#             else:\n",
    "#                 res.append(A[i], A[i+1])\n",
    "                \n",
    "    \n",
    "    \n",
    "   \n",
    "        \n",
    "                           \n",
    "                           \n",
    "                           \n",
    "#     elif (A[-1]<0):\n",
    "#         return 1\n",
    "        "
   ]
  },
  {
   "cell_type": "code",
   "execution_count": 119,
   "metadata": {},
   "outputs": [
    {
     "data": {
      "text/plain": [
       "(0, 1)"
      ]
     },
     "execution_count": 119,
     "metadata": {},
     "output_type": "execute_result"
    }
   ],
   "source": [
    "solution([1, 3, 6, 4, 1, 2])"
   ]
  }
 ],
 "metadata": {
  "kernelspec": {
   "display_name": "Python 3",
   "language": "python",
   "name": "python3"
  },
  "language_info": {
   "codemirror_mode": {
    "name": "ipython",
    "version": 3
   },
   "file_extension": ".py",
   "mimetype": "text/x-python",
   "name": "python",
   "nbconvert_exporter": "python",
   "pygments_lexer": "ipython3",
   "version": "3.7.4"
  }
 },
 "nbformat": 4,
 "nbformat_minor": 2
}
