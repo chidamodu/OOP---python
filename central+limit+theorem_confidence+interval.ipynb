{
 "cells": [
  {
   "cell_type": "code",
   "execution_count": 2,
   "metadata": {},
   "outputs": [
    {
     "name": "stdout",
     "output_type": "stream",
     "text": [
      "484.32 515.68\n"
     ]
    }
   ],
   "source": [
    "#In other words, this problem is telling to calculate Confidence Interval:\n",
    "import math\n",
    "zScore=1.96\n",
    "mean_val = 500;\n",
    "std = 80;\n",
    "n = 100;\n",
    "\n",
    "margin_error= zScore * std/math.sqrt(n);\n",
    "\n",
    "print(mean_val - margin_error, mean_val + margin_error);"
   ]
  }
 ],
 "metadata": {
  "kernelspec": {
   "display_name": "Python 3",
   "language": "python",
   "name": "python3"
  },
  "language_info": {
   "codemirror_mode": {
    "name": "ipython",
    "version": 3
   },
   "file_extension": ".py",
   "mimetype": "text/x-python",
   "name": "python",
   "nbconvert_exporter": "python",
   "pygments_lexer": "ipython3",
   "version": "3.6.1"
  }
 },
 "nbformat": 4,
 "nbformat_minor": 2
}
