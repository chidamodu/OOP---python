{
 "cells": [
  {
   "cell_type": "code",
   "execution_count": 14,
   "metadata": {},
   "outputs": [
    {
     "name": "stdout",
     "output_type": "stream",
     "text": [
      "3 4\n",
      "4 3\n",
      "-0.75\n"
     ]
    }
   ],
   "source": [
    "\n",
    "def pearson_coeff(beta_y, beta_x):\n",
    "    pearson_coeff=(beta_y*beta_x)**0.5\n",
    "    if (beta_y<0) and (beta_x<0):\n",
    "        print(-pearson_coeff)\n",
    "        \n",
    "if __name__==\"__main__\":\n",
    "    e1_y=input().split()#to illustrate regression of y on x\n",
    "    e2_x=input().split()#to illustrate regression of x on y\n",
    "    beta_y=-int(e1_y[0])/int(e1_y[1])\n",
    "    beta_x=-int(e2_x[1])/int(e2_x[0])\n",
    "    pearson_coeff(beta_y, beta_x)\n",
    "    "
   ]
  },
  {
   "cell_type": "code",
   "execution_count": null,
   "metadata": {
    "collapsed": true
   },
   "outputs": [],
   "source": [
    "def pearson_coeff(beta_y=0.75, beta_x=0.75):\n",
    "    coeff=(beta_y*beta_x)**0.5\n",
    "    if (beta_y<0) and (beta_x<0):\n",
    "        print(-coeff)\n",
    "        \n",
    "# if __name__==\"__main__\":\n",
    "#     e1_y=input().split()#to illustrate regression of y on x\n",
    "#     e2_x=input().split()#to illustrate regression of x on y\n",
    "#     beta_y=-int(e1_y[0])/int(e1_y[1])\n",
    "#     beta_x=-int(e2_x[1])/int(e2_x[0])\n",
    "\n",
    "# pearson_coeff(beta_y, beta_x)\n",
    "    "
   ]
  }
 ],
 "metadata": {
  "kernelspec": {
   "display_name": "Python 3",
   "language": "python",
   "name": "python3"
  },
  "language_info": {
   "codemirror_mode": {
    "name": "ipython",
    "version": 3
   },
   "file_extension": ".py",
   "mimetype": "text/x-python",
   "name": "python",
   "nbconvert_exporter": "python",
   "pygments_lexer": "ipython3",
   "version": "3.6.1"
  }
 },
 "nbformat": 4,
 "nbformat_minor": 2
}
