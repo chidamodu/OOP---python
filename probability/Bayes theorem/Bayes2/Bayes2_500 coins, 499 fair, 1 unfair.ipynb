{
 "cells": [
  {
   "cell_type": "code",
   "execution_count": null,
   "metadata": {},
   "outputs": [],
   "source": [
    "A jar has 500 coins, of which 499 are fair and 1 is double headed. Pick a coin at random, and toss it 5 times. Given \n",
    "that you see 5 heads, what is the probability that the next toss of that coin is also a head?\n",
    "\n"
   ]
  },
  {
   "cell_type": "code",
   "execution_count": 1,
   "metadata": {},
   "outputs": [],
   "source": [
    "def find_head(n, f, u, times, event):\n",
    "    #flip=10 heads\n",
    "    #times=number of tosses/flips\n",
    "    #n=total number of coins\n",
    "    #f=fair coin\n",
    "    #u=unfair coin\n",
    "    \n",
    "    if event=='head':\n",
    "        prob_event_fair=0.5\n",
    "        prob_event_unfair=1#this is true only if the unfair coin is double headed\n",
    "        \n",
    "    else:\n",
    "        prob_event_fair=0.5\n",
    "        prob_event_unfair=0\n",
    "        \n",
    "        \n",
    "    event_times_fair= prob_event_fair**times\n",
    "    event_times_unfair=prob_event_unfair**times\n",
    "    prob_fair=f/n\n",
    "    prob_unfair=u/n\n",
    "    \n",
    "    conditional_prob_fair = (event_times_fair*prob_fair)/(event_times_fair*prob_fair + event_times_unfair*prob_unfair)\n",
    "    conditional_prob_unfair = (event_times_unfair*prob_unfair)/(event_times_unfair*prob_unfair + event_times_fair*prob_fair)\n",
    "    \n",
    "    prob_next= (prob_event_fair*conditional_prob_fair) + (prob_event_unfair*conditional_prob_unfair)\n",
    "    \n",
    "    return prob_next\n",
    "    \n",
    "    "
   ]
  },
  {
   "cell_type": "code",
   "execution_count": 2,
   "metadata": {},
   "outputs": [
    {
     "data": {
      "text/plain": [
       "0.5301318267419962"
      ]
     },
     "execution_count": 2,
     "metadata": {},
     "output_type": "execute_result"
    }
   ],
   "source": [
    "find_head(500, 499, 1, 5, event='head')"
   ]
  },
  {
   "cell_type": "code",
   "execution_count": null,
   "metadata": {},
   "outputs": [],
   "source": []
  }
 ],
 "metadata": {
  "kernelspec": {
   "display_name": "Python 3",
   "language": "python",
   "name": "python3"
  },
  "language_info": {
   "codemirror_mode": {
    "name": "ipython",
    "version": 3
   },
   "file_extension": ".py",
   "mimetype": "text/x-python",
   "name": "python",
   "nbconvert_exporter": "python",
   "pygments_lexer": "ipython3",
   "version": "3.7.4"
  }
 },
 "nbformat": 4,
 "nbformat_minor": 2
}
