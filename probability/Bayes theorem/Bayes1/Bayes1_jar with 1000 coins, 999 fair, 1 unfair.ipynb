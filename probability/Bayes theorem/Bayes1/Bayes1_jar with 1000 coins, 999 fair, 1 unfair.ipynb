{
 "cells": [
  {
   "cell_type": "code",
   "execution_count": null,
   "metadata": {},
   "outputs": [],
   "source": [
    "\n",
    "A jar has 1000 coins, of which 999 are fair and 1 is double headed. Pick a coin at random, and toss it 10 times. \n",
    "Given that you see 10 heads, what is the probability that the next toss of that coin is also a heads?\n",
    "\n",
    "\n"
   ]
  },
  {
   "cell_type": "code",
   "execution_count": null,
   "metadata": {},
   "outputs": [],
   "source": [
    "\n",
    "To find: the probability that the next toss of that coin is also a heads given that we had 10 flips/toss of heads \n",
    "already\n",
    "    \n",
    "This is a conditional probability problem and can be solved applying Bayes formula.\n",
    "\n",
    "Note: there is an additional layer of complexity, i.e., given that a jar has 1000 coins, of which 999 are fair and \n",
    "1 is double headed\n",
    "\n",
    "Which means that the head we had so far, through 10 tosses, could have been from either fair or unfair coin. Also that \n",
    "the head in the next toss that we care about could come from either fair or unfair coin too. We have to include this info \n",
    "when calculating the probability of next toss being a head.\n",
    "\n",
    "\n",
    "\n",
    "    \n",
    "    \n",
    "    "
   ]
  },
  {
   "cell_type": "code",
   "execution_count": null,
   "metadata": {},
   "outputs": [],
   "source": [
    "def find_head(n, f, u, times, event):\n",
    "    #flip=10 heads\n",
    "    #times=number of tosses/flips\n",
    "    #n=total number of coins\n",
    "    #f=fair coin\n",
    "    #u=unfair coin\n",
    "    \n",
    "    prob_next= P(Hf)*P(f|h) + P(Hu)*P(u|h) #(prob of next toss is head|given 10 heads)\n",
    "    \n",
    "    h=10 heads in 10 tosses\n",
    "    \n",
    "    P(Hf)=0.5 (probability of head from a fair coin)\n",
    "    P(Hu)=1 (probability of head from a unfair coin because there are two heads)\n",
    "    \n",
    "    P(f|h) = P(h|f)*P(f)/P(h)\n",
    "    \n",
    "    P(u|h) = P(h|u)*P(u)/P(h)\n",
    "    \n",
    "    \n",
    "    we can expand the formulas further using Bayes theorem:\n",
    "    P(f|h) = P(h|f)*P(f)/(P(h|f)*P(f) + P(h|u)*P(u))\n",
    "    \n",
    "    P(u|h) = P(h|u)*P(u)/(P(h|u)*P(u) + P(h|f)*P(f))\n",
    "    \n",
    "    P(f|h) = P(h|f)*P(f)/(P(h|f)*P(f) + P(h|u)*P(u))\n",
    "           \n",
    "        \n",
    "    \n",
    "    P(h|f)= P(Hf)*times\n",
    "    P(h|u)=P(Hu)*times\n",
    "    P(f)=f/n\n",
    "    P(u)=u/n\n",
    "    \n",
    "    P(f|h) = P(h|f)*P(f)/(P(h|f)*P(f) + P(h|u)*P(u))\n",
    "    P(u|h) = P(h|u)*P(u)/(P(h|u)*P(u) + P(h|f)*P(f))\n",
    "    \n",
    "    prob_next= P(Hf)*P(f|h) + P(Hu)*P(u|h)\n",
    "    \n",
    "    return prob_next\n",
    "    \n",
    "    \n",
    "    \n",
    "    \n",
    "    \n",
    "    \n",
    "    "
   ]
  },
  {
   "cell_type": "code",
   "execution_count": 28,
   "metadata": {},
   "outputs": [],
   "source": [
    "Taking the formula in the cell above and simulating using code here\n",
    "\n",
    "def find_head(n, f, u, times, event):\n",
    "    #flip=10 heads\n",
    "    #times=number of tosses/flips\n",
    "    #n=total number of coins\n",
    "    #f=fair coin\n",
    "    #u=unfair coin\n",
    "    \n",
    "    pHf=0.5\n",
    "    pHu=1\n",
    "    phf= pHf**times\n",
    "    phu=pHu**times\n",
    "    pf=f/n\n",
    "    pu=u/n\n",
    "    \n",
    "    pfh = (phf*pf)/(phf*pf + phu*pu)\n",
    "    puh = (phu*pu)/(phu*pu + phf*pf)\n",
    "    \n",
    "    prob_next= (pHf*pfh) + (pHu*puh)\n",
    "    \n",
    "    return prob_next\n",
    "    \n",
    "    \n",
    "    \n",
    "    \n",
    "    \n",
    "    \n",
    "#because of the error: SyntaxError: can't assign to function call i had to remove the | symbol in probabilities   "
   ]
  },
  {
   "cell_type": "code",
   "execution_count": 29,
   "metadata": {},
   "outputs": [
    {
     "data": {
      "text/plain": [
       "0.7530894710825506"
      ]
     },
     "execution_count": 29,
     "metadata": {},
     "output_type": "execute_result"
    }
   ],
   "source": [
    "find_head(1000, 999, 1, 10, 'head')"
   ]
  },
  {
   "cell_type": "code",
   "execution_count": 33,
   "metadata": {},
   "outputs": [],
   "source": [
    "What if the event is a tail?\n",
    "\n",
    "def find_head(n, f, u, times, event):\n",
    "    #flip=10 heads\n",
    "    #times=number of tosses/flips\n",
    "    #n=total number of coins\n",
    "    #f=fair coin\n",
    "    #u=unfair coin\n",
    "    \n",
    "    if event=='head':\n",
    "        prob_event_fair=0.5\n",
    "        prob_event_unfair=1#this is true only if the unfair coin is double headed\n",
    "        \n",
    "    else:\n",
    "        prob_event_fair=0.5\n",
    "        prob_event_unfair=0\n",
    "        \n",
    "        \n",
    "    event_times_fair= prob_event_fair**times\n",
    "    event_times_unfair=prob_event_unfair**times\n",
    "    prob_fair=f/n\n",
    "    prob_unfair=u/n\n",
    "    \n",
    "    conditional_prob_fair = (event_times_fair*prob_fair)/(event_times_fair*prob_fair + event_times_unfair*prob_unfair)\n",
    "    conditional_prob_unfair = (event_times_unfair*prob_unfair)/(event_times_unfair*prob_unfair + event_times_fair*prob_fair)\n",
    "    \n",
    "    prob_next= (prob_event_fair*conditional_prob_fair) + (prob_event_unfair*conditional_prob_unfair)\n",
    "    \n",
    "    return prob_next\n",
    "    \n",
    "    \n",
    "    "
   ]
  },
  {
   "cell_type": "code",
   "execution_count": 34,
   "metadata": {},
   "outputs": [
    {
     "data": {
      "text/plain": [
       "0.5"
      ]
     },
     "execution_count": 34,
     "metadata": {},
     "output_type": "execute_result"
    }
   ],
   "source": [
    "find_head(1000, 999, 1, 10, 'tail')"
   ]
  }
 ],
 "metadata": {
  "kernelspec": {
   "display_name": "Python 3",
   "language": "python",
   "name": "python3"
  },
  "language_info": {
   "codemirror_mode": {
    "name": "ipython",
    "version": 3
   },
   "file_extension": ".py",
   "mimetype": "text/x-python",
   "name": "python",
   "nbconvert_exporter": "python",
   "pygments_lexer": "ipython3",
   "version": "3.7.4"
  }
 },
 "nbformat": 4,
 "nbformat_minor": 2
}
