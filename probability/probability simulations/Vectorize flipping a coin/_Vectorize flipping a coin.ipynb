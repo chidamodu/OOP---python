{
 "cells": [
  {
   "cell_type": "code",
   "execution_count": null,
   "metadata": {},
   "outputs": [],
   "source": [
    "\n",
    "Simulate flipping a coin N times and write out the number of tails. The code should be vectorized, i.e., there must \n",
    "be no loops in Python.\n",
    "\n",
    "Hint. Constructions like numpy.where(r<=0.5, 1, 0) combined with numpy.sum, or r[r<=0.5].size, are useful, where r is \n",
    "an array of random numbers between 0 and 1.\n",
    "\n"
   ]
  },
  {
   "cell_type": "code",
   "execution_count": 21,
   "metadata": {},
   "outputs": [],
   "source": [
    "import numpy as np\n",
    "def vectorize_flip(N):\n",
    "\n",
    "    flips=np.random.randint(2, size=N)\n",
    "    \n",
    "    return ('Coin flipped %d times, number of tails: %d' % (N, np.sum(flips)))"
   ]
  },
  {
   "cell_type": "code",
   "execution_count": 22,
   "metadata": {},
   "outputs": [
    {
     "data": {
      "text/plain": [
       "'Coin flipped 10000000 times, number of tails: 4996617'"
      ]
     },
     "execution_count": 22,
     "metadata": {},
     "output_type": "execute_result"
    }
   ],
   "source": [
    "vectorize_flip(10000000)"
   ]
  }
 ],
 "metadata": {
  "kernelspec": {
   "display_name": "Python 3",
   "language": "python",
   "name": "python3"
  },
  "language_info": {
   "codemirror_mode": {
    "name": "ipython",
    "version": 3
   },
   "file_extension": ".py",
   "mimetype": "text/x-python",
   "name": "python",
   "nbconvert_exporter": "python",
   "pygments_lexer": "ipython3",
   "version": "3.7.4"
  }
 },
 "nbformat": 4,
 "nbformat_minor": 2
}
