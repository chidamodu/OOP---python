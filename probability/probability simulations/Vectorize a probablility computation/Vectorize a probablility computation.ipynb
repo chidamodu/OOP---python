{
 "cells": [
  {
   "cell_type": "code",
   "execution_count": null,
   "metadata": {},
   "outputs": [],
   "source": [
    "The idea is to avoid loops and vectorize computations\n",
    "\n",
    "The purpose of this exercise is to speed up the code in Exercise 2: Compute a probability by vectorization.\n",
    "\n",
    "Hint. For an array r of uniformly distributed random numbers on [0,1), make use of r1 = r[r>0.5] and r1[r1<0.6]. \n",
    "An alternative is numpy.where combine with a compound boolean expression with numpy.logical_and(0.5>=r, r<=0.6). \n",
    "                                                                 \n",
    "                                                                 \n",
    "                                                                 "
   ]
  },
  {
   "cell_type": "code",
   "execution_count": 18,
   "metadata": {},
   "outputs": [
    {
     "data": {
      "text/plain": [
       "array([ True, False, False, ...,  True, False, False])"
      ]
     },
     "execution_count": 18,
     "metadata": {},
     "output_type": "execute_result"
    }
   ],
   "source": [
    "import random\n",
    "import numpy as np\n",
    "import operator as op\n",
    "\n",
    "arr=np.random.uniform(size=1000000)\n",
    "condition=op.and_(0.5>=arr, arr<=0.6)\n",
    "condition"
   ]
  },
  {
   "cell_type": "code",
   "execution_count": 19,
   "metadata": {},
   "outputs": [
    {
     "data": {
      "text/plain": [
       "array([0.23350901, 0.94662293, 0.60595385, ..., 0.06537547, 0.63017846,\n",
       "       0.70331602])"
      ]
     },
     "execution_count": 19,
     "metadata": {},
     "output_type": "execute_result"
    }
   ],
   "source": [
    "arr"
   ]
  },
  {
   "cell_type": "code",
   "execution_count": 20,
   "metadata": {},
   "outputs": [
    {
     "name": "stdout",
     "output_type": "stream",
     "text": [
      "499898\n"
     ]
    }
   ],
   "source": [
    "This .size method only provides the number of True conditions\n",
    "\n",
    "print(arr[condition].size)"
   ]
  },
  {
   "cell_type": "code",
   "execution_count": 28,
   "metadata": {},
   "outputs": [
    {
     "data": {
      "text/plain": [
       "499898"
      ]
     },
     "execution_count": 28,
     "metadata": {},
     "output_type": "execute_result"
    }
   ],
   "source": [
    "To count the number of true conditions \n",
    "\n",
    "np.size(np.where(condition==True))"
   ]
  },
  {
   "cell_type": "code",
   "execution_count": 23,
   "metadata": {},
   "outputs": [],
   "source": [
    "Another way to count the conditions\n",
    "\n",
    "unique, counts = np.unique(condition, return_counts=True)"
   ]
  },
  {
   "cell_type": "code",
   "execution_count": 24,
   "metadata": {},
   "outputs": [
    {
     "data": {
      "text/plain": [
       "array([500102, 499898])"
      ]
     },
     "execution_count": 24,
     "metadata": {},
     "output_type": "execute_result"
    }
   ],
   "source": [
    "counts"
   ]
  }
 ],
 "metadata": {
  "kernelspec": {
   "display_name": "Python 3",
   "language": "python",
   "name": "python3"
  },
  "language_info": {
   "codemirror_mode": {
    "name": "ipython",
    "version": 3
   },
   "file_extension": ".py",
   "mimetype": "text/x-python",
   "name": "python",
   "nbconvert_exporter": "python",
   "pygments_lexer": "ipython3",
   "version": "3.7.4"
  }
 },
 "nbformat": 4,
 "nbformat_minor": 2
}
