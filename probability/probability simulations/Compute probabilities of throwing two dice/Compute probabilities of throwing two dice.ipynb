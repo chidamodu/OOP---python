{
 "cells": [
  {
   "cell_type": "code",
   "execution_count": null,
   "metadata": {},
   "outputs": [],
   "source": [
    "\n",
    "Throw two dice a large number of times in a program. Record the sum of the eyes each time and count how many times \n",
    "each of the possibilities for the sum (2, 3, …, 12) appear. Compute the corresponding probabilities and compare them \n",
    "with the exact values. \n",
    "(To find the exact probabilities, set up all the 6×6 possible outcomes of throwing two dice, and then count how many \n",
    "of them that has a sum s for s=2,3,…,12.)\n",
    "\n"
   ]
  },
  {
   "cell_type": "code",
   "execution_count": 6,
   "metadata": {},
   "outputs": [],
   "source": [
    "#Calculating exact frequencies\n",
    "\n",
    "from random import randint\n",
    "\n",
    "\n",
    "def exact_frequencies():\n",
    "    frequencies = {}\n",
    "    for s in range(2, 13):\n",
    "        frequency = 0\n",
    "        for d1 in range(1, 7):\n",
    "            for d2 in range(1, 7):\n",
    "                if d1 + d2 == s:\n",
    "                    frequency += 1\n",
    "        frequencies[s] = frequency\n",
    "    return frequencies\n"
   ]
  },
  {
   "cell_type": "code",
   "execution_count": 8,
   "metadata": {},
   "outputs": [],
   "source": [
    "#Calculating approx frequencies\n",
    "\n",
    "def calc_frequencies(N):\n",
    "    frequencies = {i: 0 for i in range(2, 13)}\n",
    "    for exp in range(N):\n",
    "        d1, d2 = randint(1, 6), randint(1, 6)\n",
    "        frequencies[d1 + d2] += 1\n",
    "    frequencies = {i: j * 36 / float(N) for (i, j) in frequencies.items()}\n",
    "    return frequencies\n",
    "\n"
   ]
  },
  {
   "cell_type": "code",
   "execution_count": 10,
   "metadata": {},
   "outputs": [],
   "source": [
    "exact_frequencies = exact_frequencies\n",
    "approx_frequencies = calc_frequencies(10000)"
   ]
  },
  {
   "cell_type": "code",
   "execution_count": 11,
   "metadata": {},
   "outputs": [
    {
     "data": {
      "text/plain": [
       "{2: 1, 3: 2, 4: 3, 5: 4, 6: 5, 7: 6, 8: 5, 9: 4, 10: 3, 11: 2, 12: 1}"
      ]
     },
     "execution_count": 11,
     "metadata": {},
     "output_type": "execute_result"
    }
   ],
   "source": [
    "exact_frequencies"
   ]
  },
  {
   "cell_type": "code",
   "execution_count": 12,
   "metadata": {},
   "outputs": [
    {
     "data": {
      "text/plain": [
       "{2: 1.1592,\n",
       " 3: 2.034,\n",
       " 4: 2.9736,\n",
       " 5: 4.0104,\n",
       " 6: 4.8888,\n",
       " 7: 6.1056,\n",
       " 8: 4.8276,\n",
       " 9: 3.9636,\n",
       " 10: 3.1032,\n",
       " 11: 1.944,\n",
       " 12: 0.99}"
      ]
     },
     "execution_count": 12,
     "metadata": {},
     "output_type": "execute_result"
    }
   ],
   "source": [
    "approx_frequencies"
   ]
  },
  {
   "cell_type": "code",
   "execution_count": 15,
   "metadata": {},
   "outputs": [
    {
     "name": "stdout",
     "output_type": "stream",
     "text": [
      "=================================================================================================\n",
      "Sum of eyes               2      3      4      5      6      7      8      9     10     11     12\n",
      "-------------------------------------------------------------------------------------------------\n",
      "Approx. frequencies   1.159  2.034  2.974  4.010  4.889  6.106  4.828  3.964  3.103  1.944  0.990\n",
      "Exact frequencies         1      2      3      4      5      6      5      4      3      2      1\n",
      "=================================================================================================\n"
     ]
    }
   ],
   "source": [
    "#Let's print out a neat table here:\n",
    "\n",
    "length = 97\n",
    "print('=' * length)\n",
    "header = '%-20s' % 'Sum of eyes'\n",
    "header += '%7s' * 11 % tuple(range(2, 13))\n",
    "print(header)\n",
    "print('-' * length)\n",
    "line1 = '%-20s' % 'Approx. frequencies'\n",
    "line1 += '%7.3f' * 11 % tuple([f for f in approx_frequencies.values()])\n",
    "print(line1)\n",
    "line2 = '%-20s' % 'Exact frequencies'\n",
    "line2 += '%7.0f' * 11 % tuple([f for f in exact_frequencies.values()])\n",
    "print(line2)\n",
    "print('=' * length)\n"
   ]
  }
 ],
 "metadata": {
  "kernelspec": {
   "display_name": "Python 3",
   "language": "python",
   "name": "python3"
  },
  "language_info": {
   "codemirror_mode": {
    "name": "ipython",
    "version": 3
   },
   "file_extension": ".py",
   "mimetype": "text/x-python",
   "name": "python",
   "nbconvert_exporter": "python",
   "pygments_lexer": "ipython3",
   "version": "3.7.4"
  }
 },
 "nbformat": 4,
 "nbformat_minor": 2
}
