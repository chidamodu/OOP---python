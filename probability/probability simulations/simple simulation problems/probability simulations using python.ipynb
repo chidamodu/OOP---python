{
 "cells": [
  {
   "cell_type": "code",
   "execution_count": null,
   "metadata": {},
   "outputs": [],
   "source": [
    "A box contains 10 white balls, 20 reds and 30 greens. Draw 5 balls with replacement… what is the probability that:\n",
    "a. All 5 are the same color"
   ]
  },
  {
   "cell_type": "code",
   "execution_count": 34,
   "metadata": {},
   "outputs": [],
   "source": [
    "import numpy as np\n",
    "from collections import defaultdict\n",
    "import random\n",
    "\n",
    "def probability_simulation(num): \n",
    "    resulta=0\n",
    "\n",
    "    d={}\n",
    "    for i in range(61):\n",
    "        if i <11:\n",
    "            d[i]='white'\n",
    "        \n",
    "        elif i>=11 and i<31:\n",
    "            d[i]='red'\n",
    "            \n",
    "        else:\n",
    "            d[i]='green'\n",
    "            \n",
    "            \n",
    "    for _ in range(num):\n",
    "        list_colors=[]\n",
    "        \n",
    "        for i in range(5):\n",
    "            list_colors.append(d[random.randint(0, 60)])\n",
    "            \n",
    "        \n",
    "        list_colors=np.array(list_colors)\n",
    "        \n",
    "        white=sum(list_colors=='white')\n",
    "        red=sum(list_colors=='red')\n",
    "        green=sum(list_colors=='green')\n",
    "        \n",
    "            \n",
    "        if red==5 or white==5 or green==5:\n",
    "            resulta+=1\n",
    "            \n",
    "            \n",
    "            \n",
    "    return resulta*100/num\n",
    "            \n",
    "            \n",
    "            \n",
    "    \n",
    "  "
   ]
  },
  {
   "cell_type": "code",
   "execution_count": 35,
   "metadata": {},
   "outputs": [
    {
     "data": {
      "text/plain": [
       "2.2"
      ]
     },
     "execution_count": 35,
     "metadata": {},
     "output_type": "execute_result"
    }
   ],
   "source": [
    "probability_simulation(1000)"
   ]
  },
  {
   "cell_type": "code",
   "execution_count": null,
   "metadata": {},
   "outputs": [],
   "source": [
    "\n",
    "Two unbiased dice are thrown once and the total score is observed. Use a simulation to find the estimated probability \n",
    "that the total score is even or greater than 7?\n",
    "\n"
   ]
  },
  {
   "cell_type": "code",
   "execution_count": 38,
   "metadata": {},
   "outputs": [],
   "source": [
    "import random\n",
    "\n",
    "def roll_dice(num):\n",
    "    total=0\n",
    "    \n",
    "    for i in range(num):\n",
    "        die1=random.randint(1, 6)#it includes 6 as well\n",
    "        die2=random.randint(1, 6)\n",
    "        \n",
    "        tot_score=die1+die2\n",
    "        \n",
    "        if (tot_score%2 ==0) or (tot_score>7):\n",
    "            total+=1\n",
    "            \n",
    "    return total*100/num"
   ]
  },
  {
   "cell_type": "code",
   "execution_count": 39,
   "metadata": {},
   "outputs": [
    {
     "data": {
      "text/plain": [
       "66.79"
      ]
     },
     "execution_count": 39,
     "metadata": {},
     "output_type": "execute_result"
    }
   ],
   "source": [
    "roll_dice(100000)"
   ]
  }
 ],
 "metadata": {
  "kernelspec": {
   "display_name": "Python 3",
   "language": "python",
   "name": "python3"
  },
  "language_info": {
   "codemirror_mode": {
    "name": "ipython",
    "version": 3
   },
   "file_extension": ".py",
   "mimetype": "text/x-python",
   "name": "python",
   "nbconvert_exporter": "python",
   "pygments_lexer": "ipython3",
   "version": "3.7.4"
  }
 },
 "nbformat": 4,
 "nbformat_minor": 2
}
