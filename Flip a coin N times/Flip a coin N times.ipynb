{
 "cells": [
  {
   "cell_type": "code",
   "execution_count": null,
   "metadata": {},
   "outputs": [],
   "source": [
    "Flip a coin N times\n",
    "\n",
    "Make a program that simulates flipping a coin N times. Print out tail or head for each flip and let the program count \n",
    "and print the number of heads.\n",
    "\n",
    "Hint. Use r = random.random() and define head as r <= 0.5, or draw an integer among {0,1} \n",
    "with r = random.randint(0,1) and define head when r is 0.\n",
    "\n"
   ]
  },
  {
   "cell_type": "code",
   "execution_count": 34,
   "metadata": {},
   "outputs": [],
   "source": [
    "\n",
    "def flip_coin(N, start, end):\n",
    "    import random\n",
    "    \n",
    "    head, tail=0,0\n",
    "    for flip in range(N):\n",
    "        r=random.random() * (end - start) + start\n",
    "        if r<=0.5:\n",
    "            \n",
    "            head+=1\n",
    "            print(\"For flip {} it's head\".format(flip))\n",
    "\n",
    "        else:\n",
    "            tail+=1\n",
    "            print(\"For flip {} it's tail\".format(flip))\n",
    "\n",
    "            \n",
    "    return head\n",
    "        \n",
    "#      "
   ]
  },
  {
   "cell_type": "code",
   "execution_count": 35,
   "metadata": {},
   "outputs": [
    {
     "name": "stdout",
     "output_type": "stream",
     "text": [
      "For flip 0 it's tail\n",
      "For flip 1 it's head\n",
      "For flip 2 it's tail\n",
      "For flip 3 it's head\n",
      "For flip 4 it's tail\n",
      "For flip 5 it's tail\n",
      "For flip 6 it's tail\n",
      "For flip 7 it's head\n",
      "For flip 8 it's head\n",
      "For flip 9 it's head\n",
      "For flip 10 it's head\n",
      "For flip 11 it's head\n",
      "For flip 12 it's head\n",
      "For flip 13 it's tail\n",
      "For flip 14 it's tail\n",
      "For flip 15 it's head\n",
      "For flip 16 it's head\n",
      "For flip 17 it's tail\n",
      "For flip 18 it's head\n",
      "For flip 19 it's tail\n",
      "For flip 20 it's tail\n",
      "For flip 21 it's head\n",
      "For flip 22 it's head\n",
      "For flip 23 it's tail\n",
      "For flip 24 it's tail\n",
      "For flip 25 it's tail\n",
      "For flip 26 it's tail\n",
      "For flip 27 it's head\n",
      "For flip 28 it's head\n",
      "For flip 29 it's tail\n",
      "For flip 30 it's tail\n",
      "For flip 31 it's tail\n",
      "For flip 32 it's head\n",
      "For flip 33 it's head\n",
      "For flip 34 it's tail\n",
      "For flip 35 it's head\n",
      "For flip 36 it's head\n",
      "For flip 37 it's head\n",
      "For flip 38 it's head\n",
      "For flip 39 it's head\n",
      "For flip 40 it's tail\n",
      "For flip 41 it's head\n",
      "For flip 42 it's tail\n",
      "For flip 43 it's tail\n",
      "For flip 44 it's head\n",
      "For flip 45 it's head\n",
      "For flip 46 it's tail\n",
      "For flip 47 it's tail\n",
      "For flip 48 it's tail\n",
      "For flip 49 it's tail\n",
      "For flip 50 it's tail\n",
      "For flip 51 it's tail\n",
      "For flip 52 it's head\n",
      "For flip 53 it's tail\n",
      "For flip 54 it's head\n",
      "For flip 55 it's head\n",
      "For flip 56 it's tail\n",
      "For flip 57 it's tail\n",
      "For flip 58 it's tail\n",
      "For flip 59 it's head\n",
      "For flip 60 it's tail\n",
      "For flip 61 it's head\n",
      "For flip 62 it's head\n",
      "For flip 63 it's head\n",
      "For flip 64 it's head\n",
      "For flip 65 it's head\n",
      "For flip 66 it's tail\n",
      "For flip 67 it's head\n",
      "For flip 68 it's tail\n",
      "For flip 69 it's tail\n",
      "For flip 70 it's tail\n",
      "For flip 71 it's head\n",
      "For flip 72 it's tail\n",
      "For flip 73 it's tail\n",
      "For flip 74 it's tail\n",
      "For flip 75 it's head\n",
      "For flip 76 it's head\n",
      "For flip 77 it's tail\n",
      "For flip 78 it's head\n",
      "For flip 79 it's tail\n",
      "For flip 80 it's head\n",
      "For flip 81 it's tail\n",
      "For flip 82 it's tail\n",
      "For flip 83 it's head\n",
      "For flip 84 it's tail\n",
      "For flip 85 it's head\n",
      "For flip 86 it's head\n",
      "For flip 87 it's head\n",
      "For flip 88 it's tail\n",
      "For flip 89 it's head\n",
      "For flip 90 it's head\n",
      "For flip 91 it's tail\n",
      "For flip 92 it's tail\n",
      "For flip 93 it's tail\n",
      "For flip 94 it's tail\n",
      "For flip 95 it's head\n",
      "For flip 96 it's tail\n",
      "For flip 97 it's head\n",
      "For flip 98 it's head\n",
      "For flip 99 it's head\n"
     ]
    },
    {
     "data": {
      "text/plain": [
       "50"
      ]
     },
     "execution_count": 35,
     "metadata": {},
     "output_type": "execute_result"
    }
   ],
   "source": [
    "flip_coin(100, 0.0, 1.0)"
   ]
  },
  {
   "cell_type": "code",
   "execution_count": 29,
   "metadata": {},
   "outputs": [
    {
     "data": {
      "text/plain": [
       "0.3727677586074618"
      ]
     },
     "execution_count": 29,
     "metadata": {},
     "output_type": "execute_result"
    }
   ],
   "source": [
    "Have to scale and shift because random.randint does not work for float values\n",
    "\n",
    "import random\n",
    "random.random() * (1.0 - 0.0) + 0.0"
   ]
  },
  {
   "cell_type": "code",
   "execution_count": 25,
   "metadata": {},
   "outputs": [
    {
     "data": {
      "text/plain": [
       "99.0"
      ]
     },
     "execution_count": 25,
     "metadata": {},
     "output_type": "execute_result"
    }
   ],
   "source": [
    "99*1.0"
   ]
  },
  {
   "cell_type": "code",
   "execution_count": 33,
   "metadata": {},
   "outputs": [
    {
     "data": {
      "text/plain": [
       "array([1., 0., 1., 1., 0., 0., 1., 1., 0., 0.])"
      ]
     },
     "execution_count": 33,
     "metadata": {},
     "output_type": "execute_result"
    }
   ],
   "source": [
    "# can use .astype(\"float\") after using randint but that copies the given array\n",
    "\n",
    "\n",
    "import numpy as np\n",
    "np.random.randint(2, size=10).astype(\"float\")\n"
   ]
  }
 ],
 "metadata": {
  "kernelspec": {
   "display_name": "Python 3",
   "language": "python",
   "name": "python3"
  },
  "language_info": {
   "codemirror_mode": {
    "name": "ipython",
    "version": 3
   },
   "file_extension": ".py",
   "mimetype": "text/x-python",
   "name": "python",
   "nbconvert_exporter": "python",
   "pygments_lexer": "ipython3",
   "version": "3.7.4"
  }
 },
 "nbformat": 4,
 "nbformat_minor": 2
}
