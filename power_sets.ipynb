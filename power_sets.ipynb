{
 "cells": [
  {
   "cell_type": "code",
   "execution_count": null,
   "metadata": {
    "collapsed": true
   },
   "outputs": [],
   "source": [
    "Python function to express power sets\n",
    "Create a Python function that generates the power set given a set of values. For example, if you are given the following set:\n",
    "set = {1, 2, 3}\n",
    "Your python function should return the corresponding power set:\n",
    "power set = { {}, {1}, {2}, {3}, {1, 2}, {2, 3}, {1, 3}, {1, 2, 3} }\n",
    "\n",
    "\n",
    "def powerset(s):\n",
    "    x = len(s)\n",
    "    for i in range(1 << x):#left wise bit operator\n",
    "        print({s[j] for j in range(x) if (i & (1 << j))})#you can also do set comprehension\n",
    "\n",
    "powerset(list(s))\n",
    "\n",
    "s = {1, 2, 3} as input\n",
    "Outcome:\n",
    "set()\n",
    "{1}\n",
    "{2}\n",
    "{1, 2}\n",
    "{3}\n",
    "{1, 3}\n",
    "{2, 3}\n",
    "{1, 2, 3}\n"
   ]
  },
  {
   "cell_type": "code",
   "execution_count": null,
   "metadata": {
    "collapsed": true
   },
   "outputs": [],
   "source": [
    "An alternative solution using chain.from_iterable and combinations\n",
    "from itertools import chain, combinations\n",
    "s = {1, 2, 3}\n",
    "for z in chain.from_iterable(combinations(s, r) for r in range(len(s)+1)):\n",
    "    print(z)\n",
    "\n",
    "Outcome:\n",
    "()\n",
    "(1,)\n",
    "(2,)\n",
    "(3,)\n",
    "(1, 2)\n",
    "(1, 3)\n",
    "(2, 3)\n",
    "(1, 2, 3)"
   ]
  }
 ],
 "metadata": {
  "kernelspec": {
   "display_name": "Python [conda root]",
   "language": "python",
   "name": "conda-root-py"
  },
  "language_info": {
   "codemirror_mode": {
    "name": "ipython",
    "version": 3
   },
   "file_extension": ".py",
   "mimetype": "text/x-python",
   "name": "python",
   "nbconvert_exporter": "python",
   "pygments_lexer": "ipython3",
   "version": "3.5.4"
  }
 },
 "nbformat": 4,
 "nbformat_minor": 2
}
