{
 "cells": [
  {
   "cell_type": "code",
   "execution_count": null,
   "metadata": {
    "collapsed": true
   },
   "outputs": [],
   "source": [
    "#Basic Probability Puzzles #10\n",
    "(1/3 * 4/5) + (2/3 * 1/5) = 2/5\n",
    "\n",
    "Idea:\n",
    "when Bill is selected nina probability becomes 1-(1/5) = 4/5 (why? because Nina is not selected)\n",
    "#the question asks to find the probability that only one is selected\n",
    "\n",
    "when Nina is selected nina probability becomes 1-(1/3) = 2/3\n",
    "\n",
    "answer: (4/5 * 1/3) + (2/3 * 1/5)\n"
   ]
  }
 ],
 "metadata": {
  "kernelspec": {
   "display_name": "Python 3",
   "language": "python",
   "name": "python3"
  },
  "language_info": {
   "codemirror_mode": {
    "name": "ipython",
    "version": 3
   },
   "file_extension": ".py",
   "mimetype": "text/x-python",
   "name": "python",
   "nbconvert_exporter": "python",
   "pygments_lexer": "ipython3",
   "version": "3.6.1"
  }
 },
 "nbformat": 4,
 "nbformat_minor": 2
}
