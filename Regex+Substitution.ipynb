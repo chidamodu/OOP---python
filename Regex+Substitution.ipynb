{
 "cells": [
  {
   "cell_type": "code",
   "execution_count": 19,
   "metadata": {},
   "outputs": [
    {
     "name": "stdout",
     "output_type": "stream",
     "text": [
      "8\n",
      "hi\n",
      "a = 1;\n",
      "b = input();\n",
      "if a + b > 0 && a - b < 0:\n",
      "start()\n",
      "elif a*b > 10 || a/b < 1:\n",
      "stop()\n",
      "print set(list(a)) | set(list(b)) \n",
      "hia = 1;b = input();if a + b > 0 and a - b < 0:start()elif a*b > 10 or a/b < 1:stop()print set(list(a)) | set(list(b)) \n"
     ]
    }
   ],
   "source": [
    "#6.25-break back at 6.47 \n",
    "\n",
    "#6.47 - 7.15 took a break from 7.15 to 7.23\n",
    "import re\n",
    "def regex_substitute(text):\n",
    "    print(re.sub(r'(?<= )(&&|\\|\\|)(?= )', lambda x: 'and' if x.group() == '&&' else 'or', text))\n",
    "#     print(re.sub(r'[ && ]?', 'and', text))\n",
    "#     p = r'(?<= )&&(?= )'\n",
    "#     print(re.sub(p, \"and\", text))\n",
    "    \n",
    "    \n",
    "    \n",
    "if __name__==\"__main__\":\n",
    "    text=\"\"\n",
    "    s=int(input())\n",
    "    for i in range(s):\n",
    "        text+=\"\".join(input())    \n",
    "    regex_substitute(text)\n",
    "\n",
    "\n",
    "# article = re.sub(r'[ && ]?', 'and', article)\n",
    "# re.sub(r'[ || ]?', 'or', article)"
   ]
  },
  {
   "cell_type": "code",
   "execution_count": null,
   "metadata": {
    "collapsed": true
   },
   "outputs": [],
   "source": [
    "#Hackerrank submission\n",
    "import re\n",
    "def regex_substitute(text):\n",
    "    for i in range(N):\n",
    "        print(re.sub(r'(?<= )(&&|\\|\\|)(?= )', lambda x: 'and' if x.group() == '&&' else 'or', input()))\n",
    "        \n",
    "if __name__==\"__main__\":\n",
    "    text=\"\"\n",
    "    N=int(input())\n",
    "    # for i in range(s):\n",
    "    #     text+=\"\".join(input())    \n",
    "    regex_substitute(N)\n"
   ]
  }
 ],
 "metadata": {
  "kernelspec": {
   "display_name": "Python 3",
   "language": "python",
   "name": "python3"
  },
  "language_info": {
   "codemirror_mode": {
    "name": "ipython",
    "version": 3
   },
   "file_extension": ".py",
   "mimetype": "text/x-python",
   "name": "python",
   "nbconvert_exporter": "python",
   "pygments_lexer": "ipython3",
   "version": "3.6.1"
  }
 },
 "nbformat": 4,
 "nbformat_minor": 2
}
