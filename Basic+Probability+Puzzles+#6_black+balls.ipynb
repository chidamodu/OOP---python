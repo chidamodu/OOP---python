{
 "cells": [
  {
   "cell_type": "code",
   "execution_count": null,
   "metadata": {
    "collapsed": true
   },
   "outputs": [],
   "source": [
    "#4.51 - 4.53\n",
    "\n",
    "P(white from X) = 5/9\n",
    "\n",
    "P(black from X) = 4/9\n",
    "\n",
    "P(black from Y given white from X) = 6/14\n",
    "\n",
    "P(black from Y given black from X) = 7/14\n",
    "\n",
    "(5/9)*(6/14) = 30/126\n",
    "\n",
    "(4/9)*(7/14) = 28/126\n",
    "\n",
    "Add them: 30/126 + 28/126 = 58/126\n",
    "\n",
    "Simplified: 29/63\n",
    "\n"
   ]
  }
 ],
 "metadata": {
  "kernelspec": {
   "display_name": "Python 3",
   "language": "python",
   "name": "python3"
  },
  "language_info": {
   "codemirror_mode": {
    "name": "ipython",
    "version": 3
   },
   "file_extension": ".py",
   "mimetype": "text/x-python",
   "name": "python",
   "nbconvert_exporter": "python",
   "pygments_lexer": "ipython3",
   "version": "3.6.1"
  }
 },
 "nbformat": 4,
 "nbformat_minor": 2
}
